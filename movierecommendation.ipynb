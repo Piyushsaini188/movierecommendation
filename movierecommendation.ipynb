{
  "cells": [
    {
      "cell_type": "markdown",
      "metadata": {
        "id": "oo-xxGHPD4Wv"
      },
      "source": [
        " MOVIE RECOMMENDATION SYSTEM\n",
        "\n",
        "\n"
      ]
    },
    {
      "cell_type": "markdown",
      "metadata": {
        "id": "3v4f6qldEqZ9"
      },
      "source": [
        "Objective"
      ]
    },
    {
      "cell_type": "markdown",
      "metadata": {
        "id": "hp1G53E_Fgyv"
      },
      "source": [
        "To develop a robust movie recommendation system using data science and Python, aimed at providing personalized movie suggestions to users based on their viewing history, preferences, and behavior. This system will leverage machine learning algorithms and collaborative filtering techniques to enhance user experience and engagement on streaming platforms."
      ]
    },
    {
      "cell_type": "markdown",
      "metadata": {
        "id": "IbdR0uaCFnPf"
      },
      "source": [
        "Data Source"
      ]
    },
    {
      "cell_type": "markdown",
      "metadata": {
        "id": "w5KO-hI6Ften"
      },
      "source": [
        "https://github.com/YBI-Foundation/Dataset/raw/main/Movies%20Recommendation.csv"
      ]
    },
    {
      "cell_type": "markdown",
      "metadata": {
        "id": "SVU-F0xkLF06"
      },
      "source": [
        "Imported library"
      ]
    },
    {
      "cell_type": "code",
      "execution_count": 1,
      "metadata": {
        "id": "4P6VScHUFrfo"
      },
      "outputs": [],
      "source": [
        "import pandas as pd\n",
        "import numpy as np"
      ]
    },
    {
      "cell_type": "markdown",
      "metadata": {
        "id": "zoszDhuvLiPg"
      },
      "source": [
        "Imported Dataset"
      ]
    },
    {
      "cell_type": "code",
      "execution_count": 2,
      "metadata": {
        "id": "3BrufcgLDyTO"
      },
      "outputs": [],
      "source": [
        "df = pd.read_csv('https://github.com/YBI-Foundation/Dataset/raw/main/Movies%20Recommendation.csv')\n"
      ]
    },
    {
      "cell_type": "code",
      "execution_count": 3,
      "metadata": {
        "colab": {
          "base_uri": "https://localhost:8080/",
          "height": 672
        },
        "id": "XMcGmmtNMNkz",
        "outputId": "22668be6-58c7-41b1-ecf7-51bc14c1a869"
      },
      "outputs": [
        {
          "output_type": "execute_result",
          "data": {
            "text/plain": [
              "   Movie_ID      Movie_Title                       Movie_Genre Movie_Language  \\\n",
              "0         1       Four Rooms                      Crime Comedy             en   \n",
              "1         2        Star Wars  Adventure Action Science Fiction             en   \n",
              "2         3     Finding Nemo                  Animation Family             en   \n",
              "3         4     Forrest Gump              Comedy Drama Romance             en   \n",
              "4         5  American Beauty                             Drama             en   \n",
              "\n",
              "   Movie_Budget  Movie_Popularity Movie_Release_Date  Movie_Revenue  \\\n",
              "0       4000000         22.876230         09-12-1995        4300000   \n",
              "1      11000000        126.393695         25-05-1977      775398007   \n",
              "2      94000000         85.688789         30-05-2003      940335536   \n",
              "3      55000000        138.133331         06-07-1994      677945399   \n",
              "4      15000000         80.878605         15-09-1999      356296601   \n",
              "\n",
              "   Movie_Runtime  Movie_Vote  ...  \\\n",
              "0           98.0         6.5  ...   \n",
              "1          121.0         8.1  ...   \n",
              "2          100.0         7.6  ...   \n",
              "3          142.0         8.2  ...   \n",
              "4          122.0         7.9  ...   \n",
              "\n",
              "                                      Movie_Homepage  \\\n",
              "0                                                NaN   \n",
              "1  http://www.starwars.com/films/star-wars-episod...   \n",
              "2              http://movies.disney.com/finding-nemo   \n",
              "3                                                NaN   \n",
              "4                      http://www.dreamworks.com/ab/   \n",
              "\n",
              "                                      Movie_Keywords  \\\n",
              "0          hotel new year's eve witch bet hotel room   \n",
              "1        android galaxy hermit death star lightsaber   \n",
              "2  father son relationship harbor underwater fish...   \n",
              "3  vietnam veteran hippie mentally disabled runni...   \n",
              "4  male nudity female nudity adultery midlife cri...   \n",
              "\n",
              "                                      Movie_Overview  \\\n",
              "0  It's Ted the Bellhop's first night on the job....   \n",
              "1  Princess Leia is captured and held hostage by ...   \n",
              "2  Nemo, an adventurous young clownfish, is unexp...   \n",
              "3  A man with a low IQ has accomplished great thi...   \n",
              "4  Lester Burnham, a depressed suburban father in...   \n",
              "\n",
              "                              Movie_Production_House  \\\n",
              "0  [{\"name\": \"Miramax Films\", \"id\": 14}, {\"name\":...   \n",
              "1  [{\"name\": \"Lucasfilm\", \"id\": 1}, {\"name\": \"Twe...   \n",
              "2     [{\"name\": \"Pixar Animation Studios\", \"id\": 3}]   \n",
              "3          [{\"name\": \"Paramount Pictures\", \"id\": 4}]   \n",
              "4  [{\"name\": \"DreamWorks SKG\", \"id\": 27}, {\"name\"...   \n",
              "\n",
              "                            Movie_Production_Country  \\\n",
              "0  [{\"iso_3166_1\": \"US\", \"name\": \"United States o...   \n",
              "1  [{\"iso_3166_1\": \"US\", \"name\": \"United States o...   \n",
              "2  [{\"iso_3166_1\": \"US\", \"name\": \"United States o...   \n",
              "3  [{\"iso_3166_1\": \"US\", \"name\": \"United States o...   \n",
              "4  [{\"iso_3166_1\": \"US\", \"name\": \"United States o...   \n",
              "\n",
              "                      Movie_Spoken_Language  \\\n",
              "0  [{\"iso_639_1\": \"en\", \"name\": \"English\"}]   \n",
              "1  [{\"iso_639_1\": \"en\", \"name\": \"English\"}]   \n",
              "2  [{\"iso_639_1\": \"en\", \"name\": \"English\"}]   \n",
              "3  [{\"iso_639_1\": \"en\", \"name\": \"English\"}]   \n",
              "4  [{\"iso_639_1\": \"en\", \"name\": \"English\"}]   \n",
              "\n",
              "                                       Movie_Tagline  \\\n",
              "0  Twelve outrageous guests. Four scandalous requ...   \n",
              "1       A long time ago in a galaxy far, far away...   \n",
              "2  There are 3.7 trillion fish in the ocean, they...   \n",
              "3  The world will never be the same, once you've ...   \n",
              "4                                       Look closer.   \n",
              "\n",
              "                                          Movie_Cast  \\\n",
              "0  Tim Roth Antonio Banderas Jennifer Beals Madon...   \n",
              "1  Mark Hamill Harrison Ford Carrie Fisher Peter ...   \n",
              "2  Albert Brooks Ellen DeGeneres Alexander Gould ...   \n",
              "3  Tom Hanks Robin Wright Gary Sinise Mykelti Wil...   \n",
              "4  Kevin Spacey Annette Bening Thora Birch Wes Be...   \n",
              "\n",
              "                                          Movie_Crew   Movie_Director  \n",
              "0  [{'name': 'Allison Anders', 'gender': 1, 'depa...   Allison Anders  \n",
              "1  [{'name': 'George Lucas', 'gender': 2, 'depart...     George Lucas  \n",
              "2  [{'name': 'Andrew Stanton', 'gender': 2, 'depa...   Andrew Stanton  \n",
              "3  [{'name': 'Alan Silvestri', 'gender': 2, 'depa...  Robert Zemeckis  \n",
              "4  [{'name': 'Thomas Newman', 'gender': 2, 'depar...       Sam Mendes  \n",
              "\n",
              "[5 rows x 21 columns]"
            ],
            "text/html": [
              "\n",
              "  <div id=\"df-6ac56350-de68-4992-8600-d102c3c99d7c\" class=\"colab-df-container\">\n",
              "    <div>\n",
              "<style scoped>\n",
              "    .dataframe tbody tr th:only-of-type {\n",
              "        vertical-align: middle;\n",
              "    }\n",
              "\n",
              "    .dataframe tbody tr th {\n",
              "        vertical-align: top;\n",
              "    }\n",
              "\n",
              "    .dataframe thead th {\n",
              "        text-align: right;\n",
              "    }\n",
              "</style>\n",
              "<table border=\"1\" class=\"dataframe\">\n",
              "  <thead>\n",
              "    <tr style=\"text-align: right;\">\n",
              "      <th></th>\n",
              "      <th>Movie_ID</th>\n",
              "      <th>Movie_Title</th>\n",
              "      <th>Movie_Genre</th>\n",
              "      <th>Movie_Language</th>\n",
              "      <th>Movie_Budget</th>\n",
              "      <th>Movie_Popularity</th>\n",
              "      <th>Movie_Release_Date</th>\n",
              "      <th>Movie_Revenue</th>\n",
              "      <th>Movie_Runtime</th>\n",
              "      <th>Movie_Vote</th>\n",
              "      <th>...</th>\n",
              "      <th>Movie_Homepage</th>\n",
              "      <th>Movie_Keywords</th>\n",
              "      <th>Movie_Overview</th>\n",
              "      <th>Movie_Production_House</th>\n",
              "      <th>Movie_Production_Country</th>\n",
              "      <th>Movie_Spoken_Language</th>\n",
              "      <th>Movie_Tagline</th>\n",
              "      <th>Movie_Cast</th>\n",
              "      <th>Movie_Crew</th>\n",
              "      <th>Movie_Director</th>\n",
              "    </tr>\n",
              "  </thead>\n",
              "  <tbody>\n",
              "    <tr>\n",
              "      <th>0</th>\n",
              "      <td>1</td>\n",
              "      <td>Four Rooms</td>\n",
              "      <td>Crime Comedy</td>\n",
              "      <td>en</td>\n",
              "      <td>4000000</td>\n",
              "      <td>22.876230</td>\n",
              "      <td>09-12-1995</td>\n",
              "      <td>4300000</td>\n",
              "      <td>98.0</td>\n",
              "      <td>6.5</td>\n",
              "      <td>...</td>\n",
              "      <td>NaN</td>\n",
              "      <td>hotel new year's eve witch bet hotel room</td>\n",
              "      <td>It's Ted the Bellhop's first night on the job....</td>\n",
              "      <td>[{\"name\": \"Miramax Films\", \"id\": 14}, {\"name\":...</td>\n",
              "      <td>[{\"iso_3166_1\": \"US\", \"name\": \"United States o...</td>\n",
              "      <td>[{\"iso_639_1\": \"en\", \"name\": \"English\"}]</td>\n",
              "      <td>Twelve outrageous guests. Four scandalous requ...</td>\n",
              "      <td>Tim Roth Antonio Banderas Jennifer Beals Madon...</td>\n",
              "      <td>[{'name': 'Allison Anders', 'gender': 1, 'depa...</td>\n",
              "      <td>Allison Anders</td>\n",
              "    </tr>\n",
              "    <tr>\n",
              "      <th>1</th>\n",
              "      <td>2</td>\n",
              "      <td>Star Wars</td>\n",
              "      <td>Adventure Action Science Fiction</td>\n",
              "      <td>en</td>\n",
              "      <td>11000000</td>\n",
              "      <td>126.393695</td>\n",
              "      <td>25-05-1977</td>\n",
              "      <td>775398007</td>\n",
              "      <td>121.0</td>\n",
              "      <td>8.1</td>\n",
              "      <td>...</td>\n",
              "      <td>http://www.starwars.com/films/star-wars-episod...</td>\n",
              "      <td>android galaxy hermit death star lightsaber</td>\n",
              "      <td>Princess Leia is captured and held hostage by ...</td>\n",
              "      <td>[{\"name\": \"Lucasfilm\", \"id\": 1}, {\"name\": \"Twe...</td>\n",
              "      <td>[{\"iso_3166_1\": \"US\", \"name\": \"United States o...</td>\n",
              "      <td>[{\"iso_639_1\": \"en\", \"name\": \"English\"}]</td>\n",
              "      <td>A long time ago in a galaxy far, far away...</td>\n",
              "      <td>Mark Hamill Harrison Ford Carrie Fisher Peter ...</td>\n",
              "      <td>[{'name': 'George Lucas', 'gender': 2, 'depart...</td>\n",
              "      <td>George Lucas</td>\n",
              "    </tr>\n",
              "    <tr>\n",
              "      <th>2</th>\n",
              "      <td>3</td>\n",
              "      <td>Finding Nemo</td>\n",
              "      <td>Animation Family</td>\n",
              "      <td>en</td>\n",
              "      <td>94000000</td>\n",
              "      <td>85.688789</td>\n",
              "      <td>30-05-2003</td>\n",
              "      <td>940335536</td>\n",
              "      <td>100.0</td>\n",
              "      <td>7.6</td>\n",
              "      <td>...</td>\n",
              "      <td>http://movies.disney.com/finding-nemo</td>\n",
              "      <td>father son relationship harbor underwater fish...</td>\n",
              "      <td>Nemo, an adventurous young clownfish, is unexp...</td>\n",
              "      <td>[{\"name\": \"Pixar Animation Studios\", \"id\": 3}]</td>\n",
              "      <td>[{\"iso_3166_1\": \"US\", \"name\": \"United States o...</td>\n",
              "      <td>[{\"iso_639_1\": \"en\", \"name\": \"English\"}]</td>\n",
              "      <td>There are 3.7 trillion fish in the ocean, they...</td>\n",
              "      <td>Albert Brooks Ellen DeGeneres Alexander Gould ...</td>\n",
              "      <td>[{'name': 'Andrew Stanton', 'gender': 2, 'depa...</td>\n",
              "      <td>Andrew Stanton</td>\n",
              "    </tr>\n",
              "    <tr>\n",
              "      <th>3</th>\n",
              "      <td>4</td>\n",
              "      <td>Forrest Gump</td>\n",
              "      <td>Comedy Drama Romance</td>\n",
              "      <td>en</td>\n",
              "      <td>55000000</td>\n",
              "      <td>138.133331</td>\n",
              "      <td>06-07-1994</td>\n",
              "      <td>677945399</td>\n",
              "      <td>142.0</td>\n",
              "      <td>8.2</td>\n",
              "      <td>...</td>\n",
              "      <td>NaN</td>\n",
              "      <td>vietnam veteran hippie mentally disabled runni...</td>\n",
              "      <td>A man with a low IQ has accomplished great thi...</td>\n",
              "      <td>[{\"name\": \"Paramount Pictures\", \"id\": 4}]</td>\n",
              "      <td>[{\"iso_3166_1\": \"US\", \"name\": \"United States o...</td>\n",
              "      <td>[{\"iso_639_1\": \"en\", \"name\": \"English\"}]</td>\n",
              "      <td>The world will never be the same, once you've ...</td>\n",
              "      <td>Tom Hanks Robin Wright Gary Sinise Mykelti Wil...</td>\n",
              "      <td>[{'name': 'Alan Silvestri', 'gender': 2, 'depa...</td>\n",
              "      <td>Robert Zemeckis</td>\n",
              "    </tr>\n",
              "    <tr>\n",
              "      <th>4</th>\n",
              "      <td>5</td>\n",
              "      <td>American Beauty</td>\n",
              "      <td>Drama</td>\n",
              "      <td>en</td>\n",
              "      <td>15000000</td>\n",
              "      <td>80.878605</td>\n",
              "      <td>15-09-1999</td>\n",
              "      <td>356296601</td>\n",
              "      <td>122.0</td>\n",
              "      <td>7.9</td>\n",
              "      <td>...</td>\n",
              "      <td>http://www.dreamworks.com/ab/</td>\n",
              "      <td>male nudity female nudity adultery midlife cri...</td>\n",
              "      <td>Lester Burnham, a depressed suburban father in...</td>\n",
              "      <td>[{\"name\": \"DreamWorks SKG\", \"id\": 27}, {\"name\"...</td>\n",
              "      <td>[{\"iso_3166_1\": \"US\", \"name\": \"United States o...</td>\n",
              "      <td>[{\"iso_639_1\": \"en\", \"name\": \"English\"}]</td>\n",
              "      <td>Look closer.</td>\n",
              "      <td>Kevin Spacey Annette Bening Thora Birch Wes Be...</td>\n",
              "      <td>[{'name': 'Thomas Newman', 'gender': 2, 'depar...</td>\n",
              "      <td>Sam Mendes</td>\n",
              "    </tr>\n",
              "  </tbody>\n",
              "</table>\n",
              "<p>5 rows × 21 columns</p>\n",
              "</div>\n",
              "    <div class=\"colab-df-buttons\">\n",
              "\n",
              "  <div class=\"colab-df-container\">\n",
              "    <button class=\"colab-df-convert\" onclick=\"convertToInteractive('df-6ac56350-de68-4992-8600-d102c3c99d7c')\"\n",
              "            title=\"Convert this dataframe to an interactive table.\"\n",
              "            style=\"display:none;\">\n",
              "\n",
              "  <svg xmlns=\"http://www.w3.org/2000/svg\" height=\"24px\" viewBox=\"0 -960 960 960\">\n",
              "    <path d=\"M120-120v-720h720v720H120Zm60-500h600v-160H180v160Zm220 220h160v-160H400v160Zm0 220h160v-160H400v160ZM180-400h160v-160H180v160Zm440 0h160v-160H620v160ZM180-180h160v-160H180v160Zm440 0h160v-160H620v160Z\"/>\n",
              "  </svg>\n",
              "    </button>\n",
              "\n",
              "  <style>\n",
              "    .colab-df-container {\n",
              "      display:flex;\n",
              "      gap: 12px;\n",
              "    }\n",
              "\n",
              "    .colab-df-convert {\n",
              "      background-color: #E8F0FE;\n",
              "      border: none;\n",
              "      border-radius: 50%;\n",
              "      cursor: pointer;\n",
              "      display: none;\n",
              "      fill: #1967D2;\n",
              "      height: 32px;\n",
              "      padding: 0 0 0 0;\n",
              "      width: 32px;\n",
              "    }\n",
              "\n",
              "    .colab-df-convert:hover {\n",
              "      background-color: #E2EBFA;\n",
              "      box-shadow: 0px 1px 2px rgba(60, 64, 67, 0.3), 0px 1px 3px 1px rgba(60, 64, 67, 0.15);\n",
              "      fill: #174EA6;\n",
              "    }\n",
              "\n",
              "    .colab-df-buttons div {\n",
              "      margin-bottom: 4px;\n",
              "    }\n",
              "\n",
              "    [theme=dark] .colab-df-convert {\n",
              "      background-color: #3B4455;\n",
              "      fill: #D2E3FC;\n",
              "    }\n",
              "\n",
              "    [theme=dark] .colab-df-convert:hover {\n",
              "      background-color: #434B5C;\n",
              "      box-shadow: 0px 1px 3px 1px rgba(0, 0, 0, 0.15);\n",
              "      filter: drop-shadow(0px 1px 2px rgba(0, 0, 0, 0.3));\n",
              "      fill: #FFFFFF;\n",
              "    }\n",
              "  </style>\n",
              "\n",
              "    <script>\n",
              "      const buttonEl =\n",
              "        document.querySelector('#df-6ac56350-de68-4992-8600-d102c3c99d7c button.colab-df-convert');\n",
              "      buttonEl.style.display =\n",
              "        google.colab.kernel.accessAllowed ? 'block' : 'none';\n",
              "\n",
              "      async function convertToInteractive(key) {\n",
              "        const element = document.querySelector('#df-6ac56350-de68-4992-8600-d102c3c99d7c');\n",
              "        const dataTable =\n",
              "          await google.colab.kernel.invokeFunction('convertToInteractive',\n",
              "                                                    [key], {});\n",
              "        if (!dataTable) return;\n",
              "\n",
              "        const docLinkHtml = 'Like what you see? Visit the ' +\n",
              "          '<a target=\"_blank\" href=https://colab.research.google.com/notebooks/data_table.ipynb>data table notebook</a>'\n",
              "          + ' to learn more about interactive tables.';\n",
              "        element.innerHTML = '';\n",
              "        dataTable['output_type'] = 'display_data';\n",
              "        await google.colab.output.renderOutput(dataTable, element);\n",
              "        const docLink = document.createElement('div');\n",
              "        docLink.innerHTML = docLinkHtml;\n",
              "        element.appendChild(docLink);\n",
              "      }\n",
              "    </script>\n",
              "  </div>\n",
              "\n",
              "\n",
              "<div id=\"df-27158012-3fc8-4524-83a3-9d3d2b35c480\">\n",
              "  <button class=\"colab-df-quickchart\" onclick=\"quickchart('df-27158012-3fc8-4524-83a3-9d3d2b35c480')\"\n",
              "            title=\"Suggest charts\"\n",
              "            style=\"display:none;\">\n",
              "\n",
              "<svg xmlns=\"http://www.w3.org/2000/svg\" height=\"24px\"viewBox=\"0 0 24 24\"\n",
              "     width=\"24px\">\n",
              "    <g>\n",
              "        <path d=\"M19 3H5c-1.1 0-2 .9-2 2v14c0 1.1.9 2 2 2h14c1.1 0 2-.9 2-2V5c0-1.1-.9-2-2-2zM9 17H7v-7h2v7zm4 0h-2V7h2v10zm4 0h-2v-4h2v4z\"/>\n",
              "    </g>\n",
              "</svg>\n",
              "  </button>\n",
              "\n",
              "<style>\n",
              "  .colab-df-quickchart {\n",
              "      --bg-color: #E8F0FE;\n",
              "      --fill-color: #1967D2;\n",
              "      --hover-bg-color: #E2EBFA;\n",
              "      --hover-fill-color: #174EA6;\n",
              "      --disabled-fill-color: #AAA;\n",
              "      --disabled-bg-color: #DDD;\n",
              "  }\n",
              "\n",
              "  [theme=dark] .colab-df-quickchart {\n",
              "      --bg-color: #3B4455;\n",
              "      --fill-color: #D2E3FC;\n",
              "      --hover-bg-color: #434B5C;\n",
              "      --hover-fill-color: #FFFFFF;\n",
              "      --disabled-bg-color: #3B4455;\n",
              "      --disabled-fill-color: #666;\n",
              "  }\n",
              "\n",
              "  .colab-df-quickchart {\n",
              "    background-color: var(--bg-color);\n",
              "    border: none;\n",
              "    border-radius: 50%;\n",
              "    cursor: pointer;\n",
              "    display: none;\n",
              "    fill: var(--fill-color);\n",
              "    height: 32px;\n",
              "    padding: 0;\n",
              "    width: 32px;\n",
              "  }\n",
              "\n",
              "  .colab-df-quickchart:hover {\n",
              "    background-color: var(--hover-bg-color);\n",
              "    box-shadow: 0 1px 2px rgba(60, 64, 67, 0.3), 0 1px 3px 1px rgba(60, 64, 67, 0.15);\n",
              "    fill: var(--button-hover-fill-color);\n",
              "  }\n",
              "\n",
              "  .colab-df-quickchart-complete:disabled,\n",
              "  .colab-df-quickchart-complete:disabled:hover {\n",
              "    background-color: var(--disabled-bg-color);\n",
              "    fill: var(--disabled-fill-color);\n",
              "    box-shadow: none;\n",
              "  }\n",
              "\n",
              "  .colab-df-spinner {\n",
              "    border: 2px solid var(--fill-color);\n",
              "    border-color: transparent;\n",
              "    border-bottom-color: var(--fill-color);\n",
              "    animation:\n",
              "      spin 1s steps(1) infinite;\n",
              "  }\n",
              "\n",
              "  @keyframes spin {\n",
              "    0% {\n",
              "      border-color: transparent;\n",
              "      border-bottom-color: var(--fill-color);\n",
              "      border-left-color: var(--fill-color);\n",
              "    }\n",
              "    20% {\n",
              "      border-color: transparent;\n",
              "      border-left-color: var(--fill-color);\n",
              "      border-top-color: var(--fill-color);\n",
              "    }\n",
              "    30% {\n",
              "      border-color: transparent;\n",
              "      border-left-color: var(--fill-color);\n",
              "      border-top-color: var(--fill-color);\n",
              "      border-right-color: var(--fill-color);\n",
              "    }\n",
              "    40% {\n",
              "      border-color: transparent;\n",
              "      border-right-color: var(--fill-color);\n",
              "      border-top-color: var(--fill-color);\n",
              "    }\n",
              "    60% {\n",
              "      border-color: transparent;\n",
              "      border-right-color: var(--fill-color);\n",
              "    }\n",
              "    80% {\n",
              "      border-color: transparent;\n",
              "      border-right-color: var(--fill-color);\n",
              "      border-bottom-color: var(--fill-color);\n",
              "    }\n",
              "    90% {\n",
              "      border-color: transparent;\n",
              "      border-bottom-color: var(--fill-color);\n",
              "    }\n",
              "  }\n",
              "</style>\n",
              "\n",
              "  <script>\n",
              "    async function quickchart(key) {\n",
              "      const quickchartButtonEl =\n",
              "        document.querySelector('#' + key + ' button');\n",
              "      quickchartButtonEl.disabled = true;  // To prevent multiple clicks.\n",
              "      quickchartButtonEl.classList.add('colab-df-spinner');\n",
              "      try {\n",
              "        const charts = await google.colab.kernel.invokeFunction(\n",
              "            'suggestCharts', [key], {});\n",
              "      } catch (error) {\n",
              "        console.error('Error during call to suggestCharts:', error);\n",
              "      }\n",
              "      quickchartButtonEl.classList.remove('colab-df-spinner');\n",
              "      quickchartButtonEl.classList.add('colab-df-quickchart-complete');\n",
              "    }\n",
              "    (() => {\n",
              "      let quickchartButtonEl =\n",
              "        document.querySelector('#df-27158012-3fc8-4524-83a3-9d3d2b35c480 button');\n",
              "      quickchartButtonEl.style.display =\n",
              "        google.colab.kernel.accessAllowed ? 'block' : 'none';\n",
              "    })();\n",
              "  </script>\n",
              "</div>\n",
              "\n",
              "    </div>\n",
              "  </div>\n"
            ],
            "application/vnd.google.colaboratory.intrinsic+json": {
              "type": "dataframe",
              "variable_name": "df"
            }
          },
          "metadata": {},
          "execution_count": 3
        }
      ],
      "source": [
        "df.head()"
      ]
    },
    {
      "cell_type": "markdown",
      "metadata": {
        "id": "Ye59DDSoErBT"
      },
      "source": [
        "Describe Data"
      ]
    },
    {
      "cell_type": "code",
      "execution_count": 4,
      "metadata": {
        "colab": {
          "base_uri": "https://localhost:8080/"
        },
        "id": "-9y6VJdWMlqc",
        "outputId": "b65d1c1c-d150-4577-e4ba-49aca838a528"
      },
      "outputs": [
        {
          "output_type": "stream",
          "name": "stdout",
          "text": [
            "<class 'pandas.core.frame.DataFrame'>\n",
            "RangeIndex: 4760 entries, 0 to 4759\n",
            "Data columns (total 21 columns):\n",
            " #   Column                    Non-Null Count  Dtype  \n",
            "---  ------                    --------------  -----  \n",
            " 0   Movie_ID                  4760 non-null   int64  \n",
            " 1   Movie_Title               4760 non-null   object \n",
            " 2   Movie_Genre               4760 non-null   object \n",
            " 3   Movie_Language            4760 non-null   object \n",
            " 4   Movie_Budget              4760 non-null   int64  \n",
            " 5   Movie_Popularity          4760 non-null   float64\n",
            " 6   Movie_Release_Date        4760 non-null   object \n",
            " 7   Movie_Revenue             4760 non-null   int64  \n",
            " 8   Movie_Runtime             4758 non-null   float64\n",
            " 9   Movie_Vote                4760 non-null   float64\n",
            " 10  Movie_Vote_Count          4760 non-null   int64  \n",
            " 11  Movie_Homepage            1699 non-null   object \n",
            " 12  Movie_Keywords            4373 non-null   object \n",
            " 13  Movie_Overview            4757 non-null   object \n",
            " 14  Movie_Production_House    4760 non-null   object \n",
            " 15  Movie_Production_Country  4760 non-null   object \n",
            " 16  Movie_Spoken_Language     4760 non-null   object \n",
            " 17  Movie_Tagline             3942 non-null   object \n",
            " 18  Movie_Cast                4733 non-null   object \n",
            " 19  Movie_Crew                4760 non-null   object \n",
            " 20  Movie_Director            4738 non-null   object \n",
            "dtypes: float64(3), int64(4), object(14)\n",
            "memory usage: 781.1+ KB\n"
          ]
        }
      ],
      "source": [
        "df.info()"
      ]
    },
    {
      "cell_type": "markdown",
      "source": [
        "### Data Visualization"
      ],
      "metadata": {
        "id": "6o5CrkloNs65"
      }
    },
    {
      "cell_type": "code",
      "execution_count": 5,
      "metadata": {
        "colab": {
          "base_uri": "https://localhost:8080/"
        },
        "id": "qOppVj-nNCha",
        "outputId": "45fceeef-f0a4-4964-faf6-5daac651c6ed"
      },
      "outputs": [
        {
          "output_type": "execute_result",
          "data": {
            "text/plain": [
              "(4760, 21)"
            ]
          },
          "metadata": {},
          "execution_count": 5
        }
      ],
      "source": [
        "df.shape"
      ]
    },
    {
      "cell_type": "code",
      "execution_count": 6,
      "metadata": {
        "colab": {
          "base_uri": "https://localhost:8080/"
        },
        "id": "GErw0jOlE3Wy",
        "outputId": "38182a7e-bc6c-4910-9d7b-33c99a577302"
      },
      "outputs": [
        {
          "output_type": "execute_result",
          "data": {
            "text/plain": [
              "Index(['Movie_ID', 'Movie_Title', 'Movie_Genre', 'Movie_Language',\n",
              "       'Movie_Budget', 'Movie_Popularity', 'Movie_Release_Date',\n",
              "       'Movie_Revenue', 'Movie_Runtime', 'Movie_Vote', 'Movie_Vote_Count',\n",
              "       'Movie_Homepage', 'Movie_Keywords', 'Movie_Overview',\n",
              "       'Movie_Production_House', 'Movie_Production_Country',\n",
              "       'Movie_Spoken_Language', 'Movie_Tagline', 'Movie_Cast', 'Movie_Crew',\n",
              "       'Movie_Director'],\n",
              "      dtype='object')"
            ]
          },
          "metadata": {},
          "execution_count": 6
        }
      ],
      "source": [
        "df.columns"
      ]
    },
    {
      "cell_type": "markdown",
      "source": [
        "### Define Target Variable and Feature Variables"
      ],
      "metadata": {
        "id": "5X4Njis9MGdF"
      }
    },
    {
      "cell_type": "markdown",
      "metadata": {
        "id": "f0u0FU3tNciO"
      },
      "source": [
        "Get Feature Selection"
      ]
    },
    {
      "cell_type": "code",
      "execution_count": 7,
      "metadata": {
        "id": "xrM6amc0NiJF"
      },
      "outputs": [],
      "source": [
        "feature=df[['Movie_Genre','Movie_Keywords','Movie_Tagline','Movie_Cast','Movie_Director']].fillna('')"
      ]
    },
    {
      "cell_type": "markdown",
      "metadata": {
        "id": "e8eJxmCxGT6W"
      },
      "source": [
        "Selcted five features to recommend movies"
      ]
    },
    {
      "cell_type": "code",
      "execution_count": 8,
      "metadata": {
        "colab": {
          "base_uri": "https://localhost:8080/"
        },
        "id": "wtyRmuhnGfvI",
        "outputId": "8448ecdb-7e10-46cb-910c-e2a784cb6d86"
      },
      "outputs": [
        {
          "output_type": "execute_result",
          "data": {
            "text/plain": [
              "(4760, 5)"
            ]
          },
          "metadata": {},
          "execution_count": 8
        }
      ],
      "source": [
        "feature.shape"
      ]
    },
    {
      "cell_type": "code",
      "execution_count": 9,
      "metadata": {
        "colab": {
          "base_uri": "https://localhost:8080/",
          "height": 493
        },
        "id": "EWb9YFgvGzsC",
        "outputId": "66a35539-4e41-429d-bb77-46ee7ad7d4d2"
      },
      "outputs": [
        {
          "output_type": "execute_result",
          "data": {
            "text/plain": [
              "                           Movie_Genre  \\\n",
              "0                         Crime Comedy   \n",
              "1     Adventure Action Science Fiction   \n",
              "2                     Animation Family   \n",
              "3                 Comedy Drama Romance   \n",
              "4                                Drama   \n",
              "...                                ...   \n",
              "4755                            Horror   \n",
              "4756               Comedy Family Drama   \n",
              "4757                    Thriller Drama   \n",
              "4758                            Family   \n",
              "4759                       Documentary   \n",
              "\n",
              "                                         Movie_Keywords  \\\n",
              "0             hotel new year's eve witch bet hotel room   \n",
              "1           android galaxy hermit death star lightsaber   \n",
              "2     father son relationship harbor underwater fish...   \n",
              "3     vietnam veteran hippie mentally disabled runni...   \n",
              "4     male nudity female nudity adultery midlife cri...   \n",
              "...                                                 ...   \n",
              "4755                                                      \n",
              "4756                                                      \n",
              "4757                     christian film sex trafficking   \n",
              "4758                                                      \n",
              "4759  music actors legendary perfomer classic hollyw...   \n",
              "\n",
              "                                          Movie_Tagline  \\\n",
              "0     Twelve outrageous guests. Four scandalous requ...   \n",
              "1          A long time ago in a galaxy far, far away...   \n",
              "2     There are 3.7 trillion fish in the ocean, they...   \n",
              "3     The world will never be the same, once you've ...   \n",
              "4                                          Look closer.   \n",
              "...                                                 ...   \n",
              "4755                The hot spot where Satan's waitin'.   \n",
              "4756           It’s better to stand out than to fit in.   \n",
              "4757           She never knew it could happen to her...   \n",
              "4758                                                      \n",
              "4759                                                      \n",
              "\n",
              "                                             Movie_Cast     Movie_Director  \n",
              "0     Tim Roth Antonio Banderas Jennifer Beals Madon...     Allison Anders  \n",
              "1     Mark Hamill Harrison Ford Carrie Fisher Peter ...       George Lucas  \n",
              "2     Albert Brooks Ellen DeGeneres Alexander Gould ...     Andrew Stanton  \n",
              "3     Tom Hanks Robin Wright Gary Sinise Mykelti Wil...    Robert Zemeckis  \n",
              "4     Kevin Spacey Annette Bening Thora Birch Wes Be...         Sam Mendes  \n",
              "...                                                 ...                ...  \n",
              "4755  Lisa Hart Carroll Michael Des Barres Paul Drak...         Pece Dingo  \n",
              "4756  Roni Akurati Brighton Sharbino Jason Lee Anjul...       Frank Lotito  \n",
              "4757  Nicole Smolen Kim Baldwin Ariana Stephens Brys...       Jaco Booyens  \n",
              "4758                                                                        \n",
              "4759                                    Tony Oppedisano  Simon Napier-Bell  \n",
              "\n",
              "[4760 rows x 5 columns]"
            ],
            "text/html": [
              "\n",
              "  <div id=\"df-73cf8fa6-91fd-4651-ab6a-c1e3cc188e75\" class=\"colab-df-container\">\n",
              "    <div>\n",
              "<style scoped>\n",
              "    .dataframe tbody tr th:only-of-type {\n",
              "        vertical-align: middle;\n",
              "    }\n",
              "\n",
              "    .dataframe tbody tr th {\n",
              "        vertical-align: top;\n",
              "    }\n",
              "\n",
              "    .dataframe thead th {\n",
              "        text-align: right;\n",
              "    }\n",
              "</style>\n",
              "<table border=\"1\" class=\"dataframe\">\n",
              "  <thead>\n",
              "    <tr style=\"text-align: right;\">\n",
              "      <th></th>\n",
              "      <th>Movie_Genre</th>\n",
              "      <th>Movie_Keywords</th>\n",
              "      <th>Movie_Tagline</th>\n",
              "      <th>Movie_Cast</th>\n",
              "      <th>Movie_Director</th>\n",
              "    </tr>\n",
              "  </thead>\n",
              "  <tbody>\n",
              "    <tr>\n",
              "      <th>0</th>\n",
              "      <td>Crime Comedy</td>\n",
              "      <td>hotel new year's eve witch bet hotel room</td>\n",
              "      <td>Twelve outrageous guests. Four scandalous requ...</td>\n",
              "      <td>Tim Roth Antonio Banderas Jennifer Beals Madon...</td>\n",
              "      <td>Allison Anders</td>\n",
              "    </tr>\n",
              "    <tr>\n",
              "      <th>1</th>\n",
              "      <td>Adventure Action Science Fiction</td>\n",
              "      <td>android galaxy hermit death star lightsaber</td>\n",
              "      <td>A long time ago in a galaxy far, far away...</td>\n",
              "      <td>Mark Hamill Harrison Ford Carrie Fisher Peter ...</td>\n",
              "      <td>George Lucas</td>\n",
              "    </tr>\n",
              "    <tr>\n",
              "      <th>2</th>\n",
              "      <td>Animation Family</td>\n",
              "      <td>father son relationship harbor underwater fish...</td>\n",
              "      <td>There are 3.7 trillion fish in the ocean, they...</td>\n",
              "      <td>Albert Brooks Ellen DeGeneres Alexander Gould ...</td>\n",
              "      <td>Andrew Stanton</td>\n",
              "    </tr>\n",
              "    <tr>\n",
              "      <th>3</th>\n",
              "      <td>Comedy Drama Romance</td>\n",
              "      <td>vietnam veteran hippie mentally disabled runni...</td>\n",
              "      <td>The world will never be the same, once you've ...</td>\n",
              "      <td>Tom Hanks Robin Wright Gary Sinise Mykelti Wil...</td>\n",
              "      <td>Robert Zemeckis</td>\n",
              "    </tr>\n",
              "    <tr>\n",
              "      <th>4</th>\n",
              "      <td>Drama</td>\n",
              "      <td>male nudity female nudity adultery midlife cri...</td>\n",
              "      <td>Look closer.</td>\n",
              "      <td>Kevin Spacey Annette Bening Thora Birch Wes Be...</td>\n",
              "      <td>Sam Mendes</td>\n",
              "    </tr>\n",
              "    <tr>\n",
              "      <th>...</th>\n",
              "      <td>...</td>\n",
              "      <td>...</td>\n",
              "      <td>...</td>\n",
              "      <td>...</td>\n",
              "      <td>...</td>\n",
              "    </tr>\n",
              "    <tr>\n",
              "      <th>4755</th>\n",
              "      <td>Horror</td>\n",
              "      <td></td>\n",
              "      <td>The hot spot where Satan's waitin'.</td>\n",
              "      <td>Lisa Hart Carroll Michael Des Barres Paul Drak...</td>\n",
              "      <td>Pece Dingo</td>\n",
              "    </tr>\n",
              "    <tr>\n",
              "      <th>4756</th>\n",
              "      <td>Comedy Family Drama</td>\n",
              "      <td></td>\n",
              "      <td>It’s better to stand out than to fit in.</td>\n",
              "      <td>Roni Akurati Brighton Sharbino Jason Lee Anjul...</td>\n",
              "      <td>Frank Lotito</td>\n",
              "    </tr>\n",
              "    <tr>\n",
              "      <th>4757</th>\n",
              "      <td>Thriller Drama</td>\n",
              "      <td>christian film sex trafficking</td>\n",
              "      <td>She never knew it could happen to her...</td>\n",
              "      <td>Nicole Smolen Kim Baldwin Ariana Stephens Brys...</td>\n",
              "      <td>Jaco Booyens</td>\n",
              "    </tr>\n",
              "    <tr>\n",
              "      <th>4758</th>\n",
              "      <td>Family</td>\n",
              "      <td></td>\n",
              "      <td></td>\n",
              "      <td></td>\n",
              "      <td></td>\n",
              "    </tr>\n",
              "    <tr>\n",
              "      <th>4759</th>\n",
              "      <td>Documentary</td>\n",
              "      <td>music actors legendary perfomer classic hollyw...</td>\n",
              "      <td></td>\n",
              "      <td>Tony Oppedisano</td>\n",
              "      <td>Simon Napier-Bell</td>\n",
              "    </tr>\n",
              "  </tbody>\n",
              "</table>\n",
              "<p>4760 rows × 5 columns</p>\n",
              "</div>\n",
              "    <div class=\"colab-df-buttons\">\n",
              "\n",
              "  <div class=\"colab-df-container\">\n",
              "    <button class=\"colab-df-convert\" onclick=\"convertToInteractive('df-73cf8fa6-91fd-4651-ab6a-c1e3cc188e75')\"\n",
              "            title=\"Convert this dataframe to an interactive table.\"\n",
              "            style=\"display:none;\">\n",
              "\n",
              "  <svg xmlns=\"http://www.w3.org/2000/svg\" height=\"24px\" viewBox=\"0 -960 960 960\">\n",
              "    <path d=\"M120-120v-720h720v720H120Zm60-500h600v-160H180v160Zm220 220h160v-160H400v160Zm0 220h160v-160H400v160ZM180-400h160v-160H180v160Zm440 0h160v-160H620v160ZM180-180h160v-160H180v160Zm440 0h160v-160H620v160Z\"/>\n",
              "  </svg>\n",
              "    </button>\n",
              "\n",
              "  <style>\n",
              "    .colab-df-container {\n",
              "      display:flex;\n",
              "      gap: 12px;\n",
              "    }\n",
              "\n",
              "    .colab-df-convert {\n",
              "      background-color: #E8F0FE;\n",
              "      border: none;\n",
              "      border-radius: 50%;\n",
              "      cursor: pointer;\n",
              "      display: none;\n",
              "      fill: #1967D2;\n",
              "      height: 32px;\n",
              "      padding: 0 0 0 0;\n",
              "      width: 32px;\n",
              "    }\n",
              "\n",
              "    .colab-df-convert:hover {\n",
              "      background-color: #E2EBFA;\n",
              "      box-shadow: 0px 1px 2px rgba(60, 64, 67, 0.3), 0px 1px 3px 1px rgba(60, 64, 67, 0.15);\n",
              "      fill: #174EA6;\n",
              "    }\n",
              "\n",
              "    .colab-df-buttons div {\n",
              "      margin-bottom: 4px;\n",
              "    }\n",
              "\n",
              "    [theme=dark] .colab-df-convert {\n",
              "      background-color: #3B4455;\n",
              "      fill: #D2E3FC;\n",
              "    }\n",
              "\n",
              "    [theme=dark] .colab-df-convert:hover {\n",
              "      background-color: #434B5C;\n",
              "      box-shadow: 0px 1px 3px 1px rgba(0, 0, 0, 0.15);\n",
              "      filter: drop-shadow(0px 1px 2px rgba(0, 0, 0, 0.3));\n",
              "      fill: #FFFFFF;\n",
              "    }\n",
              "  </style>\n",
              "\n",
              "    <script>\n",
              "      const buttonEl =\n",
              "        document.querySelector('#df-73cf8fa6-91fd-4651-ab6a-c1e3cc188e75 button.colab-df-convert');\n",
              "      buttonEl.style.display =\n",
              "        google.colab.kernel.accessAllowed ? 'block' : 'none';\n",
              "\n",
              "      async function convertToInteractive(key) {\n",
              "        const element = document.querySelector('#df-73cf8fa6-91fd-4651-ab6a-c1e3cc188e75');\n",
              "        const dataTable =\n",
              "          await google.colab.kernel.invokeFunction('convertToInteractive',\n",
              "                                                    [key], {});\n",
              "        if (!dataTable) return;\n",
              "\n",
              "        const docLinkHtml = 'Like what you see? Visit the ' +\n",
              "          '<a target=\"_blank\" href=https://colab.research.google.com/notebooks/data_table.ipynb>data table notebook</a>'\n",
              "          + ' to learn more about interactive tables.';\n",
              "        element.innerHTML = '';\n",
              "        dataTable['output_type'] = 'display_data';\n",
              "        await google.colab.output.renderOutput(dataTable, element);\n",
              "        const docLink = document.createElement('div');\n",
              "        docLink.innerHTML = docLinkHtml;\n",
              "        element.appendChild(docLink);\n",
              "      }\n",
              "    </script>\n",
              "  </div>\n",
              "\n",
              "\n",
              "<div id=\"df-7ee8bac0-b446-4ff5-a3c7-d340186154a7\">\n",
              "  <button class=\"colab-df-quickchart\" onclick=\"quickchart('df-7ee8bac0-b446-4ff5-a3c7-d340186154a7')\"\n",
              "            title=\"Suggest charts\"\n",
              "            style=\"display:none;\">\n",
              "\n",
              "<svg xmlns=\"http://www.w3.org/2000/svg\" height=\"24px\"viewBox=\"0 0 24 24\"\n",
              "     width=\"24px\">\n",
              "    <g>\n",
              "        <path d=\"M19 3H5c-1.1 0-2 .9-2 2v14c0 1.1.9 2 2 2h14c1.1 0 2-.9 2-2V5c0-1.1-.9-2-2-2zM9 17H7v-7h2v7zm4 0h-2V7h2v10zm4 0h-2v-4h2v4z\"/>\n",
              "    </g>\n",
              "</svg>\n",
              "  </button>\n",
              "\n",
              "<style>\n",
              "  .colab-df-quickchart {\n",
              "      --bg-color: #E8F0FE;\n",
              "      --fill-color: #1967D2;\n",
              "      --hover-bg-color: #E2EBFA;\n",
              "      --hover-fill-color: #174EA6;\n",
              "      --disabled-fill-color: #AAA;\n",
              "      --disabled-bg-color: #DDD;\n",
              "  }\n",
              "\n",
              "  [theme=dark] .colab-df-quickchart {\n",
              "      --bg-color: #3B4455;\n",
              "      --fill-color: #D2E3FC;\n",
              "      --hover-bg-color: #434B5C;\n",
              "      --hover-fill-color: #FFFFFF;\n",
              "      --disabled-bg-color: #3B4455;\n",
              "      --disabled-fill-color: #666;\n",
              "  }\n",
              "\n",
              "  .colab-df-quickchart {\n",
              "    background-color: var(--bg-color);\n",
              "    border: none;\n",
              "    border-radius: 50%;\n",
              "    cursor: pointer;\n",
              "    display: none;\n",
              "    fill: var(--fill-color);\n",
              "    height: 32px;\n",
              "    padding: 0;\n",
              "    width: 32px;\n",
              "  }\n",
              "\n",
              "  .colab-df-quickchart:hover {\n",
              "    background-color: var(--hover-bg-color);\n",
              "    box-shadow: 0 1px 2px rgba(60, 64, 67, 0.3), 0 1px 3px 1px rgba(60, 64, 67, 0.15);\n",
              "    fill: var(--button-hover-fill-color);\n",
              "  }\n",
              "\n",
              "  .colab-df-quickchart-complete:disabled,\n",
              "  .colab-df-quickchart-complete:disabled:hover {\n",
              "    background-color: var(--disabled-bg-color);\n",
              "    fill: var(--disabled-fill-color);\n",
              "    box-shadow: none;\n",
              "  }\n",
              "\n",
              "  .colab-df-spinner {\n",
              "    border: 2px solid var(--fill-color);\n",
              "    border-color: transparent;\n",
              "    border-bottom-color: var(--fill-color);\n",
              "    animation:\n",
              "      spin 1s steps(1) infinite;\n",
              "  }\n",
              "\n",
              "  @keyframes spin {\n",
              "    0% {\n",
              "      border-color: transparent;\n",
              "      border-bottom-color: var(--fill-color);\n",
              "      border-left-color: var(--fill-color);\n",
              "    }\n",
              "    20% {\n",
              "      border-color: transparent;\n",
              "      border-left-color: var(--fill-color);\n",
              "      border-top-color: var(--fill-color);\n",
              "    }\n",
              "    30% {\n",
              "      border-color: transparent;\n",
              "      border-left-color: var(--fill-color);\n",
              "      border-top-color: var(--fill-color);\n",
              "      border-right-color: var(--fill-color);\n",
              "    }\n",
              "    40% {\n",
              "      border-color: transparent;\n",
              "      border-right-color: var(--fill-color);\n",
              "      border-top-color: var(--fill-color);\n",
              "    }\n",
              "    60% {\n",
              "      border-color: transparent;\n",
              "      border-right-color: var(--fill-color);\n",
              "    }\n",
              "    80% {\n",
              "      border-color: transparent;\n",
              "      border-right-color: var(--fill-color);\n",
              "      border-bottom-color: var(--fill-color);\n",
              "    }\n",
              "    90% {\n",
              "      border-color: transparent;\n",
              "      border-bottom-color: var(--fill-color);\n",
              "    }\n",
              "  }\n",
              "</style>\n",
              "\n",
              "  <script>\n",
              "    async function quickchart(key) {\n",
              "      const quickchartButtonEl =\n",
              "        document.querySelector('#' + key + ' button');\n",
              "      quickchartButtonEl.disabled = true;  // To prevent multiple clicks.\n",
              "      quickchartButtonEl.classList.add('colab-df-spinner');\n",
              "      try {\n",
              "        const charts = await google.colab.kernel.invokeFunction(\n",
              "            'suggestCharts', [key], {});\n",
              "      } catch (error) {\n",
              "        console.error('Error during call to suggestCharts:', error);\n",
              "      }\n",
              "      quickchartButtonEl.classList.remove('colab-df-spinner');\n",
              "      quickchartButtonEl.classList.add('colab-df-quickchart-complete');\n",
              "    }\n",
              "    (() => {\n",
              "      let quickchartButtonEl =\n",
              "        document.querySelector('#df-7ee8bac0-b446-4ff5-a3c7-d340186154a7 button');\n",
              "      quickchartButtonEl.style.display =\n",
              "        google.colab.kernel.accessAllowed ? 'block' : 'none';\n",
              "    })();\n",
              "  </script>\n",
              "</div>\n",
              "\n",
              "  <div id=\"id_a580c4d4-44f3-4870-8df5-69ced1715aae\">\n",
              "    <style>\n",
              "      .colab-df-generate {\n",
              "        background-color: #E8F0FE;\n",
              "        border: none;\n",
              "        border-radius: 50%;\n",
              "        cursor: pointer;\n",
              "        display: none;\n",
              "        fill: #1967D2;\n",
              "        height: 32px;\n",
              "        padding: 0 0 0 0;\n",
              "        width: 32px;\n",
              "      }\n",
              "\n",
              "      .colab-df-generate:hover {\n",
              "        background-color: #E2EBFA;\n",
              "        box-shadow: 0px 1px 2px rgba(60, 64, 67, 0.3), 0px 1px 3px 1px rgba(60, 64, 67, 0.15);\n",
              "        fill: #174EA6;\n",
              "      }\n",
              "\n",
              "      [theme=dark] .colab-df-generate {\n",
              "        background-color: #3B4455;\n",
              "        fill: #D2E3FC;\n",
              "      }\n",
              "\n",
              "      [theme=dark] .colab-df-generate:hover {\n",
              "        background-color: #434B5C;\n",
              "        box-shadow: 0px 1px 3px 1px rgba(0, 0, 0, 0.15);\n",
              "        filter: drop-shadow(0px 1px 2px rgba(0, 0, 0, 0.3));\n",
              "        fill: #FFFFFF;\n",
              "      }\n",
              "    </style>\n",
              "    <button class=\"colab-df-generate\" onclick=\"generateWithVariable('feature')\"\n",
              "            title=\"Generate code using this dataframe.\"\n",
              "            style=\"display:none;\">\n",
              "\n",
              "  <svg xmlns=\"http://www.w3.org/2000/svg\" height=\"24px\"viewBox=\"0 0 24 24\"\n",
              "       width=\"24px\">\n",
              "    <path d=\"M7,19H8.4L18.45,9,17,7.55,7,17.6ZM5,21V16.75L18.45,3.32a2,2,0,0,1,2.83,0l1.4,1.43a1.91,1.91,0,0,1,.58,1.4,1.91,1.91,0,0,1-.58,1.4L9.25,21ZM18.45,9,17,7.55Zm-12,3A5.31,5.31,0,0,0,4.9,8.1,5.31,5.31,0,0,0,1,6.5,5.31,5.31,0,0,0,4.9,4.9,5.31,5.31,0,0,0,6.5,1,5.31,5.31,0,0,0,8.1,4.9,5.31,5.31,0,0,0,12,6.5,5.46,5.46,0,0,0,6.5,12Z\"/>\n",
              "  </svg>\n",
              "    </button>\n",
              "    <script>\n",
              "      (() => {\n",
              "      const buttonEl =\n",
              "        document.querySelector('#id_a580c4d4-44f3-4870-8df5-69ced1715aae button.colab-df-generate');\n",
              "      buttonEl.style.display =\n",
              "        google.colab.kernel.accessAllowed ? 'block' : 'none';\n",
              "\n",
              "      buttonEl.onclick = () => {\n",
              "        google.colab.notebook.generateWithVariable('feature');\n",
              "      }\n",
              "      })();\n",
              "    </script>\n",
              "  </div>\n",
              "\n",
              "    </div>\n",
              "  </div>\n"
            ],
            "application/vnd.google.colaboratory.intrinsic+json": {
              "type": "dataframe",
              "variable_name": "feature",
              "summary": "{\n  \"name\": \"feature\",\n  \"rows\": 4760,\n  \"fields\": [\n    {\n      \"column\": \"Movie_Genre\",\n      \"properties\": {\n        \"dtype\": \"category\",\n        \"num_unique_values\": 1164,\n        \"samples\": [\n          \"Family Animation Adventure\",\n          \"Adventure Science Fiction Action\",\n          \"Action Crime Drama Romance Thriller\"\n        ],\n        \"semantic_type\": \"\",\n        \"description\": \"\"\n      }\n    },\n    {\n      \"column\": \"Movie_Keywords\",\n      \"properties\": {\n        \"dtype\": \"string\",\n        \"num_unique_values\": 4203,\n        \"samples\": [\n          \"canada nazis sequel spin off ancient evil\",\n          \"sex professor wedding woman director columbia university\",\n          \"prophecy sea beach gold small town\"\n        ],\n        \"semantic_type\": \"\",\n        \"description\": \"\"\n      }\n    },\n    {\n      \"column\": \"Movie_Tagline\",\n      \"properties\": {\n        \"dtype\": \"string\",\n        \"num_unique_values\": 3928,\n        \"samples\": [\n          \"The messenger must be silenced.\",\n          \"It's not the house that's haunted.\",\n          \"The final hunt begins.\"\n        ],\n        \"semantic_type\": \"\",\n        \"description\": \"\"\n      }\n    },\n    {\n      \"column\": \"Movie_Cast\",\n      \"properties\": {\n        \"dtype\": \"string\",\n        \"num_unique_values\": 4715,\n        \"samples\": [\n          \"Robin Tunney Fairuza Balk Neve Campbell Rachel True Skeet Ulrich\",\n          \"Peter Sellers Christopher Plummer Herbert Lom Catherine Schell Peter Arne\",\n          \"John Wayne Laraine Day Cedric Hardwicke Judith Anderson Anthony Quinn\"\n        ],\n        \"semantic_type\": \"\",\n        \"description\": \"\"\n      }\n    },\n    {\n      \"column\": \"Movie_Director\",\n      \"properties\": {\n        \"dtype\": \"category\",\n        \"num_unique_values\": 2332,\n        \"samples\": [\n          \"Rob McKittrick\",\n          \"Terron R. Parsons\",\n          \"Cyrus Nowrasteh\"\n        ],\n        \"semantic_type\": \"\",\n        \"description\": \"\"\n      }\n    }\n  ]\n}"
            }
          },
          "metadata": {},
          "execution_count": 9
        }
      ],
      "source": [
        "feature"
      ]
    },
    {
      "cell_type": "code",
      "execution_count": 10,
      "metadata": {
        "id": "TuZ2kCXGHPK4"
      },
      "outputs": [],
      "source": [
        "x=feature['Movie_Genre']+''+ feature['Movie_Keywords']+''+ feature['Movie_Tagline']+''+feature['Movie_Cast']+''+feature['Movie_Director']"
      ]
    },
    {
      "cell_type": "code",
      "execution_count": 11,
      "metadata": {
        "colab": {
          "base_uri": "https://localhost:8080/"
        },
        "id": "DGjbZnj3ISeC",
        "outputId": "954cb20c-5697-48c4-ce8f-ac1b51168369"
      },
      "outputs": [
        {
          "output_type": "execute_result",
          "data": {
            "text/plain": [
              "0       Crime Comedyhotel new year's eve witch bet hot...\n",
              "1       Adventure Action Science Fictionandroid galaxy...\n",
              "2       Animation Familyfather son relationship harbor...\n",
              "3       Comedy Drama Romancevietnam veteran hippie men...\n",
              "4       Dramamale nudity female nudity adultery midlif...\n",
              "                              ...                        \n",
              "4755    HorrorThe hot spot where Satan's waitin'.Lisa ...\n",
              "4756    Comedy Family DramaIt’s better to stand out th...\n",
              "4757    Thriller Dramachristian film sex traffickingSh...\n",
              "4758                                               Family\n",
              "4759    Documentarymusic actors legendary perfomer cla...\n",
              "Length: 4760, dtype: object"
            ]
          },
          "metadata": {},
          "execution_count": 11
        }
      ],
      "source": [
        "x"
      ]
    },
    {
      "cell_type": "markdown",
      "metadata": {
        "id": "dsuXWACMI1gy"
      },
      "source": [
        "Get Feature Text Conversion to tokens"
      ]
    },
    {
      "cell_type": "code",
      "execution_count": 12,
      "metadata": {
        "id": "rI4BX5SdIsXo"
      },
      "outputs": [],
      "source": [
        "from sklearn.feature_extraction.text import TfidfVectorizer"
      ]
    },
    {
      "cell_type": "code",
      "execution_count": 13,
      "metadata": {
        "id": "lTlyUNf0JL2I"
      },
      "outputs": [],
      "source": [
        "tfidf = TfidfVectorizer()"
      ]
    },
    {
      "cell_type": "code",
      "execution_count": 14,
      "metadata": {
        "id": "odozH-leJSOb"
      },
      "outputs": [],
      "source": [
        "x= tfidf.fit_transform(x)"
      ]
    },
    {
      "cell_type": "code",
      "execution_count": 15,
      "metadata": {
        "colab": {
          "base_uri": "https://localhost:8080/"
        },
        "id": "aTpidr9-Jaid",
        "outputId": "095bc48f-2e4f-4fbb-b1b6-a7fed3be5b95"
      },
      "outputs": [
        {
          "output_type": "execute_result",
          "data": {
            "text/plain": [
              "(4760, 27466)"
            ]
          },
          "metadata": {},
          "execution_count": 15
        }
      ],
      "source": [
        "x.shape"
      ]
    },
    {
      "cell_type": "code",
      "execution_count": 16,
      "metadata": {
        "colab": {
          "base_uri": "https://localhost:8080/"
        },
        "id": "foYZ_r_oJepJ",
        "outputId": "58cc47cd-6567-4c00-ae47-a0af442edca6"
      },
      "outputs": [
        {
          "output_type": "stream",
          "name": "stdout",
          "text": [
            "  (0, 1028)\t0.16196019146631543\n",
            "  (0, 24785)\t0.1954632929283795\n",
            "  (0, 15844)\t0.14205053053187272\n",
            "  (0, 15553)\t0.17099186675469502\n",
            "  (0, 2132)\t0.18002354204307464\n",
            "  (0, 13312)\t0.09914387783149516\n",
            "  (0, 1887)\t0.14106037409792174\n",
            "  (0, 1216)\t0.13920306109638164\n",
            "  (0, 21158)\t0.14205053053187272\n",
            "  (0, 24701)\t0.11357423942624927\n",
            "  (0, 14943)\t0.091376722056839\n",
            "  (0, 18098)\t0.06200430666985742\n",
            "  (0, 26738)\t0.175053052455033\n",
            "  (0, 9790)\t0.08712552095655665\n",
            "  (0, 26675)\t0.1116831168780693\n",
            "  (0, 13401)\t0.13748876529263096\n",
            "  (0, 24105)\t0.10726395493180996\n",
            "  (0, 18192)\t0.07278761942152372\n",
            "  (0, 6172)\t0.11970212451073885\n",
            "  (0, 9626)\t0.11757910435818826\n",
            "  (0, 11960)\t0.20134029899961134\n",
            "  (0, 12801)\t0.1530338818199682\n",
            "  (0, 2292)\t0.1954632929283795\n",
            "  (0, 15172)\t0.1537691763994982\n",
            "  (0, 18196)\t0.08579029869987485\n",
            "  :\t:\n",
            "  (4757, 1839)\t0.19327629083107672\n",
            "  (4757, 5410)\t0.19734759150400596\n",
            "  (4757, 11350)\t0.21582294886514122\n",
            "  (4757, 22017)\t0.1646400247918531\n",
            "  (4757, 17789)\t0.18881341937258544\n",
            "  (4757, 9484)\t0.1411164779725638\n",
            "  (4757, 14176)\t0.2330831990045816\n",
            "  (4757, 11762)\t0.17321388936472645\n",
            "  (4757, 14052)\t0.1776312353410007\n",
            "  (4757, 24232)\t0.10947784435203887\n",
            "  (4757, 24746)\t0.09744940789814222\n",
            "  (4757, 13079)\t0.12400374714145113\n",
            "  (4757, 17721)\t0.1489085353667712\n",
            "  (4758, 8651)\t1.0\n",
            "  (4759, 18229)\t0.33527342183765224\n",
            "  (4759, 22434)\t0.33527342183765224\n",
            "  (4759, 18841)\t0.33527342183765224\n",
            "  (4759, 6950)\t0.33527342183765224\n",
            "  (4759, 345)\t0.31978160936741457\n",
            "  (4759, 14742)\t0.31978160936741457\n",
            "  (4759, 12139)\t0.2778063685558062\n",
            "  (4759, 4446)\t0.282306565154911\n",
            "  (4759, 17552)\t0.3087899934962816\n",
            "  (4759, 9955)\t0.21805075638656476\n",
            "  (4759, 2285)\t0.21465229435984196\n"
          ]
        }
      ],
      "source": [
        "print(x)"
      ]
    },
    {
      "cell_type": "markdown",
      "metadata": {
        "id": "gw5DclKsJykv"
      },
      "source": [
        "### Get Similarity Score using Cosine Similarity"
      ]
    },
    {
      "cell_type": "markdown",
      "metadata": {
        "id": "RmWNhBUrJ_lt"
      },
      "source": [
        "cosine_similarity computes the L-2 normalized dot product of vectors . Euclidean (L-2) normalization projects the vectors onto the unit sphere and their dot product is then the cosine of the angle between the points denoted by the vectors"
      ]
    },
    {
      "cell_type": "code",
      "execution_count": 17,
      "metadata": {
        "id": "F40v42znK6bf"
      },
      "outputs": [],
      "source": [
        "from sklearn.metrics.pairwise import cosine_similarity"
      ]
    },
    {
      "cell_type": "code",
      "execution_count": 18,
      "metadata": {
        "id": "CAeGaCA8KGDi"
      },
      "outputs": [],
      "source": [
        "similarity_score = cosine_similarity(x)\n"
      ]
    },
    {
      "cell_type": "code",
      "execution_count": 19,
      "metadata": {
        "colab": {
          "base_uri": "https://localhost:8080/"
        },
        "id": "7kownZ9MLNjm",
        "outputId": "c8400321-5348-4cac-b552-f7789985e712"
      },
      "outputs": [
        {
          "output_type": "execute_result",
          "data": {
            "text/plain": [
              "array([[1.        , 0.01438634, 0.03807033, ..., 0.        , 0.        ,\n",
              "        0.        ],\n",
              "       [0.01438634, 1.        , 0.00844858, ..., 0.        , 0.        ,\n",
              "        0.        ],\n",
              "       [0.03807033, 0.00844858, 1.        , ..., 0.        , 0.        ,\n",
              "        0.        ],\n",
              "       ...,\n",
              "       [0.        , 0.        , 0.        , ..., 1.        , 0.        ,\n",
              "        0.        ],\n",
              "       [0.        , 0.        , 0.        , ..., 0.        , 1.        ,\n",
              "        0.        ],\n",
              "       [0.        , 0.        , 0.        , ..., 0.        , 0.        ,\n",
              "        1.        ]])"
            ]
          },
          "metadata": {},
          "execution_count": 19
        }
      ],
      "source": [
        "similarity_score"
      ]
    },
    {
      "cell_type": "code",
      "execution_count": 20,
      "metadata": {
        "colab": {
          "base_uri": "https://localhost:8080/"
        },
        "id": "aTtrYPF-LWGD",
        "outputId": "ad629567-895f-4f39-c841-bec7815d8c0a"
      },
      "outputs": [
        {
          "output_type": "execute_result",
          "data": {
            "text/plain": [
              "(4760, 4760)"
            ]
          },
          "metadata": {},
          "execution_count": 20
        }
      ],
      "source": [
        "similarity_score.shape"
      ]
    },
    {
      "cell_type": "markdown",
      "source": [
        "## Train Test Split"
      ],
      "metadata": {
        "id": "WwE9y5A8NG8H"
      }
    },
    {
      "cell_type": "markdown",
      "metadata": {
        "id": "pKQ7dmaiLc0H"
      },
      "source": [
        "### Get Movie Name as Input From User and Validate for closest spelling"
      ]
    },
    {
      "cell_type": "code",
      "execution_count": 21,
      "metadata": {
        "colab": {
          "base_uri": "https://localhost:8080/"
        },
        "id": "PbaBNcsQLcCd",
        "outputId": "ebf4a15d-df9a-4152-e2cb-42d91db81743"
      },
      "outputs": [
        {
          "name": "stdout",
          "output_type": "stream",
          "text": [
            "Enter Your Favourite Movie Name :annabella\n"
          ]
        }
      ],
      "source": [
        "favourite_movie_name= input('Enter Your Favourite Movie Name :')"
      ]
    },
    {
      "cell_type": "code",
      "execution_count": 22,
      "metadata": {
        "id": "u0N6F_DzMGZM"
      },
      "outputs": [],
      "source": [
        "All_movies_title_list = df['Movie_Title'].tolist()"
      ]
    },
    {
      "cell_type": "code",
      "execution_count": 23,
      "metadata": {
        "id": "4mwTaBJfMWIV"
      },
      "outputs": [],
      "source": [
        "import difflib"
      ]
    },
    {
      "cell_type": "code",
      "execution_count": 24,
      "metadata": {
        "colab": {
          "base_uri": "https://localhost:8080/"
        },
        "id": "N1lnQ5gBMalP",
        "outputId": "82e03dbc-5abb-4f0b-a48d-72de07869cc4"
      },
      "outputs": [
        {
          "output_type": "stream",
          "name": "stdout",
          "text": [
            "['Annabelle', 'Barbarella', 'Tanner Hall']\n"
          ]
        }
      ],
      "source": [
        "movie_recommendation= difflib.get_close_matches(favourite_movie_name,All_movies_title_list)\n",
        "print(movie_recommendation)"
      ]
    },
    {
      "cell_type": "code",
      "execution_count": 25,
      "metadata": {
        "colab": {
          "base_uri": "https://localhost:8080/"
        },
        "id": "HVtSlsYZNIJq",
        "outputId": "3674aab8-d1e2-4d0d-b8b5-b31f23706c75"
      },
      "outputs": [
        {
          "output_type": "stream",
          "name": "stdout",
          "text": [
            "Annabelle\n"
          ]
        }
      ],
      "source": [
        "close_match= movie_recommendation[0]\n",
        "print(close_match)"
      ]
    },
    {
      "cell_type": "code",
      "execution_count": 26,
      "metadata": {
        "colab": {
          "base_uri": "https://localhost:8080/"
        },
        "id": "myXdlYGhNUZe",
        "outputId": "d4a56b8f-7251-4c0c-b177-4df43ce3e226"
      },
      "outputs": [
        {
          "output_type": "stream",
          "name": "stdout",
          "text": [
            "4426\n"
          ]
        }
      ],
      "source": [
        "index_of_close_match_movie=df[df.Movie_Title==close_match]['Movie_ID'].values[0]\n",
        "print(index_of_close_match_movie)"
      ]
    },
    {
      "cell_type": "markdown",
      "source": [
        "### Model Evaluation"
      ],
      "metadata": {
        "id": "-oDTFahfNWWR"
      }
    },
    {
      "cell_type": "code",
      "execution_count": 27,
      "metadata": {
        "colab": {
          "base_uri": "https://localhost:8080/"
        },
        "id": "A0iXIs7AOK5q",
        "outputId": "bd842589-cc42-439f-da60-006662adb7c9"
      },
      "outputs": [
        {
          "output_type": "stream",
          "name": "stdout",
          "text": [
            "[(0, 0.014424431780289222), (1, 0.00886081670488549), (2, 0.008470950404619485), (3, 0.0039349138739018606), (4, 0.0), (5, 0.0), (6, 0.0), (7, 0.0), (8, 0.0), (9, 0.0), (10, 0.0), (11, 0.0), (12, 0.0), (13, 0.0), (14, 0.004231007060758361), (15, 0.0), (16, 0.0), (17, 0.0), (18, 0.0), (19, 0.0), (20, 0.0), (21, 0.0), (22, 0.0045166409873159934), (23, 0.0), (24, 0.0), (25, 0.0038515424837343225), (26, 0.0), (27, 0.0), (28, 0.055295219594230435), (29, 0.0), (30, 0.0), (31, 0.0), (32, 0.0), (33, 0.0), (34, 0.0), (35, 0.013701202277693973), (36, 0.0), (37, 0.0), (38, 0.02149582104122143), (39, 0.0), (40, 0.021724722201710372), (41, 0.0), (42, 0.004573836231055891), (43, 0.008756126450504977), (44, 0.0), (45, 0.004316977359126767), (46, 0.0), (47, 0.0), (48, 0.0), (49, 0.0), (50, 0.004485884295906168), (51, 0.0), (52, 0.0), (53, 0.024602537077301832), (54, 0.0), (55, 0.0), (56, 0.0), (57, 0.0), (58, 0.0), (59, 0.0), (60, 0.0), (61, 0.0), (62, 0.0), (63, 0.0), (64, 0.0), (65, 0.0), (66, 0.0), (67, 0.0), (68, 0.0), (69, 0.0), (70, 0.010326631901566208), (71, 0.0), (72, 0.0), (73, 0.004286182031489421), (74, 0.0), (75, 0.00870544286522529), (76, 0.008406134807505176), (77, 0.007987184406355647), (78, 0.0), (79, 0.014471877621523183), (80, 0.0), (81, 0.010566501545029862), (82, 0.0036293534256031405), (83, 0.0), (84, 0.0), (85, 0.0), (86, 0.012410646059303171), (87, 0.009995633258432227), (88, 0.008171683513056424), (89, 0.0), (90, 0.0), (91, 0.0040100519968627), (92, 0.009175664653693742), (93, 0.0), (94, 0.0), (95, 0.0), (96, 0.018535878820639614), (97, 0.0), (98, 0.0), (99, 0.009373964938666178), (100, 0.0), (101, 0.0), (102, 0.05320835761154055), (103, 0.004178150003627364), (104, 0.0), (105, 0.0), (106, 0.0), (107, 0.0), (108, 0.0), (109, 0.021330593531963822), (110, 0.004654818834046179), (111, 0.0), (112, 0.0), (113, 0.015669879046688127), (114, 0.004510015763875714), (115, 0.004674755493571619), (116, 0.0), (117, 0.0), (118, 0.0), (119, 0.0), (120, 0.0), (121, 0.0229757088688686), (122, 0.008968889642929483), (123, 0.0), (124, 0.00969474699358811), (125, 0.0), (126, 0.0), (127, 0.0), (128, 0.027133587380249125), (129, 0.0032407099421776983), (130, 0.0), (131, 0.0), (132, 0.023321101674556432), (133, 0.0), (134, 0.0048048359306156665), (135, 0.0), (136, 0.0), (137, 0.0), (138, 0.0), (139, 0.00506736729959769), (140, 0.02100982340415196), (141, 0.0), (142, 0.0), (143, 0.010963890439855541), (144, 0.020894765616866554), (145, 0.0), (146, 0.044185564823966024), (147, 0.0), (148, 0.009545425611795519), (149, 0.0), (150, 0.00974074397755842), (151, 0.0), (152, 0.009628502324353728), (153, 0.005435215255650848), (154, 0.02761481129952544), (155, 0.007374274366256399), (156, 0.011754589000478252), (157, 0.004432240914086002), (158, 0.0), (159, 0.0), (160, 0.009678627497963695), (161, 0.004131879144484886), (162, 0.0), (163, 0.0), (164, 0.02104543175658332), (165, 0.0), (166, 0.0), (167, 0.0296927343644375), (168, 0.0), (169, 0.004684641239043308), (170, 0.0), (171, 0.0), (172, 0.0), (173, 0.0), (174, 0.0047102427435863434), (175, 0.003936595489069726), (176, 0.0), (177, 0.0), (178, 0.0), (179, 0.0), (180, 0.0), (181, 0.0), (182, 0.037740892034480625), (183, 0.0), (184, 0.0), (185, 0.004298007601656808), (186, 0.0), (187, 0.0), (188, 0.004497964711931375), (189, 0.0), (190, 0.0), (191, 0.008862559520383798), (192, 0.0), (193, 0.015019092777200394), (194, 0.00864168465612468), (195, 0.003936958895713975), (196, 0.0), (197, 0.00442815053645071), (198, 0.021784944330135062), (199, 0.0), (200, 0.0), (201, 0.0), (202, 0.023769812780675012), (203, 0.018692602147673473), (204, 0.02548992264030179), (205, 0.0), (206, 0.0), (207, 0.0), (208, 0.0), (209, 0.0), (210, 0.0), (211, 0.00919574428205174), (212, 0.013348206314587682), (213, 0.0), (214, 0.004267291707585823), (215, 0.00438285863269549), (216, 0.0), (217, 0.00439546691280102), (218, 0.009076994511884139), (219, 0.004750495411200105), (220, 0.0), (221, 0.0), (222, 0.009346436360108987), (223, 0.00956876273367233), (224, 0.0), (225, 0.045238434062216365), (226, 0.0), (227, 0.0), (228, 0.0), (229, 0.0), (230, 0.0), (231, 0.010114724708809768), (232, 0.0), (233, 0.0), (234, 0.0), (235, 0.0), (236, 0.0), (237, 0.007961049143786387), (238, 0.004648843848865829), (239, 0.021272823613962093), (240, 0.019156437114436944), (241, 0.0), (242, 0.0), (243, 0.0), (244, 0.015112326722582893), (245, 0.004814847414687502), (246, 0.009412493179222221), (247, 0.021254800272914997), (248, 0.01002749443701586), (249, 0.0), (250, 0.016139495558263897), (251, 0.008694386330828969), (252, 0.0), (253, 0.005031461083579406), (254, 0.0), (255, 0.02571704688773091), (256, 0.0), (257, 0.0), (258, 0.0), (259, 0.0), (260, 0.0), (261, 0.0), (262, 0.0), (263, 0.004390960503382152), (264, 0.004652143355050497), (265, 0.05066199043445983), (266, 0.007578802482489266), (267, 0.0), (268, 0.0), (269, 0.00843746284925491), (270, 0.0), (271, 0.007795004289169359), (272, 0.0), (273, 0.010428517044696502), (274, 0.0), (275, 0.011532815800581627), (276, 0.0), (277, 0.0), (278, 0.004122348695314875), (279, 0.013330291478191928), (280, 0.0), (281, 0.0), (282, 0.014417719367016368), (283, 0.0), (284, 0.009172844872540937), (285, 0.008903527867671568), (286, 0.0), (287, 0.022198502375973823), (288, 0.0), (289, 0.0), (290, 0.0), (291, 0.009759063196479727), (292, 0.0), (293, 0.015889650956771157), (294, 0.0), (295, 0.0), (296, 0.0), (297, 0.0), (298, 0.010314792080636043), (299, 0.0), (300, 0.0), (301, 0.0), (302, 0.0), (303, 0.05391967828361262), (304, 0.0), (305, 0.0), (306, 0.0), (307, 0.0), (308, 0.0), (309, 0.008002318136705438), (310, 0.0), (311, 0.023303145211916926), (312, 0.004737506581230123), (313, 0.021539574610368453), (314, 0.0), (315, 0.03707944315744328), (316, 0.03532996483254377), (317, 0.029251006751677987), (318, 0.02092608257003059), (319, 0.02398156426123084), (320, 0.03905940884727608), (321, 0.0375098061297048), (322, 0.03749386202776541), (323, 0.0), (324, 0.0), (325, 0.004374688953470545), (326, 0.0), (327, 0.008949319508270617), (328, 0.0), (329, 0.0), (330, 0.0), (331, 0.015453782393974044), (332, 0.0), (333, 0.0), (334, 0.009251864612731848), (335, 0.0), (336, 0.0034213007165978487), (337, 0.008800966484671982), (338, 0.023102993639133262), (339, 0.019996529634613222), (340, 0.0), (341, 0.01140392134991355), (342, 0.026251263072815632), (343, 0.0), (344, 0.009602960162610846), (345, 0.013570757238743505), (346, 0.019089946553485386), (347, 0.023070608110085267), (348, 0.0), (349, 0.0), (350, 0.0050240885569488684), (351, 0.011472323435467243), (352, 0.008997347756737169), (353, 0.0), (354, 0.009724497037315693), (355, 0.018433077722022965), (356, 0.009330908184982174), (357, 0.004096245214697362), (358, 0.0), (359, 0.009893935874217356), (360, 0.0), (361, 0.030390782491298597), (362, 0.04177392209175021), (363, 0.030906200520608912), (364, 0.0), (365, 0.00511517099280407), (366, 0.0), (367, 0.004273631133672954), (368, 0.005273906638722112), (369, 0.0035670514192938504), (370, 0.0), (371, 0.0), (372, 0.0), (373, 0.009517994215879427), (374, 0.0), (375, 0.0), (376, 0.009286062727598042), (377, 0.029361522650353574), (378, 0.0), (379, 0.0), (380, 0.0), (381, 0.0), (382, 0.0), (383, 0.004245412085383136), (384, 0.025142731089777437), (385, 0.0321247312741299), (386, 0.0), (387, 0.0), (388, 0.0), (389, 0.0), (390, 0.0), (391, 0.005492682459254694), (392, 0.004837987140077528), (393, 0.0), (394, 0.0), (395, 0.0), (396, 0.0), (397, 0.0), (398, 0.004617972682660388), (399, 0.0), (400, 0.014520438550686524), (401, 0.004810022120348496), (402, 0.0), (403, 0.008535782472852731), (404, 0.03720700733119524), (405, 0.004797413485487967), (406, 0.0), (407, 0.0), (408, 0.0), (409, 0.01832239997705714), (410, 0.013335053466186313), (411, 0.009870147917395013), (412, 0.0), (413, 0.009481069025391187), (414, 0.007981842812122858), (415, 0.015881528264279472), (416, 0.004173964104908864), (417, 0.004210314497563616), (418, 0.05741548941679217), (419, 0.0), (420, 0.010950048571121605), (421, 0.0036842917428801603), (422, 0.0), (423, 0.0), (424, 0.0), (425, 0.0), (426, 0.045291764829037705), (427, 0.004559209317129509), (428, 0.0), (429, 0.0), (430, 0.021145373240063315), (431, 0.0), (432, 0.012224677316014038), (433, 0.0), (434, 0.0), (435, 0.0), (436, 0.0), (437, 0.0), (438, 0.0), (439, 0.010461075197665912), (440, 0.007976332127954148), (441, 0.0), (442, 0.0), (443, 0.0), (444, 0.0), (445, 0.0), (446, 0.0), (447, 0.023217674128901286), (448, 0.0701563473055569), (449, 0.0), (450, 0.01129096652258148), (451, 0.0), (452, 0.0), (453, 0.00862833075532699), (454, 0.0), (455, 0.006928499365403913), (456, 0.009726412593468042), (457, 0.0), (458, 0.0), (459, 0.0), (460, 0.0), (461, 0.005233888832404133), (462, 0.0), (463, 0.0), (464, 0.0), (465, 0.009063777878609638), (466, 0.0), (467, 0.0), (468, 0.0), (469, 0.0), (470, 0.0), (471, 0.03741356961529476), (472, 0.0), (473, 0.0044992127751275765), (474, 0.004807557710113953), (475, 0.0), (476, 0.0), (477, 0.0), (478, 0.0), (479, 0.004701269700104704), (480, 0.0), (481, 0.0), (482, 0.0), (483, 0.0), (484, 0.0), (485, 0.0), (486, 0.0), (487, 0.0), (488, 0.020729927866198518), (489, 0.0), (490, 0.0), (491, 0.0), (492, 0.0), (493, 0.015673192960970164), (494, 0.014298106470527202), (495, 0.0), (496, 0.008596200689976725), (497, 0.004045947632122737), (498, 0.014507250359782469), (499, 0.0), (500, 0.0), (501, 0.019949088806882263), (502, 0.0), (503, 0.004548766242621565), (504, 0.004670527137422024), (505, 0.004434340848982184), (506, 0.008631623780676542), (507, 0.0044694574333196836), (508, 0.01585961374525537), (509, 0.010686140792230054), (510, 0.027589116968935297), (511, 0.01947286842752129), (512, 0.0), (513, 0.0), (514, 0.0), (515, 0.004215938258707707), (516, 0.01060352267611279), (517, 0.01104727322077395), (518, 0.0), (519, 0.0), (520, 0.04488120864642512), (521, 0.004592404120585116), (522, 0.0), (523, 0.0), (524, 0.009053214285133173), (525, 0.0), (526, 0.030441232268470318), (527, 0.0), (528, 0.004624788267808555), (529, 0.004619250013421498), (530, 0.019140281474415103), (531, 0.0315579007192588), (532, 0.014031419745616962), (533, 0.0), (534, 0.0), (535, 0.0), (536, 0.0), (537, 0.0), (538, 0.025485202052412784), (539, 0.0), (540, 0.031138227596128294), (541, 0.0), (542, 0.007180996384964293), (543, 0.0), (544, 0.0), (545, 0.012582033548601766), (546, 0.004328320559964061), (547, 0.012532174737835496), (548, 0.019928143390254876), (549, 0.0), (550, 0.0), (551, 0.0), (552, 0.0), (553, 0.0), (554, 0.0), (555, 0.053515875438623885), (556, 0.0), (557, 0.0), (558, 0.009609351218763865), (559, 0.009903494140978797), (560, 0.0), (561, 0.0073748973599118885), (562, 0.007655277685275993), (563, 0.021184072487700774), (564, 0.0), (565, 0.0), (566, 0.008489168420614153), (567, 0.0), (568, 0.0), (569, 0.0), (570, 0.0), (571, 0.0), (572, 0.0), (573, 0.0), (574, 0.0), (575, 0.0), (576, 0.0), (577, 0.0), (578, 0.0), (579, 0.004723096609302462), (580, 0.010907946948887533), (581, 0.0), (582, 0.0054254326260452365), (583, 0.004159889887279596), (584, 0.0), (585, 0.0), (586, 0.00461885087679396), (587, 0.0), (588, 0.0), (589, 0.004317285159645105), (590, 0.0), (591, 0.0), (592, 0.0), (593, 0.0), (594, 0.0), (595, 0.0), (596, 0.0), (597, 0.0), (598, 0.0), (599, 0.0), (600, 0.0), (601, 0.0), (602, 0.0), (603, 0.0), (604, 0.02980252787619581), (605, 0.013452266990005644), (606, 0.025662157060037206), (607, 0.0), (608, 0.0), (609, 0.007954462503804487), (610, 0.0), (611, 0.0), (612, 0.0), (613, 0.0), (614, 0.0), (615, 0.021542145435868895), (616, 0.0), (617, 0.053027075198706475), (618, 0.0), (619, 0.022440842595122648), (620, 0.0), (621, 0.0), (622, 0.0), (623, 0.0), (624, 0.0), (625, 0.0), (626, 0.0), (627, 0.0), (628, 0.0), (629, 0.0757297470812317), (630, 0.004843710963155033), (631, 0.0), (632, 0.004249920955852457), (633, 0.06010784123002302), (634, 0.010576256900717586), (635, 0.0), (636, 0.0), (637, 0.0), (638, 0.021095457490632935), (639, 0.03232926083756046), (640, 0.0), (641, 0.0), (642, 0.020148527767927697), (643, 0.042670087595199996), (644, 0.0), (645, 0.0), (646, 0.0), (647, 0.008908738939855892), (648, 0.0), (649, 0.004389004250367893), (650, 0.0), (651, 0.0), (652, 0.0), (653, 0.0), (654, 0.0), (655, 0.0), (656, 0.0), (657, 0.0), (658, 0.0), (659, 0.0), (660, 0.0), (661, 0.0), (662, 0.004447081565604735), (663, 0.0), (664, 0.01296859124403233), (665, 0.009028705605166954), (666, 0.0), (667, 0.004940749233673125), (668, 0.0), (669, 0.0), (670, 0.0), (671, 0.004674654576397998), (672, 0.0), (673, 0.0), (674, 0.0), (675, 0.0), (676, 0.0), (677, 0.0), (678, 0.005054216500079357), (679, 0.0), (680, 0.03125313818230351), (681, 0.025036061918727433), (682, 0.0), (683, 0.02526195175361846), (684, 0.0), (685, 0.0), (686, 0.0), (687, 0.005067832677042728), (688, 0.0), (689, 0.0), (690, 0.004420752656427607), (691, 0.02972005035669946), (692, 0.0), (693, 0.0), (694, 0.0), (695, 0.019388651931067345), (696, 0.0), (697, 0.004628245556100364), (698, 0.009801120000431781), (699, 0.0), (700, 0.0), (701, 0.0), (702, 0.0044137405309648756), (703, 0.00416863552384676), (704, 0.0), (705, 0.02920665588828269), (706, 0.03741893631165408), (707, 0.003915108995801016), (708, 0.0), (709, 0.0), (710, 0.0), (711, 0.0), (712, 0.003975726176254916), (713, 0.014123810215414761), (714, 0.0), (715, 0.0), (716, 0.0), (717, 0.010285770327193562), (718, 0.0), (719, 0.0), (720, 0.004602571556662595), (721, 0.0), (722, 0.0), (723, 0.04761479257942694), (724, 0.0), (725, 0.0), (726, 0.0038735551033055177), (727, 0.0), (728, 0.0), (729, 0.0), (730, 0.0), (731, 0.02880726149236509), (732, 0.0), (733, 0.0), (734, 0.0), (735, 0.006664867204707798), (736, 0.004597859834616306), (737, 0.009965976943051704), (738, 0.0), (739, 0.011802913178076706), (740, 0.0031676026615699957), (741, 0.008793754014269234), (742, 0.0), (743, 0.0), (744, 0.05485127354266238), (745, 0.013185557956835195), (746, 0.0), (747, 0.0), (748, 0.010948164076572144), (749, 0.0), (750, 0.0), (751, 0.005360267150864132), (752, 0.009492678362203162), (753, 0.0), (754, 0.00507268588936522), (755, 0.0), (756, 0.021654667482332107), (757, 0.003686964400146641), (758, 0.053496783011458604), (759, 0.004427369659694948), (760, 0.005390227841132476), (761, 0.015454188451545012), (762, 0.008547054318279873), (763, 0.0091816261661457), (764, 0.006413511697956203), (765, 0.0), (766, 0.0), (767, 0.0), (768, 0.009078002549730322), (769, 0.0), (770, 0.014923122035963778), (771, 0.0), (772, 0.0), (773, 0.004401380229284421), (774, 0.0), (775, 0.00772454202973569), (776, 0.018366480538805657), (777, 0.0), (778, 0.009550241764479649), (779, 0.0), (780, 0.0044321952197180865), (781, 0.004796554279534417), (782, 0.0), (783, 0.0), (784, 0.0049674718877502685), (785, 0.004547913987654285), (786, 0.0037983853495230555), (787, 0.0), (788, 0.004230835937494365), (789, 0.0), (790, 0.009443664633168918), (791, 0.0), (792, 0.036298586465084395), (793, 0.004710237479669093), (794, 0.0), (795, 0.0053126606560429165), (796, 0.0), (797, 0.0), (798, 0.0), (799, 0.0), (800, 0.013095229175834344), (801, 0.0), (802, 0.0), (803, 0.0), (804, 0.008944008489742682), (805, 0.0), (806, 0.0), (807, 0.007354602790973439), (808, 0.0), (809, 0.0), (810, 0.009650052052573467), (811, 0.010665568045760227), (812, 0.0), (813, 0.0), (814, 0.0), (815, 0.0), (816, 0.0), (817, 0.022034877454094663), (818, 0.0), (819, 0.015106048964593992), (820, 0.0041748740885746575), (821, 0.009774620932137029), (822, 0.00968225765982402), (823, 0.0), (824, 0.010153247376897559), (825, 0.0), (826, 0.0), (827, 0.0), (828, 0.0), (829, 0.02282423613990372), (830, 0.0), (831, 0.0), (832, 0.0), (833, 0.010114750291200313), (834, 0.010425059154279017), (835, 0.010034107935504381), (836, 0.004042112828994713), (837, 0.0), (838, 0.0), (839, 0.010765682165351545), (840, 0.048417125134540676), (841, 0.0), (842, 0.00543831886084513), (843, 0.0), (844, 0.0), (845, 0.0), (846, 0.041386661111284404), (847, 0.0), (848, 0.0), (849, 0.004770010127594563), (850, 0.0), (851, 0.004142464717996734), (852, 0.0), (853, 0.017852242265609542), (854, 0.014278423033985877), (855, 0.012014855378800373), (856, 0.0), (857, 0.0), (858, 0.0), (859, 0.00450260052342967), (860, 0.0), (861, 0.0), (862, 0.0038891535562650035), (863, 0.0), (864, 0.0), (865, 0.0), (866, 0.0), (867, 0.037551790181134824), (868, 0.0), (869, 0.05471584851469784), (870, 0.0), (871, 0.0), (872, 0.004849451443054169), (873, 0.0049825378106120605), (874, 0.02104249472288267), (875, 0.0), (876, 0.0), (877, 0.0), (878, 0.0), (879, 0.004811780618041843), (880, 0.018916685135070065), (881, 0.0076952980210119966), (882, 0.0), (883, 0.004451139671949501), (884, 0.004821065063394589), (885, 0.004151251687875918), (886, 0.0), (887, 0.0), (888, 0.0), (889, 0.0), (890, 0.020320586235548284), (891, 0.0), (892, 0.01747524900937129), (893, 0.009817032417007467), (894, 0.0), (895, 0.036845940729990465), (896, 0.0), (897, 0.0), (898, 0.013590520239203), (899, 0.0), (900, 0.0), (901, 0.018128150569452713), (902, 0.02328834658566872), (903, 0.004867306950870314), (904, 0.0056000798572872984), (905, 0.005233990637253961), (906, 0.0), (907, 0.018287248454298338), (908, 0.004732497500940378), (909, 0.0), (910, 0.0), (911, 0.0), (912, 0.03329102395387634), (913, 0.0), (914, 0.0), (915, 0.0), (916, 0.0042337260652108065), (917, 0.01435477533229228), (918, 0.023849228576202856), (919, 0.0), (920, 0.0), (921, 0.0), (922, 0.0), (923, 0.0046479260459954186), (924, 0.03239013806962545), (925, 0.005401948061751079), (926, 0.0036269118342973144), (927, 0.014631760474992562), (928, 0.010094889778665102), (929, 0.0), (930, 0.0), (931, 0.014742330152736837), (932, 0.009428965760841424), (933, 0.005109083524337117), (934, 0.0), (935, 0.0), (936, 0.008876145820344213), (937, 0.0), (938, 0.004544047780056892), (939, 0.004355277516647641), (940, 0.003227242623659513), (941, 0.004761300947519418), (942, 0.0), (943, 0.0), (944, 0.0), (945, 0.014152988685820097), (946, 0.01464175660040496), (947, 0.0), (948, 0.005655996078563006), (949, 0.0), (950, 0.0), (951, 0.004161002617465162), (952, 0.01109560798106455), (953, 0.020392161066634322), (954, 0.0), (955, 0.0), (956, 0.0), (957, 0.008904255015272186), (958, 0.0), (959, 0.0), (960, 0.0), (961, 0.031217191822790053), (962, 0.0), (963, 0.009895455210773549), (964, 0.003927461765537801), (965, 0.0), (966, 0.0), (967, 0.0), (968, 0.019310252625806983), (969, 0.004572245540396016), (970, 0.004068551125029195), (971, 0.0046678857820034855), (972, 0.027182842703122323), (973, 0.018989090314050244), (974, 0.0), (975, 0.0), (976, 0.0), (977, 0.05271622616339429), (978, 0.004124128155184931), (979, 0.009377827418908332), (980, 0.0), (981, 0.008876292403915086), (982, 0.020709251086412667), (983, 0.004608416404070017), (984, 0.004314175564886396), (985, 0.005273704293313296), (986, 0.0), (987, 0.0), (988, 0.0), (989, 0.0), (990, 0.004851533556242175), (991, 0.011184340805861085), (992, 0.0), (993, 0.0), (994, 0.0), (995, 0.0), (996, 0.006335442298577315), (997, 0.0), (998, 0.005213079745436857), (999, 0.005183833871779657), (1000, 0.04499238598610196), (1001, 0.0), (1002, 0.008787537894576912), (1003, 0.03821731743881361), (1004, 0.013646085127519235), (1005, 0.0), (1006, 0.0), (1007, 0.004988152740132895), (1008, 0.013067615925661767), (1009, 0.04922454023355119), (1010, 0.0), (1011, 0.0), (1012, 0.0), (1013, 0.004800084380656914), (1014, 0.0), (1015, 0.0), (1016, 0.0), (1017, 0.0), (1018, 0.0), (1019, 0.0), (1020, 0.0), (1021, 0.0), (1022, 0.004540609505390862), (1023, 0.0), (1024, 0.03915140070980595), (1025, 0.004205708129829479), (1026, 0.009595399123841105), (1027, 0.01439904628184715), (1028, 0.0), (1029, 0.009190271064719892), (1030, 0.0), (1031, 0.050787402132128685), (1032, 0.0), (1033, 0.0), (1034, 0.0), (1035, 0.0), (1036, 0.0), (1037, 0.0), (1038, 0.004202177652729341), (1039, 0.0), (1040, 0.0040073217554861445), (1041, 0.009898449695967681), (1042, 0.008395782880685187), (1043, 0.0), (1044, 0.0), (1045, 0.0), (1046, 0.0), (1047, 0.004646379054280718), (1048, 0.0), (1049, 0.005395820646677648), (1050, 0.0), (1051, 0.027550164549441012), (1052, 0.0), (1053, 0.0), (1054, 0.0), (1055, 0.021234690775069388), (1056, 0.0), (1057, 0.011051242932367306), (1058, 0.0), (1059, 0.0), (1060, 0.0), (1061, 0.035151981869768464), (1062, 0.0), (1063, 0.0), (1064, 0.028169664454737463), (1065, 0.0), (1066, 0.0), (1067, 0.0), (1068, 0.0), (1069, 0.0), (1070, 0.0), (1071, 0.0), (1072, 0.0), (1073, 0.004343209895062768), (1074, 0.0044956991169438285), (1075, 0.0), (1076, 0.021482719704265987), (1077, 0.0), (1078, 0.003929132420451498), (1079, 0.0), (1080, 0.0), (1081, 0.010055792636695107), (1082, 0.01008163775604797), (1083, 0.0), (1084, 0.004386296932523891), (1085, 0.004775393496617463), (1086, 0.0), (1087, 0.014492801817689353), (1088, 0.022679777632202996), (1089, 0.0), (1090, 0.020005064575354444), (1091, 0.0), (1092, 0.02096098856668478), (1093, 0.0), (1094, 0.00470252972718485), (1095, 0.01896948015574464), (1096, 0.022129690942846694), (1097, 0.011245701362126494), (1098, 0.0), (1099, 0.004987271718418453), (1100, 0.014413999309621416), (1101, 0.0), (1102, 0.0), (1103, 0.0), (1104, 0.011323813115874565), (1105, 0.0), (1106, 0.0), (1107, 0.020144970874234377), (1108, 0.004743327588059442), (1109, 0.010220203500969176), (1110, 0.0), (1111, 0.0), (1112, 0.004515342836690003), (1113, 0.004434200233256545), (1114, 0.009033065716979406), (1115, 0.023747188170047426), (1116, 0.0), (1117, 0.004433161300999758), (1118, 0.023904627053209695), (1119, 0.011678129159914579), (1120, 0.0), (1121, 0.0), (1122, 0.0), (1123, 0.0), (1124, 0.004776359370946521), (1125, 0.0), (1126, 0.004505908947142721), (1127, 0.0), (1128, 0.0), (1129, 0.0), (1130, 0.02358727933330007), (1131, 0.0), (1132, 0.0), (1133, 0.009640739435961575), (1134, 0.0), (1135, 0.03155380399451937), (1136, 0.0), (1137, 0.0), (1138, 0.0), (1139, 0.02134400897444184), (1140, 0.0), (1141, 0.0), (1142, 0.005092170967736675), (1143, 0.0), (1144, 0.0), (1145, 0.0), (1146, 0.010730546910872387), (1147, 0.0), (1148, 0.0), (1149, 0.02103003738257569), (1150, 0.0), (1151, 0.0), (1152, 0.0), (1153, 0.011274014100225615), (1154, 0.0), (1155, 0.014759874309699685), (1156, 0.0), (1157, 0.026677498907757488), (1158, 0.011939930186290382), (1159, 0.0), (1160, 0.0), (1161, 0.0), (1162, 0.023719084111738002), (1163, 0.0), (1164, 0.0), (1165, 0.0047032623307902), (1166, 0.004652636262942356), (1167, 0.011532304123030105), (1168, 0.0), (1169, 0.005426552970307011), (1170, 0.004524510820812179), (1171, 0.0), (1172, 0.0), (1173, 0.004240002466192695), (1174, 0.0), (1175, 0.0), (1176, 0.02218525971405696), (1177, 0.01004806733845503), (1178, 0.01691954474036006), (1179, 0.0), (1180, 0.0), (1181, 0.0), (1182, 0.04617577176739378), (1183, 0.0), (1184, 0.0), (1185, 0.0), (1186, 0.0), (1187, 0.005361591282052787), (1188, 0.0), (1189, 0.0), (1190, 0.004471821151741604), (1191, 0.0), (1192, 0.04117783180300441), (1193, 0.0), (1194, 0.004003260915495718), (1195, 0.010137562414014162), (1196, 0.004398491825259309), (1197, 0.009718699691171864), (1198, 0.0046528825280340745), (1199, 0.0485910653826095), (1200, 0.004252237214533856), (1201, 0.031917920612667454), (1202, 0.008955750426622115), (1203, 0.047679849528914756), (1204, 0.004520353586272634), (1205, 0.015921378959144045), (1206, 0.013818179204235472), (1207, 0.010159052915092509), (1208, 0.005603763282186946), (1209, 0.0), (1210, 0.0), (1211, 0.014761743626540737), (1212, 0.003935507802297662), (1213, 0.012834474940140058), (1214, 0.012260255090633856), (1215, 0.0), (1216, 0.05780121054569763), (1217, 0.0042839869557056934), (1218, 0.0), (1219, 0.0), (1220, 0.010018944297837565), (1221, 0.0), (1222, 0.003825120989365463), (1223, 0.010808677844092549), (1224, 0.004886561492224309), (1225, 0.0), (1226, 0.0), (1227, 0.0), (1228, 0.0), (1229, 0.0), (1230, 0.0), (1231, 0.004448190622397765), (1232, 0.0046855057581709336), (1233, 0.010719810890898449), (1234, 0.02011163661799594), (1235, 0.0), (1236, 0.0), (1237, 0.008748765150359583), (1238, 0.004539953092058172), (1239, 0.010613271379870209), (1240, 0.0), (1241, 0.012707321974696694), (1242, 0.022420114181190318), (1243, 0.00504998051384605), (1244, 0.0), (1245, 0.009558226178143206), (1246, 0.05929259047123378), (1247, 0.0), (1248, 0.0), (1249, 0.012877343423727115), (1250, 0.010859094705696935), (1251, 0.004081691032937832), (1252, 0.0), (1253, 0.009521534062479409), (1254, 0.0), (1255, 0.0205040712318073), (1256, 0.004582068532521366), (1257, 0.0), (1258, 0.0), (1259, 0.01821854184381159), (1260, 0.005044148324234213), (1261, 0.004413400915253084), (1262, 0.0), (1263, 0.0), (1264, 0.0), (1265, 0.011579255712986904), (1266, 0.0), (1267, 0.009206519530409787), (1268, 0.003852974178478896), (1269, 0.0), (1270, 0.009723126194751726), (1271, 0.010870761763066767), (1272, 0.01035819687316781), (1273, 0.0), (1274, 0.0), (1275, 0.0), (1276, 0.0), (1277, 0.01142616055692109), (1278, 0.0), (1279, 0.00886887957934752), (1280, 0.0), (1281, 0.0), (1282, 0.004931850000102403), (1283, 0.0), (1284, 0.0282833145156635), (1285, 0.0), (1286, 0.00477415794628637), (1287, 0.0), (1288, 0.013234359778281324), (1289, 0.0), (1290, 0.0), (1291, 0.0042978641768105195), (1292, 0.004312293148105717), (1293, 0.014207131318508594), (1294, 0.0), (1295, 0.010155250846371), (1296, 0.0), (1297, 0.004507327401150778), (1298, 0.004544989391104644), (1299, 0.0), (1300, 0.0038452303969246874), (1301, 0.0), (1302, 0.004600368723887205), (1303, 0.0), (1304, 0.05353404896145432), (1305, 0.0), (1306, 0.0), (1307, 0.0), (1308, 0.004269609093139828), (1309, 0.007895202941430392), (1310, 0.004257431962010847), (1311, 0.0), (1312, 0.004093181518907832), (1313, 0.0), (1314, 0.0), (1315, 0.010300472653441754), (1316, 0.0), (1317, 0.0038620424111468752), (1318, 0.0), (1319, 0.04316121018334012), (1320, 0.0037868673783416937), (1321, 0.027527704978524206), (1322, 0.0), (1323, 0.004249048179494133), (1324, 0.015541236056701522), (1325, 0.0), (1326, 0.0), (1327, 0.004332159750146601), (1328, 0.0), (1329, 0.008961650760864776), (1330, 0.004592913198657394), (1331, 0.0), (1332, 0.0), (1333, 0.0), (1334, 0.009817614777962053), (1335, 0.0), (1336, 0.014975256249518083), (1337, 0.004501223565539211), (1338, 0.0), (1339, 0.0), (1340, 0.004272385409607571), (1341, 0.003809536365341018), (1342, 0.0), (1343, 0.0), (1344, 0.011886290499386604), (1345, 0.004679501528913731), (1346, 0.0), (1347, 0.00989632491645698), (1348, 0.004113649900465433), (1349, 0.0), (1350, 0.0), (1351, 0.05137069072661995), (1352, 0.0), (1353, 0.0), (1354, 0.0), (1355, 0.02562352250562266), (1356, 0.0), (1357, 0.05457079759268779), (1358, 0.0), (1359, 0.009558345723969613), (1360, 0.0), (1361, 0.004721481668920575), (1362, 0.0034261515981517756), (1363, 0.004433337858788135), (1364, 0.004862792228726335), (1365, 0.008442902864071889), (1366, 0.008844939368981045), (1367, 0.0038324782772003593), (1368, 0.013649691155091454), (1369, 0.008193634922489677), (1370, 0.0039737053188961344), (1371, 0.016049332592376196), (1372, 0.018104157731104957), (1373, 0.0045456195105242425), (1374, 0.009649654553382183), (1375, 0.0), (1376, 0.021189298710916935), (1377, 0.0), (1378, 0.010494596459619922), (1379, 0.0), (1380, 0.0), (1381, 0.017012654797729454), (1382, 0.004821093179564198), (1383, 0.0), (1384, 0.0), (1385, 0.0), (1386, 0.014579045592435592), (1387, 0.0), (1388, 0.0), (1389, 0.022568218563253202), (1390, 0.0), (1391, 0.011384375678746445), (1392, 0.017288646179035416), (1393, 0.010454148112231961), (1394, 0.003981485981956132), (1395, 0.008684303497520397), (1396, 0.0), (1397, 0.004166282941756619), (1398, 0.0), (1399, 0.0), (1400, 0.0), (1401, 0.025522680050957283), (1402, 0.0), (1403, 0.03017116865786884), (1404, 0.009353571588642782), (1405, 0.04806166511142071), (1406, 0.0), (1407, 0.010955807267569563), (1408, 0.00446978475810168), (1409, 0.01561001439171323), (1410, 0.004632465041537334), (1411, 0.014634175641036773), (1412, 0.009230866490402393), (1413, 0.0), (1414, 0.012953757891731674), (1415, 0.0), (1416, 0.0), (1417, 0.0), (1418, 0.0), (1419, 0.009936588844502405), (1420, 0.014948929476529097), (1421, 0.0), (1422, 0.00452747035210671), (1423, 0.0), (1424, 0.005491625161200546), (1425, 0.029065726998945392), (1426, 0.010890449945218596), (1427, 0.004207437365047511), (1428, 0.023848097599218777), (1429, 0.0), (1430, 0.009943984962634945), (1431, 0.0199214853476046), (1432, 0.004891849437769923), (1433, 0.0), (1434, 0.0), (1435, 0.015028828444504694), (1436, 0.0), (1437, 0.0), (1438, 0.0), (1439, 0.0), (1440, 0.0), (1441, 0.0), (1442, 0.0), (1443, 0.05089769338273418), (1444, 0.0), (1445, 0.004790779481774449), (1446, 0.0), (1447, 0.004699564942335464), (1448, 0.0), (1449, 0.011193743751754128), (1450, 0.0), (1451, 0.019257269304902448), (1452, 0.011356346236861076), (1453, 0.0038777422328402362), (1454, 0.0), (1455, 0.0146928107133084), (1456, 0.0), (1457, 0.004368003307310469), (1458, 0.008720483437136661), (1459, 0.0), (1460, 0.0), (1461, 0.026600679760220354), (1462, 0.0), (1463, 0.0), (1464, 0.0), (1465, 0.004019733026300659), (1466, 0.0), (1467, 0.01537643887563548), (1468, 0.0042523944591554745), (1469, 0.015436126291658636), (1470, 0.0), (1471, 0.0), (1472, 0.0), (1473, 0.0), (1474, 0.0), (1475, 0.0), (1476, 0.004560879233925309), (1477, 0.004187045148076404), (1478, 0.0), (1479, 0.004933838020405017), (1480, 0.009645040155218648), (1481, 0.0), (1482, 0.004249592987650613), (1483, 0.0), (1484, 0.0), (1485, 0.004558682731857684), (1486, 0.0050274959598977965), (1487, 0.004283582847012178), (1488, 0.009065121411546202), (1489, 0.005233720197648868), (1490, 0.0), (1491, 0.005137204934884479), (1492, 0.0), (1493, 0.010021820997520135), (1494, 0.014618180961263102), (1495, 0.02053519738593613), (1496, 0.024422196781052112), (1497, 0.0), (1498, 0.012277881599162072), (1499, 0.0), (1500, 0.0), (1501, 0.004600753114178685), (1502, 0.025133133972887047), (1503, 0.009022875257238923), (1504, 0.0), (1505, 0.004725089580414282), (1506, 0.01894710631711785), (1507, 0.01652659249618541), (1508, 0.00462847109916932), (1509, 0.016109173054583464), (1510, 0.010198908668031421), (1511, 0.011444503119918941), (1512, 0.0), (1513, 0.020740359868539532), (1514, 0.0), (1515, 0.010469503794630049), (1516, 0.004808711752869889), (1517, 0.0), (1518, 0.03726132579812146), (1519, 0.0), (1520, 0.004928831923958659), (1521, 0.004220424442265926), (1522, 0.0), (1523, 0.0038772934436818816), (1524, 0.0), (1525, 0.004652350144567472), (1526, 0.014598075092652079), (1527, 0.0), (1528, 0.004209999153447436), (1529, 0.00905487620730483), (1530, 0.0), (1531, 0.011221682392451755), (1532, 0.010024774901381437), (1533, 0.00462118063432737), (1534, 0.0), (1535, 0.008942816405565497), (1536, 0.010623779970997217), (1537, 0.004910676573852065), (1538, 0.03155601429193662), (1539, 0.01712229745096378), (1540, 0.0), (1541, 0.0), (1542, 0.029556671046789877), (1543, 0.004189690683448708), (1544, 0.0), (1545, 0.0), (1546, 0.0), (1547, 0.0), (1548, 0.0), (1549, 0.014723440571928807), (1550, 0.0), (1551, 0.010573329567453969), (1552, 0.004449966687163427), (1553, 0.0), (1554, 0.0), (1555, 0.009810539342892912), (1556, 0.0), (1557, 0.004645813247431531), (1558, 0.0), (1559, 0.017613585502956264), (1560, 0.005201386026081507), (1561, 0.009679818659505795), (1562, 0.009915177109832944), (1563, 0.035201023392189064), (1564, 0.033264868689917154), (1565, 0.009601367471485024), (1566, 0.0), (1567, 0.0041578460987144635), (1568, 0.009716537884953358), (1569, 0.012746262582156907), (1570, 0.0), (1571, 0.004067085017470203), (1572, 0.0048069851075589805), (1573, 0.01075666270618075), (1574, 0.00986977748632586), (1575, 0.0), (1576, 0.0), (1577, 0.0), (1578, 0.0), (1579, 0.0), (1580, 0.010848177322059378), (1581, 0.0), (1582, 0.0043298322943939), (1583, 0.0), (1584, 0.009005484550384931), (1585, 0.009573909091298571), (1586, 0.008060098194219267), (1587, 0.004804815703469612), (1588, 0.010835759177633016), (1589, 0.004590053959192013), (1590, 0.009503188458991792), (1591, 0.016576417501516363), (1592, 0.0), (1593, 0.0), (1594, 0.004948428826874812), (1595, 0.0), (1596, 0.005031725637071213), (1597, 0.0), (1598, 0.0044722500189997945), (1599, 0.010112029852034958), (1600, 0.0), (1601, 0.03268872975057796), (1602, 0.033355091343101835), (1603, 0.0), (1604, 0.0), (1605, 0.0), (1606, 0.0), (1607, 0.0), (1608, 0.0), (1609, 0.0), (1610, 0.0044302106632655375), (1611, 0.0), (1612, 0.014605642825871176), (1613, 0.004720058269523786), (1614, 0.016563363998903194), (1615, 0.005282380842976093), (1616, 0.01268137185724775), (1617, 0.0), (1618, 0.004686124978630084), (1619, 0.0), (1620, 0.02280357273126953), (1621, 0.0), (1622, 0.010843699975251213), (1623, 0.01019528737497604), (1624, 0.0), (1625, 0.0), (1626, 0.02702723891031646), (1627, 0.00960984458572374), (1628, 0.0), (1629, 0.0), (1630, 0.00995026195288103), (1631, 0.00994595593108431), (1632, 0.019370149211556734), (1633, 0.010298746559857254), (1634, 0.009023150567826207), (1635, 0.010412359356264339), (1636, 0.0), (1637, 0.005400454045750347), (1638, 0.004663824177466035), (1639, 0.016536338895381565), (1640, 0.005165297697859516), (1641, 0.014271122073255364), (1642, 0.004342530466440208), (1643, 0.011015019844270207), (1644, 0.0), (1645, 0.0), (1646, 0.008017558876775351), (1647, 0.0), (1648, 0.0), (1649, 0.01905380033845569), (1650, 0.0), (1651, 0.0), (1652, 0.012916155831455431), (1653, 0.0), (1654, 0.0), (1655, 0.0), (1656, 0.0050860623818679345), (1657, 0.0), (1658, 0.005338259399281913), (1659, 0.0), (1660, 0.004761033098859265), (1661, 0.01188449427583071), (1662, 0.009865631024185384), (1663, 0.004526195381050349), (1664, 0.0), (1665, 0.0), (1666, 0.029274321293720724), (1667, 0.010206549831856227), (1668, 0.0), (1669, 0.0), (1670, 0.0), (1671, 0.0), (1672, 0.0), (1673, 0.047384338814343126), (1674, 0.0), (1675, 0.02116775146162892), (1676, 0.003740676139102461), (1677, 0.003722029659901715), (1678, 0.024619150599506905), (1679, 0.010510465090719418), (1680, 0.0), (1681, 0.0), (1682, 0.009198419701446758), (1683, 0.00481626386765335), (1684, 0.00413958554610162), (1685, 0.0), (1686, 0.0), (1687, 0.0), (1688, 0.00472281129876628), (1689, 0.0), (1690, 0.00828449825698265), (1691, 0.0), (1692, 0.0), (1693, 0.004504080415573631), (1694, 0.00403119113831942), (1695, 0.0036402258819242654), (1696, 0.0), (1697, 0.004714112052751058), (1698, 0.0), (1699, 0.009662340350450245), (1700, 0.01926136420540704), (1701, 0.00771822386465315), (1702, 0.0), (1703, 0.05308020438382356), (1704, 0.0), (1705, 0.025039610624530792), (1706, 0.0), (1707, 0.0), (1708, 0.0), (1709, 0.0), (1710, 0.0), (1711, 0.018109569355003956), (1712, 0.023983246631771368), (1713, 0.0), (1714, 0.00423863490830153), (1715, 0.023853822841541177), (1716, 0.0), (1717, 0.0), (1718, 0.015371753853795894), (1719, 0.004139521507801723), (1720, 0.0), (1721, 0.004484244785160754), (1722, 0.004723240562654738), (1723, 0.00922421281450728), (1724, 0.01177029372110882), (1725, 0.0), (1726, 0.0046324741964629025), (1727, 0.0048548728720208024), (1728, 0.0), (1729, 0.0), (1730, 0.0), (1731, 0.004869056459518275), (1732, 0.0), (1733, 0.005046368692803482), (1734, 0.0), (1735, 0.0), (1736, 0.0), (1737, 0.0), (1738, 0.00449851706624871), (1739, 0.0), (1740, 0.0), (1741, 0.0), (1742, 0.0), (1743, 0.01661482484922317), (1744, 0.004354767565528654), (1745, 0.009339755287706931), (1746, 0.03514525172709605), (1747, 0.0), (1748, 0.0), (1749, 0.0), (1750, 0.0044668228259988), (1751, 0.004678832957882623), (1752, 0.0), (1753, 0.0), (1754, 0.0), (1755, 0.0), (1756, 0.010040274425244381), (1757, 0.009747231761283096), (1758, 0.0), (1759, 0.009186988428690802), (1760, 0.0), (1761, 0.0), (1762, 0.008838726307803016), (1763, 0.0), (1764, 0.013142424842716055), (1765, 0.004878785390805266), (1766, 0.005209084612164309), (1767, 0.0), (1768, 0.0), (1769, 0.004667127593523745), (1770, 0.0), (1771, 0.004477828613140473), (1772, 0.0), (1773, 0.0), (1774, 0.0), (1775, 0.0), (1776, 0.0), (1777, 0.010076426915420367), (1778, 0.0043631890219075755), (1779, 0.025184713514783293), (1780, 0.0), (1781, 0.0038507786750963456), (1782, 0.014195898629318244), (1783, 0.00457273093255811), (1784, 0.049157843359604096), (1785, 0.0), (1786, 0.0), (1787, 0.0042721000513756685), (1788, 0.004296053200708941), (1789, 0.0), (1790, 0.0), (1791, 0.0048423945863978355), (1792, 0.005353675974985819), (1793, 0.0), (1794, 0.01493251308686793), (1795, 0.0), (1796, 0.0), (1797, 0.00430589737450712), (1798, 0.0), (1799, 0.0), (1800, 0.0), (1801, 0.0), (1802, 0.008384716014046686), (1803, 0.009966791266637883), (1804, 0.014203657503327468), (1805, 0.0), (1806, 0.005276343201582246), (1807, 0.0), (1808, 0.017987894918894853), (1809, 0.022199421218935225), (1810, 0.0), (1811, 0.014293400199089923), (1812, 0.0), (1813, 0.010174027876551953), (1814, 0.0), (1815, 0.0), (1816, 0.017100211966974165), (1817, 0.009691280618848707), (1818, 0.0), (1819, 0.010072551497157115), (1820, 0.0), (1821, 0.004839127561933167), (1822, 0.005008035026025664), (1823, 0.0), (1824, 0.0043075948952648), (1825, 0.0), (1826, 0.0), (1827, 0.004201086102449385), (1828, 0.0), (1829, 0.0), (1830, 0.004124447230594712), (1831, 0.0), (1832, 0.0), (1833, 0.004279780695950758), (1834, 0.0), (1835, 0.011331066458010236), (1836, 0.005145054453414274), (1837, 0.0046604002078653485), (1838, 0.009319544546210633), (1839, 0.0043007645060480545), (1840, 0.02331057433835093), (1841, 0.0), (1842, 0.004481896238540398), (1843, 0.024621203800116283), (1844, 0.0), (1845, 0.0), (1846, 0.021292876111911798), (1847, 0.00468109344609601), (1848, 0.005029820723217159), (1849, 0.0), (1850, 0.0040263626203251345), (1851, 0.0048859721023150945), (1852, 0.02010132574924834), (1853, 0.0), (1854, 0.0), (1855, 0.0), (1856, 0.0), (1857, 0.020926263514076986), (1858, 0.0), (1859, 0.02105956739205738), (1860, 0.0), (1861, 0.007011226752381697), (1862, 0.0), (1863, 0.11901357108644522), (1864, 0.033463970768639724), (1865, 0.008924160459460885), (1866, 0.0), (1867, 0.004514155924173272), (1868, 0.0), (1869, 0.0), (1870, 0.0), (1871, 0.0036642501246200677), (1872, 0.052204863117275555), (1873, 0.010607290623255914), (1874, 0.0), (1875, 0.0), (1876, 0.010335809382871528), (1877, 0.0043336038006779355), (1878, 0.013756028404164584), (1879, 0.0), (1880, 0.004545461942090265), (1881, 0.01470351346775156), (1882, 0.0), (1883, 0.003701272907802323), (1884, 0.0), (1885, 0.0), (1886, 0.0), (1887, 0.0), (1888, 0.009008537154258827), (1889, 0.004708183273405861), (1890, 0.0), (1891, 0.0), (1892, 0.0), (1893, 0.00980719536993225), (1894, 0.0), (1895, 0.0), (1896, 0.0), (1897, 0.0), (1898, 0.0043546627600955685), (1899, 0.017972031794470707), (1900, 0.004402237145599685), (1901, 0.0), (1902, 0.027280026775078826), (1903, 0.013135705518688302), (1904, 0.011518154668046452), (1905, 0.0), (1906, 0.0), (1907, 0.011380844333643494), (1908, 0.0), (1909, 0.0), (1910, 0.008517266087565145), (1911, 0.004733063009334715), (1912, 0.004501760862847594), (1913, 0.004443269910785138), (1914, 0.009702340624912093), (1915, 0.0), (1916, 0.0), (1917, 0.0), (1918, 0.0), (1919, 0.013383190469197812), (1920, 0.008858300426326361), (1921, 0.0), (1922, 0.0), (1923, 0.005015824054396487), (1924, 0.0), (1925, 0.01755632390270304), (1926, 0.004965132667473457), (1927, 0.010449406827112637), (1928, 0.0), (1929, 0.004341620443056066), (1930, 0.011017638398017506), (1931, 0.0), (1932, 0.0), (1933, 0.010620347837991817), (1934, 0.0), (1935, 0.03125693732018604), (1936, 0.0), (1937, 0.0731398186121272), (1938, 0.0), (1939, 0.00595288694797163), (1940, 0.012267319196993897), (1941, 0.00528897032983003), (1942, 0.0), (1943, 0.003942685762198092), (1944, 0.0), (1945, 0.0), (1946, 0.0), (1947, 0.0), (1948, 0.013986137652890567), (1949, 0.0), (1950, 0.0), (1951, 0.009712518775827968), (1952, 0.0), (1953, 0.01031874560250837), (1954, 0.004007657927867471), (1955, 0.004912231777562788), (1956, 0.004713817916677639), (1957, 0.0), (1958, 0.0216879399244799), (1959, 0.05465700085838948), (1960, 0.0), (1961, 0.004643580905023467), (1962, 0.011912499528653484), (1963, 0.0038631699427653255), (1964, 0.0), (1965, 0.004702565599940379), (1966, 0.01042353178012115), (1967, 0.024896368730609866), (1968, 0.01180332657468243), (1969, 0.0), (1970, 0.010537091507337622), (1971, 0.0), (1972, 0.0), (1973, 0.004343763462058909), (1974, 0.004249066536457184), (1975, 0.011116172650156365), (1976, 0.0), (1977, 0.008773271319433187), (1978, 0.008647198910708883), (1979, 0.0), (1980, 0.004105508042200836), (1981, 0.0038531660152960816), (1982, 0.004218609205768263), (1983, 0.0), (1984, 0.0044963883026347875), (1985, 0.010735119446147847), (1986, 0.004565850223351035), (1987, 0.004158238534842213), (1988, 0.0), (1989, 0.0), (1990, 0.009647091062020241), (1991, 0.0), (1992, 0.014289978596512546), (1993, 0.010600072322816035), (1994, 0.0), (1995, 0.0), (1996, 0.00971840511177407), (1997, 0.0), (1998, 0.06111772734178735), (1999, 0.005100403663204552), (2000, 0.0), (2001, 0.004003396175959515), (2002, 0.0), (2003, 0.004642207957726177), (2004, 0.0), (2005, 0.0), (2006, 0.003950363730546292), (2007, 0.0872768566654527), (2008, 0.0), (2009, 0.005465569296557272), (2010, 0.0), (2011, 0.0), (2012, 0.0051087470823039825), (2013, 0.0), (2014, 0.0), (2015, 0.0), (2016, 0.0), (2017, 0.0), (2018, 0.003860837378294451), (2019, 0.004530316861229635), (2020, 0.0), (2021, 0.005012296718776052), (2022, 0.008073245498680943), (2023, 0.0), (2024, 0.0), (2025, 0.0), (2026, 0.004495960941535301), (2027, 0.0), (2028, 0.0), (2029, 0.0), (2030, 0.0), (2031, 0.009653522409976127), (2032, 0.03304716046001093), (2033, 0.0040828215325887695), (2034, 0.0), (2035, 0.0), (2036, 0.028145799057953343), (2037, 0.010302325382198047), (2038, 0.0), (2039, 0.0), (2040, 0.0), (2041, 0.004700037688998971), (2042, 0.0), (2043, 0.004194046363904872), (2044, 0.0), (2045, 0.0), (2046, 0.019865865693334237), (2047, 0.012722602694909439), (2048, 0.015572162384655037), (2049, 0.005157091442358464), (2050, 0.004408177748010684), (2051, 0.0), (2052, 0.0), (2053, 0.01041727835522484), (2054, 0.0), (2055, 0.0), (2056, 0.004475370694901606), (2057, 0.010319312081423301), (2058, 0.004152454470417905), (2059, 0.039540636760420494), (2060, 0.01906566651363928), (2061, 0.0), (2062, 0.009975766269722599), (2063, 0.0), (2064, 0.0), (2065, 0.0), (2066, 0.016327580482959125), (2067, 0.0), (2068, 0.004448213720756707), (2069, 0.0), (2070, 0.0), (2071, 0.0), (2072, 0.0), (2073, 0.014792236507072417), (2074, 0.01818356869337691), (2075, 0.0), (2076, 0.003906928411306183), (2077, 0.0054904269776789435), (2078, 0.0), (2079, 0.0), (2080, 0.0), (2081, 0.004756028730654255), (2082, 0.00514507359932623), (2083, 0.0), (2084, 0.0), (2085, 0.0), (2086, 0.004874567964305104), (2087, 0.0045479246499959426), (2088, 0.0), (2089, 0.0), (2090, 0.0047836453189312135), (2091, 0.0), (2092, 0.030189952070993377), (2093, 0.0043154643770474685), (2094, 0.009915852090711504), (2095, 0.0), (2096, 0.0), (2097, 0.0), (2098, 0.0), (2099, 0.004267200528948802), (2100, 0.009323042735109208), (2101, 0.028322167593701812), (2102, 0.0), (2103, 0.009582001586756306), (2104, 0.010440517367365317), (2105, 0.0), (2106, 0.009498665720349044), (2107, 0.004397117037973697), (2108, 0.005146457490459216), (2109, 0.0), (2110, 0.009920491138063566), (2111, 0.060640466865948095), (2112, 0.0), (2113, 0.0), (2114, 0.020939657496455655), (2115, 0.0), (2116, 0.005049652300298021), (2117, 0.0), (2118, 0.018733497392510963), (2119, 0.0), (2120, 0.0), (2121, 0.02137045764474652), (2122, 0.014300073165149117), (2123, 0.0), (2124, 0.0), (2125, 0.004667445321182857), (2126, 0.0), (2127, 0.0), (2128, 0.0), (2129, 0.0), (2130, 0.0), (2131, 0.004464881659407628), (2132, 0.0), (2133, 0.0), (2134, 0.0), (2135, 0.020455664996937104), (2136, 0.0), (2137, 0.006205228132786094), (2138, 0.0), (2139, 0.009982353465505033), (2140, 0.025458109987261904), (2141, 0.0), (2142, 0.0), (2143, 0.0), (2144, 0.0), (2145, 0.008395625378312), (2146, 0.004127220707763505), (2147, 0.0), (2148, 0.009488701806202827), (2149, 0.0), (2150, 0.00436929348719012), (2151, 0.009800233429228446), (2152, 0.009470503091027803), (2153, 0.00451529340195597), (2154, 0.0), (2155, 0.0), (2156, 0.04400378187047458), (2157, 0.003923927343571703), (2158, 0.016148558134244664), (2159, 0.010771768786292026), (2160, 0.0), (2161, 0.004096960041687765), (2162, 0.0), (2163, 0.0), (2164, 0.0), (2165, 0.0), (2166, 0.05200960560132041), (2167, 0.014147416612452491), (2168, 0.00409267478072099), (2169, 0.0), (2170, 0.004261128831853479), (2171, 0.0), (2172, 0.0), (2173, 0.0), (2174, 0.009641935770145903), (2175, 0.04685049442389831), (2176, 0.0), (2177, 0.0), (2178, 0.010390483486257523), (2179, 0.004483178349006065), (2180, 0.0120004414712336), (2181, 0.0), (2182, 0.0), (2183, 0.0), (2184, 0.047988219789998655), (2185, 0.0), (2186, 0.005384129865073484), (2187, 0.005220067001737889), (2188, 0.0), (2189, 0.0), (2190, 0.0), (2191, 0.009024926607502579), (2192, 0.004616065451917905), (2193, 0.004620571776182282), (2194, 0.004849656261896986), (2195, 0.014381725718661965), (2196, 0.035002806583748075), (2197, 0.0), (2198, 0.0), (2199, 0.005796096153531719), (2200, 0.0), (2201, 0.004269735037111119), (2202, 0.018778537878747868), (2203, 0.0), (2204, 0.021074054073642788), (2205, 0.0), (2206, 0.0), (2207, 0.0044260448338308365), (2208, 0.004795608669829072), (2209, 0.0051346324317952195), (2210, 0.0), (2211, 0.003920208290240669), (2212, 0.0), (2213, 0.0), (2214, 0.0), (2215, 0.0), (2216, 0.04854435595155122), (2217, 0.004681496933621161), (2218, 0.004937203732041685), (2219, 0.0), (2220, 0.007658535701401081), (2221, 0.0), (2222, 0.004782721533192612), (2223, 0.005035769915616223), (2224, 0.0), (2225, 0.04954698489857956), (2226, 0.0), (2227, 0.008710887409669044), (2228, 0.005747057806613401), (2229, 0.012167592693315604), (2230, 0.0), (2231, 0.0), (2232, 0.0), (2233, 0.0), (2234, 0.009161966234336743), (2235, 0.010426414203504139), (2236, 0.004203824886370827), (2237, 0.01717788955222162), (2238, 0.0), (2239, 0.022729818582753553), (2240, 0.004106433037064666), (2241, 0.004853043684669738), (2242, 0.004754893404608016), (2243, 0.0), (2244, 0.0), (2245, 0.03873282415986242), (2246, 0.03580706603970579), (2247, 0.0), (2248, 0.0), (2249, 0.004735939432037133), (2250, 0.0), (2251, 0.0), (2252, 0.0), (2253, 0.0), (2254, 0.0), (2255, 0.013763591213727706), (2256, 0.0), (2257, 0.0), (2258, 0.0), (2259, 0.0), (2260, 0.005155968243903516), (2261, 0.005267245903431115), (2262, 0.013074849192049444), (2263, 0.010585334896904717), (2264, 0.00416064256904089), (2265, 0.004222553785197996), (2266, 0.0), (2267, 0.0), (2268, 0.0), (2269, 0.0), (2270, 0.004036163053489119), (2271, 0.0), (2272, 0.0), (2273, 0.012210607123278629), (2274, 0.0), (2275, 0.0), (2276, 0.0), (2277, 0.0), (2278, 0.010817274915935414), (2279, 0.0), (2280, 0.004501817753842935), (2281, 0.0059882152435254965), (2282, 0.0), (2283, 0.0), (2284, 0.015400219623583143), (2285, 0.0), (2286, 0.0), (2287, 0.0), (2288, 0.0), (2289, 0.0), (2290, 0.004589511560286711), (2291, 0.0), (2292, 0.027348178757873275), (2293, 0.0), (2294, 0.0), (2295, 0.010802372146567497), (2296, 0.0), (2297, 0.004613371463577953), (2298, 0.0), (2299, 0.0), (2300, 0.0), (2301, 0.0), (2302, 0.005203520803841897), (2303, 0.00482397934409901), (2304, 0.010188770327496939), (2305, 0.0), (2306, 0.0), (2307, 0.0), (2308, 0.00542577251469129), (2309, 0.004843455958841711), (2310, 0.0), (2311, 0.055599269878441), (2312, 0.0), (2313, 0.0), (2314, 0.01183740736037956), (2315, 0.0), (2316, 0.0), (2317, 0.009632506688894456), (2318, 0.0), (2319, 0.0), (2320, 0.005341851829728769), (2321, 0.0), (2322, 0.0), (2323, 0.0), (2324, 0.0), (2325, 0.0), (2326, 0.00829419975683791), (2327, 0.02750297972599614), (2328, 0.0), (2329, 0.014092808897276576), (2330, 0.0), (2331, 0.003952975322765379), (2332, 0.0), (2333, 0.005528026842971681), (2334, 0.0), (2335, 0.0045461103914604594), (2336, 0.004644849306477882), (2337, 0.0), (2338, 0.0), (2339, 0.0), (2340, 0.004627835820435064), (2341, 0.0), (2342, 0.0), (2343, 0.0), (2344, 0.0), (2345, 0.0), (2346, 0.0), (2347, 0.023014406762976544), (2348, 0.004990415252678439), (2349, 0.0), (2350, 0.0), (2351, 0.005401804497398867), (2352, 0.0), (2353, 0.014875295891958807), (2354, 0.0), (2355, 0.0), (2356, 0.0), (2357, 0.03445667398998381), (2358, 0.0), (2359, 0.0), (2360, 0.0), (2361, 0.0), (2362, 0.0), (2363, 0.00582328848555525), (2364, 0.016373958033757435), (2365, 0.0), (2366, 0.0), (2367, 0.004261393241910982), (2368, 0.005399349109157865), (2369, 0.0), (2370, 0.025039426032898514), (2371, 0.0), (2372, 0.0), (2373, 0.009357282518112449), (2374, 0.0), (2375, 0.02079078932391825), (2376, 0.0), (2377, 0.0), (2378, 0.011958332464648386), (2379, 0.006358185686108106), (2380, 0.0668139638001162), (2381, 0.005088382827150664), (2382, 0.0), (2383, 0.0), (2384, 0.0), (2385, 0.004625883854354015), (2386, 0.0), (2387, 0.004754481488066028), (2388, 0.0), (2389, 0.004167685154504692), (2390, 0.0), (2391, 0.004952421968071478), (2392, 0.0), (2393, 0.0), (2394, 0.021174729384292136), (2395, 0.006470722507280185), (2396, 0.00464236256183853), (2397, 0.018908305217161053), (2398, 0.0), (2399, 0.013196101465065922), (2400, 0.0), (2401, 0.0), (2402, 0.004424091271339182), (2403, 0.005257096976431098), (2404, 0.006213918570911318), (2405, 0.015185588599181506), (2406, 0.0), (2407, 0.0), (2408, 0.0), (2409, 0.013875844905533969), (2410, 0.005150396926716741), (2411, 0.0), (2412, 0.0), (2413, 0.0), (2414, 0.0), (2415, 0.0), (2416, 0.0), (2417, 0.0), (2418, 0.0), (2419, 0.0), (2420, 0.0050260655252103645), (2421, 0.009927461838045699), (2422, 0.004579823899239021), (2423, 0.005933694177949177), (2424, 0.004302912393111633), (2425, 0.0), (2426, 0.004186827892261828), (2427, 0.0), (2428, 0.0), (2429, 0.0), (2430, 0.009564297758313575), (2431, 0.004752306456632778), (2432, 0.010276298023685747), (2433, 0.004173789420235196), (2434, 0.005459152377980298), (2435, 0.03743680616770878), (2436, 0.0), (2437, 0.0), (2438, 0.0), (2439, 0.004091721429132031), (2440, 0.004498408585128104), (2441, 0.003799251042381698), (2442, 0.0), (2443, 0.007171493079114959), (2444, 0.004725704852368038), (2445, 0.013577131423449105), (2446, 0.004396520461557622), (2447, 0.0), (2448, 0.0), (2449, 0.004701419006415339), (2450, 0.004519305049162132), (2451, 0.015726775987839243), (2452, 0.0), (2453, 0.0), (2454, 0.0), (2455, 0.019384642241615072), (2456, 0.0046930202734970505), (2457, 0.0), (2458, 0.0), (2459, 0.0), (2460, 0.0), (2461, 0.004391545945859514), (2462, 0.0), (2463, 0.0), (2464, 0.005444783229067904), (2465, 0.0), (2466, 0.0), (2467, 0.004388106270351164), (2468, 0.005433281019448741), (2469, 0.0), (2470, 0.0), (2471, 0.0), (2472, 0.004814132566036272), (2473, 0.020779965573583196), (2474, 0.0), (2475, 0.0), (2476, 0.0), (2477, 0.0), (2478, 0.0052292783644592436), (2479, 0.005455828920240771), (2480, 0.010340685046053708), (2481, 0.0), (2482, 0.0), (2483, 0.020465814159543502), (2484, 0.0), (2485, 0.0), (2486, 0.005301524072853106), (2487, 0.020259475589146675), (2488, 0.005488326853681365), (2489, 0.0), (2490, 0.0), (2491, 0.0), (2492, 0.0046635213902753185), (2493, 0.005159142470609074), (2494, 0.004719182316765281), (2495, 0.00480863438461848), (2496, 0.01030337043987876), (2497, 0.014047311013618568), (2498, 0.0), (2499, 0.004701450117973817), (2500, 0.0063207586945729765), (2501, 0.0), (2502, 0.0), (2503, 0.0), (2504, 0.0047659510999782575), (2505, 0.0), (2506, 0.0), (2507, 0.015565102639762395), (2508, 0.0), (2509, 0.0040087300990677786), (2510, 0.0), (2511, 0.0047127660741944355), (2512, 0.0044237454767485805), (2513, 0.0), (2514, 0.008997575019477573), (2515, 0.0), (2516, 0.0), (2517, 0.00928075036331804), (2518, 0.016480711387058086), (2519, 0.020816788382600187), (2520, 0.0), (2521, 0.0), (2522, 0.0), (2523, 0.0), (2524, 0.0), (2525, 0.008959247616439568), (2526, 0.0), (2527, 0.0), (2528, 0.0), (2529, 0.006611415507772345), (2530, 0.0), (2531, 0.004803073445246367), (2532, 0.0), (2533, 0.0), (2534, 0.0), (2535, 0.005392489198227742), (2536, 0.0), (2537, 0.006136693076481923), (2538, 0.006131634316246335), (2539, 0.004080965448822454), (2540, 0.009490694708715426), (2541, 0.01765612675270411), (2542, 0.0), (2543, 0.0058826206289949255), (2544, 0.0), (2545, 0.0), (2546, 0.00493483284685493), (2547, 0.0), (2548, 0.0), (2549, 0.0), (2550, 0.011064807441951966), (2551, 0.0), (2552, 0.02303888304340223), (2553, 0.02811292724953046), (2554, 0.004761328944968674), (2555, 0.0), (2556, 0.0), (2557, 0.0), (2558, 0.0), (2559, 0.032293937092120126), (2560, 0.0), (2561, 0.005046694510617369), (2562, 0.0), (2563, 0.008267451711091871), (2564, 0.01301723524991118), (2565, 0.0), (2566, 0.004831963545349302), (2567, 0.0), (2568, 0.029668825137876286), (2569, 0.004714268745432709), (2570, 0.005395852116990523), (2571, 0.0), (2572, 0.0), (2573, 0.008844606668565444), (2574, 0.0), (2575, 0.005182966982370289), (2576, 0.0), (2577, 0.0), (2578, 0.0), (2579, 0.0), (2580, 0.00873644695190458), (2581, 0.0055496869988004025), (2582, 0.004699873545498718), (2583, 0.0), (2584, 0.008445504030497559), (2585, 0.0), (2586, 0.004723045615177513), (2587, 0.05221728456394173), (2588, 0.02041924992965366), (2589, 0.0), (2590, 0.0044650122881405565), (2591, 0.004128553546096815), (2592, 0.005079095704350426), (2593, 0.0), (2594, 0.004404002009627369), (2595, 0.0), (2596, 0.0), (2597, 0.007431578594503575), (2598, 0.0), (2599, 0.011531614041399078), (2600, 0.005978703010512495), (2601, 0.031090029678820685), (2602, 0.0), (2603, 0.003925772781196315), (2604, 0.005074273385961124), (2605, 0.004825053459797238), (2606, 0.0), (2607, 0.0), (2608, 0.03718807927923865), (2609, 0.0), (2610, 0.03361220207915243), (2611, 0.0), (2612, 0.0), (2613, 0.0), (2614, 0.015544870795403865), (2615, 0.004173893367840999), (2616, 0.004455808884673858), (2617, 0.00899868630086171), (2618, 0.010131628176808924), (2619, 0.005452708280410785), (2620, 0.014907128445856776), (2621, 0.0), (2622, 0.0), (2623, 0.0), (2624, 0.0), (2625, 0.0), (2626, 0.004921232959769291), (2627, 0.0), (2628, 0.019743125379029766), (2629, 0.0), (2630, 0.01118301880203707), (2631, 0.013877947571429204), (2632, 0.009943653196682195), (2633, 0.004852333508317766), (2634, 0.0), (2635, 0.005248739759425773), (2636, 0.01104664755296061), (2637, 0.010000709337015566), (2638, 0.0), (2639, 0.0), (2640, 0.0), (2641, 0.0), (2642, 0.0044520173880203875), (2643, 0.0), (2644, 0.014492518093663961), (2645, 0.0), (2646, 0.01163109717388896), (2647, 0.0), (2648, 0.0), (2649, 0.020212532551296323), (2650, 0.05149729112297013), (2651, 0.0), (2652, 0.0), (2653, 0.0), (2654, 0.019381364105987887), (2655, 0.0), (2656, 0.005586786522686025), (2657, 0.0), (2658, 0.0), (2659, 0.0), (2660, 0.00654070198768922), (2661, 0.02725120121570347), (2662, 0.0048991316869563895), (2663, 0.018676189898324397), (2664, 0.0), (2665, 0.0038334326078613683), (2666, 0.004350353317123973), (2667, 0.0), (2668, 0.010075695377017484), (2669, 0.0), (2670, 0.0), (2671, 0.011058816644400457), (2672, 0.0), (2673, 0.0), (2674, 0.0), (2675, 0.0), (2676, 0.0), (2677, 0.019098679228727707), (2678, 0.00734705341946925), (2679, 0.0), (2680, 0.009924242295993908), (2681, 0.004406817679020162), (2682, 0.00958578334761578), (2683, 0.03690899010381964), (2684, 0.0), (2685, 0.00465539669583903), (2686, 0.01844947110269237), (2687, 0.014316264623729254), (2688, 0.004006219235862573), (2689, 0.0), (2690, 0.015192176915071232), (2691, 0.025210290661950574), (2692, 0.0), (2693, 0.02855989320971775), (2694, 0.0), (2695, 0.0), (2696, 0.005393141831800419), (2697, 0.0), (2698, 0.0), (2699, 0.004420617887538756), (2700, 0.0), (2701, 0.006772325413759664), (2702, 0.005267518166331618), (2703, 0.0), (2704, 0.024181975455658953), (2705, 0.0), (2706, 0.00460912609764948), (2707, 0.0), (2708, 0.0), (2709, 0.004932513566103803), (2710, 0.0), (2711, 0.0), (2712, 0.010359620510567458), (2713, 0.0), (2714, 0.03509941925742189), (2715, 0.0060748832133188865), (2716, 0.0), (2717, 0.0), (2718, 0.0), (2719, 0.0), (2720, 0.005206025372515877), (2721, 0.004105820820095943), (2722, 0.006402273354087287), (2723, 0.024681480585133083), (2724, 0.0), (2725, 0.0), (2726, 0.004682866490053715), (2727, 0.005611125099617384), (2728, 0.004368367696101112), (2729, 0.009440119403766076), (2730, 0.0173322119985939), (2731, 0.0), (2732, 0.009369503361827979), (2733, 0.01189921615670742), (2734, 0.01745589364639449), (2735, 0.0), (2736, 0.009998419946850247), (2737, 0.007176771102831023), (2738, 0.005559387819738695), (2739, 0.0), (2740, 0.0), (2741, 0.004242449714211182), (2742, 0.0), (2743, 0.0), (2744, 0.004697978024650617), (2745, 0.0), (2746, 0.004667730276108291), (2747, 0.00829844541082725), (2748, 0.0), (2749, 0.0), (2750, 0.0), (2751, 0.009263950571932992), (2752, 0.0), (2753, 0.0), (2754, 0.005146435313532902), (2755, 0.005037900846421698), (2756, 0.00553771935900462), (2757, 0.0), (2758, 0.003842531178630135), (2759, 0.021879657988162944), (2760, 0.0), (2761, 0.0), (2762, 0.0), (2763, 0.036820594781227144), (2764, 0.006407589210615776), (2765, 0.0), (2766, 0.0), (2767, 0.0), (2768, 0.0), (2769, 0.005292881952631676), (2770, 0.004177346809337072), (2771, 0.0), (2772, 0.0), (2773, 0.0), (2774, 0.0), (2775, 0.0), (2776, 0.015306476542607002), (2777, 0.0), (2778, 0.0), (2779, 0.0), (2780, 0.0), (2781, 0.005511516569488084), (2782, 0.005019480248430139), (2783, 0.0), (2784, 0.0), (2785, 0.012411740054649446), (2786, 0.0054867937374185214), (2787, 0.004502635035270741), (2788, 0.0), (2789, 0.0), (2790, 0.025845267903909876), (2791, 0.0), (2792, 0.0), (2793, 0.014831489222836128), (2794, 0.004688494874729328), (2795, 0.0), (2796, 0.005375525034517142), (2797, 0.005744091757245033), (2798, 0.0), (2799, 0.005095016666837401), (2800, 0.0), (2801, 0.01790670552450077), (2802, 0.0), (2803, 0.0), (2804, 0.0045099422456166905), (2805, 0.003997251037278343), (2806, 0.0), (2807, 0.004648745663225594), (2808, 0.0), (2809, 0.03285209133173155), (2810, 0.005278397030105726), (2811, 0.004912311109179351), (2812, 0.004600182818037681), (2813, 0.014533026160806772), (2814, 0.0032923770041998176), (2815, 0.0), (2816, 0.004788947531897569), (2817, 0.015277412620303077), (2818, 0.0), (2819, 0.0), (2820, 0.024267281884629052), (2821, 0.0), (2822, 0.0), (2823, 0.004464019313071788), (2824, 0.010400266247226687), (2825, 0.004491009424821546), (2826, 0.009646032027249575), (2827, 0.01000501463330274), (2828, 0.039440949458609494), (2829, 0.013713128204647016), (2830, 0.0), (2831, 0.0), (2832, 0.006336687261280786), (2833, 0.004053995598259776), (2834, 0.005558235743538193), (2835, 0.0), (2836, 0.004542108928504267), (2837, 0.013406514229219096), (2838, 0.005710313121331078), (2839, 0.0), (2840, 0.0), (2841, 0.008425369319496124), (2842, 0.0), (2843, 0.005089091351013515), (2844, 0.008046551020793474), (2845, 0.008888247934784474), (2846, 0.005388537225812757), (2847, 0.029289269330261304), (2848, 0.0), (2849, 0.0), (2850, 0.0), (2851, 0.0), (2852, 0.016162035515701046), (2853, 0.0), (2854, 0.0), (2855, 0.004175592220142899), (2856, 0.004722363637870327), (2857, 0.005403106067160541), (2858, 0.006398860950646803), (2859, 0.0), (2860, 0.0), (2861, 0.0), (2862, 0.013896554469149487), (2863, 0.0), (2864, 0.026909070628977724), (2865, 0.010383582042390309), (2866, 0.004503226817082418), (2867, 0.0), (2868, 0.0), (2869, 0.0), (2870, 0.020546834848429472), (2871, 0.009955565834906286), (2872, 0.005382938853820408), (2873, 0.005035420380931089), (2874, 0.004169491717104431), (2875, 0.0), (2876, 0.003938868332175984), (2877, 0.0), (2878, 0.015171093097211858), (2879, 0.0), (2880, 0.004963662298459083), (2881, 0.0), (2882, 0.004898681633301697), (2883, 0.0), (2884, 0.005256473515135327), (2885, 0.0), (2886, 0.0), (2887, 0.0), (2888, 0.0), (2889, 0.0), (2890, 0.0), (2891, 0.006342209130266473), (2892, 0.0), (2893, 0.010318801534014505), (2894, 0.0), (2895, 0.0), (2896, 0.0), (2897, 0.004456532314198274), (2898, 0.01619837325083735), (2899, 0.00989313103497254), (2900, 0.0), (2901, 0.0), (2902, 0.0), (2903, 0.04236258049683922), (2904, 0.0), (2905, 0.0), (2906, 0.0), (2907, 0.0), (2908, 0.007873646719088741), (2909, 0.0), (2910, 0.015281335772713449), (2911, 0.0), (2912, 0.014249596747451427), (2913, 0.003988269010369386), (2914, 0.0), (2915, 0.0), (2916, 0.0), (2917, 0.0), (2918, 0.0), (2919, 0.0), (2920, 0.0), (2921, 0.0), (2922, 0.0), (2923, 0.0), (2924, 0.005175767630446923), (2925, 0.003730445143145127), (2926, 0.004859945685791521), (2927, 0.01754849426821273), (2928, 0.005859095946959542), (2929, 0.009506940597317336), (2930, 0.0), (2931, 0.0), (2932, 0.0), (2933, 0.004037971352416944), (2934, 0.0), (2935, 0.009291940629045693), (2936, 0.0), (2937, 0.0), (2938, 0.0), (2939, 0.0), (2940, 0.004744548471287664), (2941, 0.07059819805899081), (2942, 0.00866278074190453), (2943, 0.0), (2944, 0.0), (2945, 0.004530456442230898), (2946, 0.0), (2947, 0.0), (2948, 0.00580728492436813), (2949, 0.011127342057899007), (2950, 0.0), (2951, 0.004916065799688872), (2952, 0.0), (2953, 0.0), (2954, 0.004291498738319817), (2955, 0.0), (2956, 0.03502573588200957), (2957, 0.0), (2958, 0.0), (2959, 0.0), (2960, 0.0), (2961, 0.0), (2962, 0.013525305914585287), (2963, 0.0), (2964, 0.02579065442292156), (2965, 0.0), (2966, 0.013170468892894064), (2967, 0.0), (2968, 0.0), (2969, 0.0), (2970, 0.004944648253951108), (2971, 0.004317736439775886), (2972, 0.0046071710575469925), (2973, 0.004687864826841506), (2974, 0.0), (2975, 0.0), (2976, 0.0), (2977, 0.0), (2978, 0.004876106571579718), (2979, 0.016645559393988096), (2980, 0.0), (2981, 0.0), (2982, 0.005161618571190867), (2983, 0.005898300039357666), (2984, 0.009653870215101725), (2985, 0.0), (2986, 0.005380307545198195), (2987, 0.017233834790626287), (2988, 0.015400456998519826), (2989, 0.0), (2990, 0.0), (2991, 0.010710293364213593), (2992, 0.004325367612232262), (2993, 0.0), (2994, 0.005099588444162066), (2995, 0.0), (2996, 0.010315207033910201), (2997, 0.0), (2998, 0.0), (2999, 0.0048672807704132435), (3000, 0.009979711368776716), (3001, 0.011743850933746513), (3002, 0.010518689105249897), (3003, 0.00516329065422847), (3004, 0.0), (3005, 0.010707966599020919), (3006, 0.0), (3007, 0.02735746980407287), (3008, 0.0), (3009, 0.006052018136118758), (3010, 0.00949059061154542), (3011, 0.0), (3012, 0.0), (3013, 0.0160231430918442), (3014, 0.009423985483403906), (3015, 0.0), (3016, 0.004660433166578074), (3017, 0.005563965248773364), (3018, 0.004648632591658733), (3019, 0.0), (3020, 0.0056127048688466965), (3021, 0.009889202856309592), (3022, 0.0), (3023, 0.014134342153277076), (3024, 0.0), (3025, 0.0), (3026, 0.005064862567295071), (3027, 0.0), (3028, 0.0), (3029, 0.0), (3030, 0.0), (3031, 0.0), (3032, 0.0), (3033, 0.004588806551379066), (3034, 0.004696988255886378), (3035, 0.0), (3036, 0.0), (3037, 0.0), (3038, 0.0), (3039, 0.0051614332050411394), (3040, 0.006431868510453032), (3041, 0.0), (3042, 0.0060890241217445955), (3043, 0.0), (3044, 0.005186037511276045), (3045, 0.02727109431629294), (3046, 0.0), (3047, 0.0), (3048, 0.011608261529775857), (3049, 0.0), (3050, 0.004418799885708696), (3051, 0.0), (3052, 0.0), (3053, 0.0), (3054, 0.04088785927770051), (3055, 0.0), (3056, 0.0), (3057, 0.0), (3058, 0.0), (3059, 0.0), (3060, 0.0), (3061, 0.004764756739775771), (3062, 0.005344713958675235), (3063, 0.004091169289777507), (3064, 0.0), (3065, 0.01929368708388719), (3066, 0.004525949513402047), (3067, 0.0), (3068, 0.019049244445642093), (3069, 0.0), (3070, 0.004217013089229723), (3071, 0.004254545273664294), (3072, 0.0), (3073, 0.0), (3074, 0.0), (3075, 0.0), (3076, 0.0), (3077, 0.008663788437462001), (3078, 0.005776537901573713), (3079, 0.0), (3080, 0.0053127359219361), (3081, 0.0), (3082, 0.0), (3083, 0.051817114362381206), (3084, 0.004791367631603168), (3085, 0.0), (3086, 0.011135152431099414), (3087, 0.0), (3088, 0.0), (3089, 0.0054910194666666), (3090, 0.0), (3091, 0.008201552136901557), (3092, 0.0), (3093, 0.0), (3094, 0.0), (3095, 0.0), (3096, 0.008534431171915354), (3097, 0.004882794647716403), (3098, 0.025917388029841344), (3099, 0.0), (3100, 0.0), (3101, 0.0), (3102, 0.004671067930882558), (3103, 0.0), (3104, 0.0), (3105, 0.02470875341880091), (3106, 0.0), (3107, 0.0), (3108, 0.004067342900010106), (3109, 0.0051021506336658955), (3110, 0.0), (3111, 0.008614632000939025), (3112, 0.0), (3113, 0.015150122489783585), (3114, 0.009936181831600378), (3115, 0.0), (3116, 0.0), (3117, 0.010964890844971447), (3118, 0.010310335504232581), (3119, 0.0), (3120, 0.009036677692435132), (3121, 0.02379527344745131), (3122, 0.010457535421292895), (3123, 0.0), (3124, 0.0), (3125, 0.0), (3126, 0.010433022916667176), (3127, 0.004283438386604895), (3128, 0.0), (3129, 0.0), (3130, 0.01033815149279925), (3131, 0.010749697573167315), (3132, 0.0), (3133, 0.0), (3134, 0.0), (3135, 0.0), (3136, 0.0), (3137, 0.008247414009282406), (3138, 0.0), (3139, 0.006347257028034296), (3140, 0.019014827596532592), (3141, 0.0), (3142, 0.00628047689795009), (3143, 0.022370499871574804), (3144, 0.0), (3145, 0.0), (3146, 0.005045538954991239), (3147, 0.00852212732656443), (3148, 0.0), (3149, 0.004382430332267167), (3150, 0.004645306588981303), (3151, 0.0), (3152, 0.008028057280254465), (3153, 0.04773397922954448), (3154, 0.0), (3155, 0.00468577612129943), (3156, 0.01508781835726799), (3157, 0.0), (3158, 0.0), (3159, 0.0), (3160, 0.009483406443681636), (3161, 0.014394950397245497), (3162, 0.0), (3163, 0.0), (3164, 0.0), (3165, 0.0), (3166, 0.006187460485293657), (3167, 0.0), (3168, 0.005541198587113657), (3169, 0.02487106964035493), (3170, 0.0), (3171, 0.0), (3172, 0.0), (3173, 0.0), (3174, 0.0), (3175, 0.015164968303929159), (3176, 0.0), (3177, 0.004363036761091208), (3178, 0.007065654731081145), (3179, 0.010781818280230532), (3180, 0.0), (3181, 0.004879431217106332), (3182, 0.00938708021768929), (3183, 0.004991907447999142), (3184, 0.0), (3185, 0.0), (3186, 0.0), (3187, 0.031914164254599996), (3188, 0.004610201099267683), (3189, 0.004856915775510753), (3190, 0.0), (3191, 0.0), (3192, 0.010022224508414663), (3193, 0.0), (3194, 0.004394040715863704), (3195, 0.020061753006389987), (3196, 0.0), (3197, 0.0), (3198, 0.004978488219198779), (3199, 0.034395461465350656), (3200, 0.0), (3201, 0.018074167052966498), (3202, 0.016119009621884006), (3203, 0.0), (3204, 0.0), (3205, 0.0), (3206, 0.017347189182875068), (3207, 0.0), (3208, 0.0), (3209, 0.0152278289773168), (3210, 0.0), (3211, 0.0), (3212, 0.02223086362160623), (3213, 0.0), (3214, 0.004741357702867906), (3215, 0.008517342685572783), (3216, 0.0), (3217, 0.006039538609007421), (3218, 0.037444405806599676), (3219, 0.0), (3220, 0.004419357970820898), (3221, 0.005131017698311984), (3222, 0.0), (3223, 0.0), (3224, 0.015049757481623502), (3225, 0.0), (3226, 0.0), (3227, 0.0), (3228, 0.0), (3229, 0.0624072608867057), (3230, 0.0), (3231, 0.012999698990936627), (3232, 0.004336280826676088), (3233, 0.02400876219851019), (3234, 0.0), (3235, 0.011366451136649794), (3236, 0.004802141336762933), (3237, 0.0), (3238, 0.004186548420738886), (3239, 0.028733839876431192), (3240, 0.0), (3241, 0.0), (3242, 0.0), (3243, 0.0), (3244, 0.03560586731038279), (3245, 0.020230777022539816), (3246, 0.004339877563249805), (3247, 0.0), (3248, 0.0), (3249, 0.005636435616720503), (3250, 0.020328884184297992), (3251, 0.0), (3252, 0.02572594292113532), (3253, 0.0), (3254, 0.0), (3255, 0.0), (3256, 0.01712740518276757), (3257, 0.0), (3258, 0.005237863115671813), (3259, 0.0505529330647356), (3260, 0.025640750673325764), (3261, 0.0), (3262, 0.0), (3263, 0.0), (3264, 0.0), (3265, 0.00927938129873824), (3266, 0.0), (3267, 0.004260745371385882), (3268, 0.0), (3269, 0.0), (3270, 0.014417905870406946), (3271, 0.009800785568196677), (3272, 0.0), (3273, 0.0), (3274, 0.0), (3275, 0.0), (3276, 0.0), (3277, 0.0), (3278, 0.009985992642713151), (3279, 0.009148779327032397), (3280, 0.010020853670720642), (3281, 0.02361106253018934), (3282, 0.005704967748216585), (3283, 0.004778484798731866), (3284, 0.009008384815657619), (3285, 0.0), (3286, 0.004520210826826226), (3287, 0.004796881151387821), (3288, 0.004573029229653138), (3289, 0.004672890525067268), (3290, 0.004832522425020457), (3291, 0.0), (3292, 0.0), (3293, 0.0), (3294, 0.0), (3295, 0.004435671597733598), (3296, 0.0), (3297, 0.004636393339374422), (3298, 0.0), (3299, 0.0), (3300, 0.0), (3301, 0.0), (3302, 0.011678138778392633), (3303, 0.004693751065558369), (3304, 0.004169150365136753), (3305, 0.0), (3306, 0.0), (3307, 0.0), (3308, 0.022565335592221084), (3309, 0.004416052413997735), (3310, 0.0), (3311, 0.013385565291042347), (3312, 0.0), (3313, 0.0), (3314, 0.0), (3315, 0.004500100828182867), (3316, 0.0), (3317, 0.0), (3318, 0.0), (3319, 0.004252803967650252), (3320, 0.02314251892088706), (3321, 0.0), (3322, 0.0), (3323, 0.024456830051634404), (3324, 0.0), (3325, 0.0), (3326, 0.0), (3327, 0.0), (3328, 0.0), (3329, 0.013100201705110375), (3330, 0.010670034590330906), (3331, 0.0), (3332, 0.01551732758937072), (3333, 0.0), (3334, 0.0), (3335, 0.0), (3336, 0.0), (3337, 0.005297075881921077), (3338, 0.019387572178564103), (3339, 0.0), (3340, 0.0), (3341, 0.0), (3342, 0.0), (3343, 0.0), (3344, 0.0), (3345, 0.0), (3346, 0.043420879215153876), (3347, 0.0), (3348, 0.019535740481882613), (3349, 0.004879838162734005), (3350, 0.0), (3351, 0.00468400531743475), (3352, 0.00872861341851533), (3353, 0.0), (3354, 0.0), (3355, 0.0), (3356, 0.0), (3357, 0.005477145167124509), (3358, 0.0), (3359, 0.0), (3360, 0.0), (3361, 0.0), (3362, 0.0), (3363, 0.0), (3364, 0.005345634245966215), (3365, 0.0), (3366, 0.014096685132540018), (3367, 0.0), (3368, 0.0), (3369, 0.0), (3370, 0.00922520799892854), (3371, 0.005418493378866275), (3372, 0.0), (3373, 0.005065061471709901), (3374, 0.0), (3375, 0.004595953163759743), (3376, 0.05110714026887739), (3377, 0.01716019019370367), (3378, 0.0), (3379, 0.0), (3380, 0.0), (3381, 0.0), (3382, 0.004730021165689516), (3383, 0.0), (3384, 0.0), (3385, 0.0), (3386, 0.015764410952590062), (3387, 0.0), (3388, 0.004770679892898266), (3389, 0.017737451024979534), (3390, 0.02105628549355274), (3391, 0.0), (3392, 0.0), (3393, 0.004041956993720705), (3394, 0.0), (3395, 0.004256127403556797), (3396, 0.0), (3397, 0.004482659397163402), (3398, 0.011006207639637373), (3399, 0.0), (3400, 0.004817583318682285), (3401, 0.0), (3402, 0.004533581841357698), (3403, 0.0), (3404, 0.0), (3405, 0.0), (3406, 0.0), (3407, 0.0), (3408, 0.005041492325570625), (3409, 0.0), (3410, 0.01568383645115787), (3411, 0.013093277170595607), (3412, 0.00933467982923754), (3413, 0.005371146158468681), (3414, 0.0), (3415, 0.04788360099958161), (3416, 0.0), (3417, 0.0), (3418, 0.021417978872578985), (3419, 0.0), (3420, 0.009133593144777704), (3421, 0.0033145559807262544), (3422, 0.0), (3423, 0.0), (3424, 0.005174018568495047), (3425, 0.0), (3426, 0.0), (3427, 0.0), (3428, 0.0), (3429, 0.0), (3430, 0.045588102161184516), (3431, 0.0), (3432, 0.0), (3433, 0.0), (3434, 0.0), (3435, 0.0), (3436, 0.0), (3437, 0.011234516595840923), (3438, 0.0), (3439, 0.006196892916982275), (3440, 0.012010855635883073), (3441, 0.0), (3442, 0.0), (3443, 0.004679550563001741), (3444, 0.004989563554239561), (3445, 0.010656319106507611), (3446, 0.11141606174498606), (3447, 0.017900030281687143), (3448, 0.0), (3449, 0.004830011634573278), (3450, 0.0), (3451, 0.0), (3452, 0.009731139631387255), (3453, 0.0), (3454, 0.0), (3455, 0.0), (3456, 0.020833809942268564), (3457, 0.0), (3458, 0.0), (3459, 0.0), (3460, 0.0), (3461, 0.027964616048024003), (3462, 0.0), (3463, 0.0), (3464, 0.004718909381790995), (3465, 0.0), (3466, 0.0), (3467, 0.019805372645040255), (3468, 0.0), (3469, 0.0), (3470, 0.0), (3471, 0.009106479413361084), (3472, 0.0), (3473, 0.0), (3474, 0.0), (3475, 0.0), (3476, 0.0), (3477, 0.0045231358345312455), (3478, 0.0), (3479, 0.005981385653111388), (3480, 0.0), (3481, 0.0), (3482, 0.0), (3483, 0.0559713418737357), (3484, 0.009498525207638529), (3485, 0.004138949971605538), (3486, 0.0), (3487, 0.009596431398362727), (3488, 0.011100841096212375), (3489, 0.0), (3490, 0.0), (3491, 0.0), (3492, 0.0), (3493, 0.029213287993367573), (3494, 0.0), (3495, 0.0), (3496, 0.004828289780968673), (3497, 0.0), (3498, 0.0), (3499, 0.01426321270877654), (3500, 0.004555102751579163), (3501, 0.0), (3502, 0.049132023052350524), (3503, 0.009249164480852399), (3504, 0.0), (3505, 0.0), (3506, 0.0), (3507, 0.015293925169818711), (3508, 0.026145117672057742), (3509, 0.008597309027778145), (3510, 0.0), (3511, 0.0), (3512, 0.0074702217452232815), (3513, 0.004702207093090552), (3514, 0.004758248876455342), (3515, 0.0), (3516, 0.010901274940748976), (3517, 0.0046071692688663705), (3518, 0.030225018718659867), (3519, 0.026735553252361564), (3520, 0.009778064496923474), (3521, 0.0), (3522, 0.0), (3523, 0.0), (3524, 0.0), (3525, 0.0), (3526, 0.0), (3527, 0.0), (3528, 0.032748002658259875), (3529, 0.015377223983369596), (3530, 0.0), (3531, 0.00452423246514883), (3532, 0.0), (3533, 0.0), (3534, 0.0), (3535, 0.0723790646707107), (3536, 0.0), (3537, 0.005697331784717244), (3538, 0.003784330383763794), (3539, 0.004711342343712945), (3540, 0.0), (3541, 0.0), (3542, 0.0), (3543, 0.0), (3544, 0.005657675612511134), (3545, 0.005106899034008026), (3546, 0.0), (3547, 0.0), (3548, 0.018595746779517842), (3549, 0.004759996965629467), (3550, 0.00980373136525551), (3551, 0.0), (3552, 0.007317369808079158), (3553, 0.0), (3554, 0.005410654510656658), (3555, 0.0), (3556, 0.0), (3557, 0.0), (3558, 0.0), (3559, 0.003918745868606803), (3560, 0.0), (3561, 0.0), (3562, 0.004394283528957314), (3563, 0.0), (3564, 0.0151009829863438), (3565, 0.04304681525403219), (3566, 0.0), (3567, 0.0), (3568, 0.0), (3569, 0.0), (3570, 0.004652439889682502), (3571, 0.013918722609773324), (3572, 0.0), (3573, 0.0), (3574, 0.0035702472596685665), (3575, 0.003964114155622533), (3576, 0.011262910477344604), (3577, 0.005449313914717823), (3578, 0.018420767002843248), (3579, 0.013091039532439806), (3580, 0.010357036094518797), (3581, 0.005048193811499617), (3582, 0.004452541391496702), (3583, 0.010368282732621862), (3584, 0.01673676506841164), (3585, 0.03425871741789031), (3586, 0.0247242251216042), (3587, 0.0), (3588, 0.0), (3589, 0.013518144044396933), (3590, 0.0), (3591, 0.0), (3592, 0.005577902934701274), (3593, 0.0), (3594, 0.0), (3595, 0.004431771191069909), (3596, 0.0), (3597, 0.0), (3598, 0.0041519345036668525), (3599, 0.004755931690456813), (3600, 0.0), (3601, 0.005030260165853965), (3602, 0.05051616512694204), (3603, 0.004757753596384723), (3604, 0.0), (3605, 0.014394532527194368), (3606, 0.004523374304915401), (3607, 0.01195038959827194), (3608, 0.0), (3609, 0.010337084310173073), (3610, 0.0), (3611, 0.0), (3612, 0.0), (3613, 0.0), (3614, 0.0), (3615, 0.0), (3616, 0.005385542256388246), (3617, 0.0), (3618, 0.0), (3619, 0.0090291641587209), (3620, 0.0), (3621, 0.00531919548692414), (3622, 0.004460675177597688), (3623, 0.0), (3624, 0.0), (3625, 0.0), (3626, 0.003575590592760344), (3627, 0.020502195864828432), (3628, 0.005054750890958063), (3629, 0.0), (3630, 0.01792281709316413), (3631, 0.0), (3632, 0.004635996045633477), (3633, 0.00427714758107485), (3634, 0.0), (3635, 0.0), (3636, 0.0), (3637, 0.008816871876993149), (3638, 0.0), (3639, 0.0), (3640, 0.0), (3641, 0.004534600600216393), (3642, 0.0), (3643, 0.0), (3644, 0.004602730881996519), (3645, 0.0), (3646, 0.004397564314080142), (3647, 0.0), (3648, 0.00473316910067189), (3649, 0.005361622470437904), (3650, 0.004621929521810898), (3651, 0.01113306132726989), (3652, 0.0051638154844558274), (3653, 0.0), (3654, 0.0), (3655, 0.0), (3656, 0.0), (3657, 0.0), (3658, 0.0038920805662681396), (3659, 0.0), (3660, 0.0), (3661, 0.0), (3662, 0.0), (3663, 0.0), (3664, 0.01068887326517556), (3665, 0.05774782003658052), (3666, 0.010959544339233317), (3667, 0.0), (3668, 0.00843056355825134), (3669, 0.0), (3670, 0.0), (3671, 0.005621254703582559), (3672, 0.0), (3673, 0.0046341913808224024), (3674, 0.012408934054900992), (3675, 0.0), (3676, 0.004957136480009962), (3677, 0.0), (3678, 0.015096230734445309), (3679, 0.0), (3680, 0.0), (3681, 0.005049340339426332), (3682, 0.0), (3683, 0.0), (3684, 0.003929899544392195), (3685, 0.004518169404847315), (3686, 0.005647444602961862), (3687, 0.0), (3688, 0.028307150529403104), (3689, 0.0), (3690, 0.0), (3691, 0.0), (3692, 0.0), (3693, 0.0), (3694, 0.0), (3695, 0.0), (3696, 0.0), (3697, 0.0), (3698, 0.0), (3699, 0.02287003682544772), (3700, 0.0), (3701, 0.0), (3702, 0.0), (3703, 0.0), (3704, 0.0), (3705, 0.05479268036276246), (3706, 0.0), (3707, 0.0), (3708, 0.038830555772050405), (3709, 0.009681929064642797), (3710, 0.0), (3711, 0.0), (3712, 0.0), (3713, 0.0), (3714, 0.0), (3715, 0.025904935363369578), (3716, 0.008917827740334614), (3717, 0.0), (3718, 0.0), (3719, 0.0), (3720, 0.010403056467976995), (3721, 0.0), (3722, 0.0), (3723, 0.0), (3724, 0.011155872706907282), (3725, 0.0), (3726, 0.0), (3727, 0.03051477148745126), (3728, 0.0047380013782645615), (3729, 0.0), (3730, 0.0), (3731, 0.008343669918173445), (3732, 0.0043653713696239875), (3733, 0.039984576562125236), (3734, 0.01022444022503007), (3735, 0.0), (3736, 0.004274048448698506), (3737, 0.0), (3738, 0.0), (3739, 0.0), (3740, 0.0), (3741, 0.0), (3742, 0.0), (3743, 0.0), (3744, 0.0), (3745, 0.0), (3746, 0.00968382026472577), (3747, 0.0), (3748, 0.004071912311483438), (3749, 0.0), (3750, 0.0), (3751, 0.0), (3752, 0.00885591758973415), (3753, 0.00443042648145973), (3754, 0.011226579140104059), (3755, 0.0), (3756, 0.0), (3757, 0.0), (3758, 0.005473003624027176), (3759, 0.0), (3760, 0.0), (3761, 0.0), (3762, 0.0), (3763, 0.005679167718171802), (3764, 0.005424930564002719), (3765, 0.0), (3766, 0.0), (3767, 0.004122947464728402), (3768, 0.011196438232376994), (3769, 0.010740754232085198), (3770, 0.0), (3771, 0.0), (3772, 0.0), (3773, 0.0), (3774, 0.0), (3775, 0.0), (3776, 0.0), (3777, 0.02424341880238305), (3778, 0.0), (3779, 0.0), (3780, 0.0), (3781, 0.0), (3782, 0.010871093280975144), (3783, 0.0), (3784, 0.014515277119948643), (3785, 0.0), (3786, 0.0), (3787, 0.0), (3788, 0.0), (3789, 0.0), (3790, 0.004785629712147593), (3791, 0.0), (3792, 0.0294470685877783), (3793, 0.010421600087825545), (3794, 0.009328854927381123), (3795, 0.0), (3796, 0.006173931244581672), (3797, 0.0), (3798, 0.0), (3799, 0.0), (3800, 0.005859052039549101), (3801, 0.0), (3802, 0.022541682149309378), (3803, 0.0), (3804, 0.0), (3805, 0.004665280360652853), (3806, 0.0), (3807, 0.0), (3808, 0.029948705138670286), (3809, 0.0), (3810, 0.011377410371965012), (3811, 0.0), (3812, 0.004921707072867202), (3813, 0.0), (3814, 0.0), (3815, 0.010884150146590435), (3816, 0.016184972497285323), (3817, 0.010892303014548315), (3818, 0.0), (3819, 0.0), (3820, 0.0), (3821, 0.0), (3822, 0.004908071054120341), (3823, 0.010262622185175404), (3824, 0.009939302366770982), (3825, 0.0), (3826, 0.0), (3827, 0.0), (3828, 0.0), (3829, 0.009052586893183142), (3830, 0.0), (3831, 0.03654363224116683), (3832, 0.0), (3833, 0.010953135936387335), (3834, 0.0), (3835, 0.0), (3836, 0.02995546878001129), (3837, 0.0), (3838, 0.0), (3839, 0.004175542307995818), (3840, 0.0), (3841, 0.0), (3842, 0.004261959471460167), (3843, 0.0), (3844, 0.018268645745977793), (3845, 0.004921665448529768), (3846, 0.0), (3847, 0.02332754730948016), (3848, 0.0), (3849, 0.0), (3850, 0.0), (3851, 0.0), (3852, 0.028435922437752073), (3853, 0.009830335102398615), (3854, 0.009151342028979213), (3855, 0.0), (3856, 0.004025368920709204), (3857, 0.0), (3858, 0.005081704849512296), (3859, 0.013912883244411384), (3860, 0.0), (3861, 0.0), (3862, 0.0), (3863, 0.0), (3864, 0.0), (3865, 0.03163657636004856), (3866, 0.0053573363294095845), (3867, 0.0), (3868, 0.004478826672111183), (3869, 0.0), (3870, 0.0), (3871, 0.0), (3872, 0.0), (3873, 0.0), (3874, 0.0), (3875, 0.003756565192860647), (3876, 0.0), (3877, 0.0), (3878, 0.0), (3879, 0.004556517648179231), (3880, 0.0), (3881, 0.0), (3882, 0.01467524868172601), (3883, 0.0), (3884, 0.0), (3885, 0.0), (3886, 0.004430015367112504), (3887, 0.0), (3888, 0.004619421938758393), (3889, 0.004888500678585392), (3890, 0.0045348234731127455), (3891, 0.0), (3892, 0.0058749324867988185), (3893, 0.01640468189920114), (3894, 0.009266642964865533), (3895, 0.0), (3896, 0.0), (3897, 0.0), (3898, 0.0), (3899, 0.0), (3900, 0.0), (3901, 0.012791615330647415), (3902, 0.0), (3903, 0.0), (3904, 0.0), (3905, 0.004773499200913206), (3906, 0.0), (3907, 0.0), (3908, 0.0), (3909, 0.0), (3910, 0.0), (3911, 0.03498652797336115), (3912, 0.0), (3913, 0.0), (3914, 0.004055459018363452), (3915, 0.0), (3916, 0.0), (3917, 0.0), (3918, 0.0), (3919, 0.004899509945910033), (3920, 0.0), (3921, 0.0), (3922, 0.0), (3923, 0.004200762665991229), (3924, 0.010686769397389972), (3925, 0.0), (3926, 0.014666063630979994), (3927, 0.0), (3928, 0.0), (3929, 0.0), (3930, 0.0), (3931, 0.0), (3932, 0.0), (3933, 0.004077234763351604), (3934, 0.004822514324401732), (3935, 0.0), (3936, 0.006335081491623622), (3937, 0.0), (3938, 0.12636061825705314), (3939, 0.0), (3940, 0.016786695320451246), (3941, 0.004218756408924004), (3942, 0.012961814979265672), (3943, 0.037853028209011735), (3944, 0.00927097067531149), (3945, 0.0), (3946, 0.0), (3947, 0.0), (3948, 0.0), (3949, 0.00633337613288867), (3950, 0.004932417777815302), (3951, 0.0), (3952, 0.005467094141274058), (3953, 0.0), (3954, 0.021497054487440177), (3955, 0.0), (3956, 0.019540276160238852), (3957, 0.012631144375319581), (3958, 0.0), (3959, 0.0), (3960, 0.010924025861316675), (3961, 0.0), (3962, 0.0), (3963, 0.0), (3964, 0.005057161526440762), (3965, 0.0), (3966, 0.009703259010345784), (3967, 0.005190411934706708), (3968, 0.0), (3969, 0.0), (3970, 0.010057514240462587), (3971, 0.03701109962119264), (3972, 0.0), (3973, 0.00477676740188165), (3974, 0.0), (3975, 0.01326197037074678), (3976, 0.0), (3977, 0.0), (3978, 0.0), (3979, 0.0), (3980, 0.0), (3981, 0.0), (3982, 0.014496902294195238), (3983, 0.007594722211037032), (3984, 0.005050852222949173), (3985, 0.0), (3986, 0.0), (3987, 0.0), (3988, 0.0), (3989, 0.00906931012199691), (3990, 0.0), (3991, 0.0), (3992, 0.0), (3993, 0.046141034721655816), (3994, 0.010324741389550016), (3995, 0.0), (3996, 0.0), (3997, 0.0), (3998, 0.00448476684560212), (3999, 0.0), (4000, 0.024826364254702256), (4001, 0.0), (4002, 0.0), (4003, 0.0), (4004, 0.02335125943726632), (4005, 0.0), (4006, 0.0), (4007, 0.0060670710529017475), (4008, 0.015531042341420982), (4009, 0.0), (4010, 0.0292485427903657), (4011, 0.0), (4012, 0.009013395520231119), (4013, 0.0), (4014, 0.0), (4015, 0.008381900194406626), (4016, 0.0), (4017, 0.0), (4018, 0.004182714788399474), (4019, 0.0), (4020, 0.0), (4021, 0.0), (4022, 0.02073436150136624), (4023, 0.02242778741583601), (4024, 0.0), (4025, 0.0), (4026, 0.010023940670898264), (4027, 0.004691971545891771), (4028, 0.0), (4029, 0.004612370484050279), (4030, 0.0), (4031, 0.0), (4032, 0.0), (4033, 0.0), (4034, 0.0), (4035, 0.0), (4036, 0.0045401711480677), (4037, 0.004517015404537505), (4038, 0.0), (4039, 0.048203786550814795), (4040, 0.01350070302376053), (4041, 0.0), (4042, 0.0), (4043, 0.0), (4044, 0.010289541916268468), (4045, 0.0), (4046, 0.0), (4047, 0.0), (4048, 0.0), (4049, 0.004577924384168842), (4050, 0.0), (4051, 0.005249428958330781), (4052, 0.004889838853190961), (4053, 0.0), (4054, 0.036989653420875984), (4055, 0.0), (4056, 0.0), (4057, 0.0), (4058, 0.0), (4059, 0.0), (4060, 0.0), (4061, 0.004894749208750299), (4062, 0.0), (4063, 0.0), (4064, 0.005642547865833292), (4065, 0.0), (4066, 0.004171210269516314), (4067, 0.0), (4068, 0.0), (4069, 0.0), (4070, 0.0), (4071, 0.004385069050727907), (4072, 0.0), (4073, 0.004563903573015753), (4074, 0.008751442271884492), (4075, 0.0), (4076, 0.010377640024183035), (4077, 0.0), (4078, 0.0), (4079, 0.010611793796959245), (4080, 0.0), (4081, 0.049371507291773586), (4082, 0.0), (4083, 0.0), (4084, 0.005927361985090977), (4085, 0.0), (4086, 0.005235263023547549), (4087, 0.0), (4088, 0.0), (4089, 0.0), (4090, 0.011297062423671178), (4091, 0.0), (4092, 0.0), (4093, 0.004850594889153178), (4094, 0.00486889589633669), (4095, 0.012575201111345077), (4096, 0.10003633617482532), (4097, 0.0), (4098, 0.0), (4099, 0.004526779924783837), (4100, 0.0), (4101, 0.0), (4102, 0.005996234831067289), (4103, 0.0), (4104, 0.004176875872341186), (4105, 0.005307369645757223), (4106, 0.009815755714695427), (4107, 0.0), (4108, 0.004894142450684364), (4109, 0.012988307961789305), (4110, 0.0), (4111, 0.0), (4112, 0.004538584702642054), (4113, 0.02129119988583161), (4114, 0.0), (4115, 0.0), (4116, 0.0), (4117, 0.0345869982436231), (4118, 0.005158393969138178), (4119, 0.0), (4120, 0.011674245742621084), (4121, 0.005173341496572685), (4122, 0.031084728175085414), (4123, 0.015676745496609593), (4124, 0.049647740173368766), (4125, 0.0), (4126, 0.0), (4127, 0.0), (4128, 0.0), (4129, 0.0), (4130, 0.01642413901839152), (4131, 0.0), (4132, 0.004949103055626309), (4133, 0.01185014804513661), (4134, 0.015138220224372102), (4135, 0.004592487370414904), (4136, 0.0), (4137, 0.0), (4138, 0.0), (4139, 0.0), (4140, 0.0051073843623697796), (4141, 0.0), (4142, 0.0), (4143, 0.008942120148378798), (4144, 0.0), (4145, 0.0), (4146, 0.03123087126624876), (4147, 0.017297620059060576), (4148, 0.0), (4149, 0.010845223381434689), (4150, 0.0), (4151, 0.0), (4152, 0.020819554739177504), (4153, 0.0), (4154, 0.014089800807267181), (4155, 0.03733919210501118), (4156, 0.003956354424690917), (4157, 0.0), (4158, 0.0), (4159, 0.0), (4160, 0.0), (4161, 0.0), (4162, 0.0), (4163, 0.0), (4164, 0.0), (4165, 0.009720840422989789), (4166, 0.006028638217670744), (4167, 0.01132817277101949), (4168, 0.0), (4169, 0.01036416718302224), (4170, 0.0), (4171, 0.014080180025913679), (4172, 0.0), (4173, 0.00487368931294172), (4174, 0.00428264165387392), (4175, 0.0), (4176, 0.0), (4177, 0.0), (4178, 0.0), (4179, 0.0), (4180, 0.01167576449692996), (4181, 0.0), (4182, 0.0), (4183, 0.0), (4184, 0.0), (4185, 0.016507274096168836), (4186, 0.060791449594992435), (4187, 0.0), (4188, 0.0), (4189, 0.0), (4190, 0.022714248176299832), (4191, 0.02340136527261155), (4192, 0.004366899594384812), (4193, 0.009973637286166693), (4194, 0.0), (4195, 0.0045924731360256444), (4196, 0.0), (4197, 0.004458609248084128), (4198, 0.0061814712832354195), (4199, 0.0), (4200, 0.029831125622751593), (4201, 0.0), (4202, 0.0), (4203, 0.00520200212658828), (4204, 0.0), (4205, 0.0), (4206, 0.004522336717795759), (4207, 0.005106259333970936), (4208, 0.0), (4209, 0.0), (4210, 0.0), (4211, 0.0), (4212, 0.0), (4213, 0.004488066279435368), (4214, 0.0), (4215, 0.0), (4216, 0.0), (4217, 0.008834153557753284), (4218, 0.004597017751488907), (4219, 0.0), (4220, 0.0), (4221, 0.0), (4222, 0.0062056430971409934), (4223, 0.00667297799325707), (4224, 0.0), (4225, 0.0), (4226, 0.005014946201752486), (4227, 0.0), (4228, 0.0), (4229, 0.0), (4230, 0.0), (4231, 0.0), (4232, 0.0), (4233, 0.009641874214797928), (4234, 0.004775776317466872), (4235, 0.0), (4236, 0.0), (4237, 0.004212016983133769), (4238, 0.0), (4239, 0.014346598327975704), (4240, 0.0), (4241, 0.009921111203299169), (4242, 0.012094692736017418), (4243, 0.0), (4244, 0.0), (4245, 0.0), (4246, 0.026417861497722524), (4247, 0.0), (4248, 0.0), (4249, 0.0), (4250, 0.0), (4251, 0.05068813119535654), (4252, 0.0044471067692098435), (4253, 0.0), (4254, 0.004570821397894385), (4255, 0.0), (4256, 0.0), (4257, 0.0), (4258, 0.0), (4259, 0.031349677652891664), (4260, 0.0), (4261, 0.0), (4262, 0.0), (4263, 0.004846732654743243), (4264, 0.0), (4265, 0.0), (4266, 0.0), (4267, 0.0), (4268, 0.00980945516400493), (4269, 0.0), (4270, 0.0), (4271, 0.014813553404463777), (4272, 0.004339166375771012), (4273, 0.0), (4274, 0.0), (4275, 0.0), (4276, 0.0), (4277, 0.0), (4278, 0.0), (4279, 0.0), (4280, 0.0), (4281, 0.0), (4282, 0.0), (4283, 0.0), (4284, 0.0), (4285, 0.0053287339911091275), (4286, 0.0), (4287, 0.004693893401433619), (4288, 0.0), (4289, 0.0), (4290, 0.009582836298813156), (4291, 0.0), (4292, 0.009385696409172166), (4293, 0.005335513677846359), (4294, 0.0), (4295, 0.005293200289022454), (4296, 0.0), (4297, 0.01965033287262996), (4298, 0.0), (4299, 0.0), (4300, 0.02077527295000223), (4301, 0.0), (4302, 0.013506871314134132), (4303, 0.0), (4304, 0.004523321273877635), (4305, 0.0), (4306, 0.0), (4307, 0.0), (4308, 0.0051286962463119), (4309, 0.0), (4310, 0.0), (4311, 0.0), (4312, 0.0), (4313, 0.0), (4314, 0.0), (4315, 0.005028722523888976), (4316, 0.0), (4317, 0.02984846965108323), (4318, 0.0), (4319, 0.004756385448625473), (4320, 0.0), (4321, 0.0043117042703147875), (4322, 0.0), (4323, 0.00502601885427846), (4324, 0.004929040721178708), (4325, 0.004292995534310485), (4326, 0.0), (4327, 0.004357004404152787), (4328, 0.0), (4329, 0.024139489908599168), (4330, 0.0), (4331, 0.0), (4332, 0.0), (4333, 0.0), (4334, 0.0), (4335, 0.0), (4336, 0.0), (4337, 0.011270670096952165), (4338, 0.0), (4339, 0.0), (4340, 0.0), (4341, 0.005428732482201186), (4342, 0.0), (4343, 0.00882238862766289), (4344, 0.0), (4345, 0.0), (4346, 0.005127146916812509), (4347, 0.004740852252055815), (4348, 0.0), (4349, 0.0), (4350, 0.0), (4351, 0.005033263391072577), (4352, 0.0), (4353, 0.0), (4354, 0.0), (4355, 0.0), (4356, 0.0), (4357, 0.004877394383870553), (4358, 0.0), (4359, 0.0), (4360, 0.09728639047244403), (4361, 0.0), (4362, 0.024208419903028983), (4363, 0.03328074210600249), (4364, 0.0), (4365, 0.0), (4366, 0.009521970253036867), (4367, 0.0), (4368, 0.0), (4369, 0.0), (4370, 0.0), (4371, 0.02307321575226946), (4372, 0.0), (4373, 0.0), (4374, 0.009244749610667837), (4375, 0.0), (4376, 0.0), (4377, 0.010995738207903383), (4378, 0.010203836978631019), (4379, 0.0), (4380, 0.038231100305019285), (4381, 0.0), (4382, 0.0), (4383, 0.0), (4384, 0.0), (4385, 0.0), (4386, 0.0), (4387, 0.0), (4388, 0.0), (4389, 0.0), (4390, 0.0), (4391, 0.0), (4392, 0.011132432371608846), (4393, 0.0), (4394, 0.0), (4395, 0.004783697718470641), (4396, 0.0), (4397, 0.0), (4398, 0.0), (4399, 0.0), (4400, 0.019357168393084222), (4401, 0.0), (4402, 0.0), (4403, 0.0), (4404, 0.004706208140268587), (4405, 0.009196075458850476), (4406, 0.0), (4407, 0.0), (4408, 0.023301826706488168), (4409, 0.0), (4410, 0.011067500282508533), (4411, 0.0), (4412, 0.012446412669102349), (4413, 0.0), (4414, 0.0), (4415, 0.0), (4416, 0.0), (4417, 0.0), (4418, 0.0), (4419, 0.0), (4420, 0.07313479783292046), (4421, 0.0), (4422, 0.0048309369807685324), (4423, 0.0), (4424, 0.0), (4425, 0.0), (4426, 1.0000000000000002), (4427, 0.0), (4428, 0.0), (4429, 0.0), (4430, 0.0), (4431, 0.0), (4432, 0.0), (4433, 0.0049496055522518555), (4434, 0.004829494771216817), (4435, 0.0), (4436, 0.0), (4437, 0.00848180008011299), (4438, 0.0), (4439, 0.0), (4440, 0.005557731442440311), (4441, 0.018973042158924404), (4442, 0.004430582868149832), (4443, 0.0), (4444, 0.0), (4445, 0.007533812871807318), (4446, 0.0047907316390714905), (4447, 0.004423240980404932), (4448, 0.005100468625903271), (4449, 0.0), (4450, 0.021566783162030985), (4451, 0.011617946524263846), (4452, 0.03817087274298409), (4453, 0.005190798660240976), (4454, 0.011530392824524685), (4455, 0.0), (4456, 0.0), (4457, 0.0047395188081490215), (4458, 0.0), (4459, 0.0), (4460, 0.0051496103779298565), (4461, 0.0), (4462, 0.0), (4463, 0.005267967281460054), (4464, 0.0), (4465, 0.0), (4466, 0.0), (4467, 0.0), (4468, 0.0), (4469, 0.0), (4470, 0.0), (4471, 0.0), (4472, 0.0), (4473, 0.004267507749915564), (4474, 0.0), (4475, 0.0), (4476, 0.0), (4477, 0.0), (4478, 0.0), (4479, 0.0), (4480, 0.0), (4481, 0.0), (4482, 0.0), (4483, 0.005477707966682763), (4484, 0.0), (4485, 0.0), (4486, 0.00469823596871496), (4487, 0.0), (4488, 0.009258218743988607), (4489, 0.004894377778396238), (4490, 0.0), (4491, 0.0), (4492, 0.0), (4493, 0.0), (4494, 0.0), (4495, 0.0), (4496, 0.0), (4497, 0.0), (4498, 0.0), (4499, 0.0), (4500, 0.0), (4501, 0.0), (4502, 0.0), (4503, 0.0), (4504, 0.0), (4505, 0.0), (4506, 0.0), (4507, 0.0), (4508, 0.0), (4509, 0.0), (4510, 0.0), (4511, 0.0), (4512, 0.0), (4513, 0.009088206199336797), (4514, 0.0055750483628525015), (4515, 0.0), (4516, 0.0), (4517, 0.01123430135046546), (4518, 0.0), (4519, 0.004106457365743096), (4520, 0.0), (4521, 0.0), (4522, 0.005243266118129388), (4523, 0.013809971690626512), (4524, 0.0), (4525, 0.047632237900398514), (4526, 0.0), (4527, 0.0), (4528, 0.0), (4529, 0.0), (4530, 0.0), (4531, 0.0), (4532, 0.014048263064096506), (4533, 0.0), (4534, 0.009376088208037977), (4535, 0.0), (4536, 0.0), (4537, 0.014040525195472513), (4538, 0.0), (4539, 0.0), (4540, 0.0), (4541, 0.0), (4542, 0.014560221558726865), (4543, 0.0), (4544, 0.0), (4545, 0.0), (4546, 0.0), (4547, 0.0), (4548, 0.009481287012210444), (4549, 0.011836302045930272), (4550, 0.0), (4551, 0.01039011427310345), (4552, 0.015407614640009094), (4553, 0.0), (4554, 0.0), (4555, 0.007029355032175623), (4556, 0.009715763449745191), (4557, 0.004799253980695985), (4558, 0.0), (4559, 0.0), (4560, 0.0), (4561, 0.0), (4562, 0.025081036836233056), (4563, 0.0), (4564, 0.0), (4565, 0.009396764519395182), (4566, 0.0), (4567, 0.009833899719191219), (4568, 0.0), (4569, 0.0), (4570, 0.005683114540272555), (4571, 0.0), (4572, 0.0), (4573, 0.0), (4574, 0.0), (4575, 0.0), (4576, 0.0), (4577, 0.0), (4578, 0.0), (4579, 0.0), (4580, 0.005164486947136699), (4581, 0.0), (4582, 0.010102537367744885), (4583, 0.0), (4584, 0.0), (4585, 0.01012111058564767), (4586, 0.0), (4587, 0.0), (4588, 0.0), (4589, 0.0), (4590, 0.0), (4591, 0.0), (4592, 0.0), (4593, 0.011803022200142654), (4594, 0.0), (4595, 0.0), (4596, 0.0), (4597, 0.0), (4598, 0.0), (4599, 0.005229963054663972), (4600, 0.01421530373612634), (4601, 0.0), (4602, 0.0), (4603, 0.004717025864276939), (4604, 0.014788659371241752), (4605, 0.0), (4606, 0.012815503011754815), (4607, 0.029397371952789464), (4608, 0.0), (4609, 0.0), (4610, 0.0), (4611, 0.0), (4612, 0.0), (4613, 0.015539227358672624), (4614, 0.010431824197620504), (4615, 0.0), (4616, 0.0), (4617, 0.0), (4618, 0.0), (4619, 0.0), (4620, 0.0), (4621, 0.011471170133222313), (4622, 0.0), (4623, 0.02008521342085718), (4624, 0.0), (4625, 0.0), (4626, 0.009112932809427014), (4627, 0.00415655609730595), (4628, 0.02009516033937557), (4629, 0.0), (4630, 0.011351623493157164), (4631, 0.0), (4632, 0.0), (4633, 0.005337687443935347), (4634, 0.0), (4635, 0.0), (4636, 0.004011891538856999), (4637, 0.0), (4638, 0.0), (4639, 0.06384543185219622), (4640, 0.021675556450006163), (4641, 0.0), (4642, 0.0), (4643, 0.0), (4644, 0.0), (4645, 0.0), (4646, 0.0), (4647, 0.087382080402055), (4648, 0.0), (4649, 0.0), (4650, 0.011092063250809423), (4651, 0.0), (4652, 0.003737732425545206), (4653, 0.0), (4654, 0.0), (4655, 0.0), (4656, 0.0), (4657, 0.0), (4658, 0.009352885813288506), (4659, 0.0), (4660, 0.0), (4661, 0.0), (4662, 0.0), (4663, 0.0), (4664, 0.0), (4665, 0.0105287002419597), (4666, 0.019511155910270715), (4667, 0.0), (4668, 0.0), (4669, 0.0), (4670, 0.0), (4671, 0.0), (4672, 0.0), (4673, 0.0), (4674, 0.02446928986628149), (4675, 0.004779307776805692), (4676, 0.0), (4677, 0.010017820006456232), (4678, 0.0), (4679, 0.0), (4680, 0.03333686415207176), (4681, 0.0), (4682, 0.0), (4683, 0.043496162534443786), (4684, 0.0), (4685, 0.0), (4686, 0.0), (4687, 0.0), (4688, 0.009780967161546984), (4689, 0.0), (4690, 0.0), (4691, 0.0), (4692, 0.0), (4693, 0.0), (4694, 0.0), (4695, 0.011079163386017433), (4696, 0.0), (4697, 0.010381261271206452), (4698, 0.060297713614594746), (4699, 0.0), (4700, 0.006102384902632878), (4701, 0.0), (4702, 0.0), (4703, 0.0), (4704, 0.0), (4705, 0.0), (4706, 0.0), (4707, 0.0), (4708, 0.0), (4709, 0.0), (4710, 0.0), (4711, 0.0), (4712, 0.0), (4713, 0.0), (4714, 0.0), (4715, 0.0), (4716, 0.011305895631102708), (4717, 0.005549864408723232), (4718, 0.0), (4719, 0.008113045676384675), (4720, 0.036841514683165114), (4721, 0.023752746666847395), (4722, 0.0), (4723, 0.0), (4724, 0.0), (4725, 0.0062292497964898065), (4726, 0.0), (4727, 0.0), (4728, 0.0), (4729, 0.0), (4730, 0.0), (4731, 0.0), (4732, 0.0), (4733, 0.0), (4734, 0.0), (4735, 0.0), (4736, 0.00976553072746295), (4737, 0.0), (4738, 0.004508557477051863), (4739, 0.0), (4740, 0.018620154987754448), (4741, 0.0), (4742, 0.0), (4743, 0.009562554416233124), (4744, 0.0038957303659991156), (4745, 0.0), (4746, 0.005563403480370732), (4747, 0.011119223273145254), (4748, 0.0), (4749, 0.09271125956081186), (4750, 0.0), (4751, 0.011526994513431229), (4752, 0.0), (4753, 0.01742198319721045), (4754, 0.0), (4755, 0.015090380095630365), (4756, 0.014787334005419407), (4757, 0.0), (4758, 0.0), (4759, 0.0)]\n"
          ]
        }
      ],
      "source": [
        "#getting a list of similar movies\n",
        "recommendation_score = list(enumerate(similarity_score [index_of_close_match_movie] ))\n",
        "print(recommendation_score)"
      ]
    },
    {
      "cell_type": "code",
      "execution_count": 28,
      "metadata": {
        "colab": {
          "base_uri": "https://localhost:8080/"
        },
        "id": "-Im769UxOycy",
        "outputId": "1bf152e3-a88c-48c7-dd65-8175c7d3c9ef"
      },
      "outputs": [
        {
          "output_type": "execute_result",
          "data": {
            "text/plain": [
              "4760"
            ]
          },
          "metadata": {},
          "execution_count": 28
        }
      ],
      "source": [
        "len(recommendation_score)"
      ]
    },
    {
      "cell_type": "markdown",
      "metadata": {
        "id": "7zyvQ-4kVSCd"
      },
      "source": [
        "Get all movies sort based on recommendation score wrt Favourite movie"
      ]
    },
    {
      "cell_type": "code",
      "execution_count": 29,
      "metadata": {
        "colab": {
          "base_uri": "https://localhost:8080/"
        },
        "id": "g2vPkGvZPiHH",
        "outputId": "cb8df7f4-8526-478e-daf9-08e2019725c0"
      },
      "outputs": [
        {
          "output_type": "stream",
          "name": "stdout",
          "text": [
            "[(4426, 1.0000000000000002), (3938, 0.12636061825705314), (1863, 0.11901357108644522), (3446, 0.11141606174498606), (4096, 0.10003633617482532), (4360, 0.09728639047244403), (4749, 0.09271125956081186), (4647, 0.087382080402055), (2007, 0.0872768566654527), (629, 0.0757297470812317), (1937, 0.0731398186121272), (4420, 0.07313479783292046), (3535, 0.0723790646707107), (2941, 0.07059819805899081), (448, 0.0701563473055569), (2380, 0.0668139638001162), (4639, 0.06384543185219622), (3229, 0.0624072608867057), (1998, 0.06111772734178735), (4186, 0.060791449594992435), (2111, 0.060640466865948095), (4698, 0.060297713614594746), (633, 0.06010784123002302), (1246, 0.05929259047123378), (1216, 0.05780121054569763), (3665, 0.05774782003658052), (418, 0.05741548941679217), (3483, 0.0559713418737357), (2311, 0.055599269878441), (28, 0.055295219594230435), (744, 0.05485127354266238), (3705, 0.05479268036276246), (869, 0.05471584851469784), (1959, 0.05465700085838948), (1357, 0.05457079759268779), (303, 0.05391967828361262), (1304, 0.05353404896145432), (555, 0.053515875438623885), (758, 0.053496783011458604), (102, 0.05320835761154055), (1703, 0.05308020438382356), (617, 0.053027075198706475), (977, 0.05271622616339429), (2587, 0.05221728456394173), (1872, 0.052204863117275555), (2166, 0.05200960560132041), (3083, 0.051817114362381206), (2650, 0.05149729112297013), (1351, 0.05137069072661995), (3376, 0.05110714026887739), (1443, 0.05089769338273418), (1031, 0.050787402132128685), (4251, 0.05068813119535654), (265, 0.05066199043445983), (3259, 0.0505529330647356), (3602, 0.05051616512694204), (4124, 0.049647740173368766), (2225, 0.04954698489857956), (4081, 0.049371507291773586), (1009, 0.04922454023355119), (1784, 0.049157843359604096), (3502, 0.049132023052350524), (1199, 0.0485910653826095), (2216, 0.04854435595155122), (840, 0.048417125134540676), (4039, 0.048203786550814795), (1405, 0.04806166511142071), (2184, 0.047988219789998655), (3415, 0.04788360099958161), (3153, 0.04773397922954448), (1203, 0.047679849528914756), (4525, 0.047632237900398514), (723, 0.04761479257942694), (1673, 0.047384338814343126), (2175, 0.04685049442389831), (1182, 0.04617577176739378), (3993, 0.046141034721655816), (3430, 0.045588102161184516), (426, 0.045291764829037705), (225, 0.045238434062216365), (1000, 0.04499238598610196), (520, 0.04488120864642512), (146, 0.044185564823966024), (2156, 0.04400378187047458), (4683, 0.043496162534443786), (3346, 0.043420879215153876), (1319, 0.04316121018334012), (3565, 0.04304681525403219), (643, 0.042670087595199996), (2903, 0.04236258049683922), (362, 0.04177392209175021), (846, 0.041386661111284404), (1192, 0.04117783180300441), (3054, 0.04088785927770051), (3733, 0.039984576562125236), (2059, 0.039540636760420494), (2828, 0.039440949458609494), (1024, 0.03915140070980595), (320, 0.03905940884727608), (3708, 0.038830555772050405), (2245, 0.03873282415986242), (4380, 0.038231100305019285), (1003, 0.03821731743881361), (4452, 0.03817087274298409), (3943, 0.037853028209011735), (182, 0.037740892034480625), (867, 0.037551790181134824), (321, 0.0375098061297048), (322, 0.03749386202776541), (3218, 0.037444405806599676), (2435, 0.03743680616770878), (706, 0.03741893631165408), (471, 0.03741356961529476), (4155, 0.03733919210501118), (1518, 0.03726132579812146), (404, 0.03720700733119524), (2608, 0.03718807927923865), (315, 0.03707944315744328), (3971, 0.03701109962119264), (4054, 0.036989653420875984), (2683, 0.03690899010381964), (895, 0.036845940729990465), (4720, 0.036841514683165114), (2763, 0.036820594781227144), (3831, 0.03654363224116683), (792, 0.036298586465084395), (2246, 0.03580706603970579), (3244, 0.03560586731038279), (316, 0.03532996483254377), (1563, 0.035201023392189064), (1061, 0.035151981869768464), (1746, 0.03514525172709605), (2714, 0.03509941925742189), (2956, 0.03502573588200957), (2196, 0.035002806583748075), (3911, 0.03498652797336115), (4117, 0.0345869982436231), (2357, 0.03445667398998381), (3199, 0.034395461465350656), (3585, 0.03425871741789031), (2610, 0.03361220207915243), (1864, 0.033463970768639724), (1602, 0.033355091343101835), (4680, 0.03333686415207176), (912, 0.03329102395387634), (4363, 0.03328074210600249), (1564, 0.033264868689917154), (2032, 0.03304716046001093), (2809, 0.03285209133173155), (3528, 0.032748002658259875), (1601, 0.03268872975057796), (924, 0.03239013806962545), (639, 0.03232926083756046), (2559, 0.032293937092120126), (385, 0.0321247312741299), (1201, 0.031917920612667454), (3187, 0.031914164254599996), (3865, 0.03163657636004856), (531, 0.0315579007192588), (1538, 0.03155601429193662), (1135, 0.03155380399451937), (4259, 0.031349677652891664), (1935, 0.03125693732018604), (680, 0.03125313818230351), (4146, 0.03123087126624876), (961, 0.031217191822790053), (540, 0.031138227596128294), (2601, 0.031090029678820685), (4122, 0.031084728175085414), (363, 0.030906200520608912), (3727, 0.03051477148745126), (526, 0.030441232268470318), (361, 0.030390782491298597), (3518, 0.030225018718659867), (2092, 0.030189952070993377), (1403, 0.03017116865786884), (3836, 0.02995546878001129), (3808, 0.029948705138670286), (4317, 0.02984846965108323), (4200, 0.029831125622751593), (604, 0.02980252787619581), (691, 0.02972005035669946), (167, 0.0296927343644375), (2568, 0.029668825137876286), (1542, 0.029556671046789877), (3792, 0.0294470685877783), (4607, 0.029397371952789464), (377, 0.029361522650353574), (2847, 0.029289269330261304), (1666, 0.029274321293720724), (317, 0.029251006751677987), (4010, 0.0292485427903657), (3493, 0.029213287993367573), (705, 0.02920665588828269), (1425, 0.029065726998945392), (731, 0.02880726149236509), (3239, 0.028733839876431192), (2693, 0.02855989320971775), (3852, 0.028435922437752073), (2101, 0.028322167593701812), (3688, 0.028307150529403104), (1284, 0.0282833145156635), (1064, 0.028169664454737463), (2036, 0.028145799057953343), (2553, 0.02811292724953046), (3461, 0.027964616048024003), (154, 0.02761481129952544), (510, 0.027589116968935297), (1051, 0.027550164549441012), (1321, 0.027527704978524206), (2327, 0.02750297972599614), (3007, 0.02735746980407287), (2292, 0.027348178757873275), (1902, 0.027280026775078826), (3045, 0.02727109431629294), (2661, 0.02725120121570347), (972, 0.027182842703122323), (128, 0.027133587380249125), (1626, 0.02702723891031646), (2864, 0.026909070628977724), (3519, 0.026735553252361564), (1157, 0.026677498907757488), (1461, 0.026600679760220354), (4246, 0.026417861497722524), (342, 0.026251263072815632), (3508, 0.026145117672057742), (3098, 0.025917388029841344), (3715, 0.025904935363369578), (2790, 0.025845267903909876), (2964, 0.02579065442292156), (3252, 0.02572594292113532), (255, 0.02571704688773091), (606, 0.025662157060037206), (3260, 0.025640750673325764), (1355, 0.02562352250562266), (1401, 0.025522680050957283), (204, 0.02548992264030179), (538, 0.025485202052412784), (2140, 0.025458109987261904), (683, 0.02526195175361846), (2691, 0.025210290661950574), (1779, 0.025184713514783293), (384, 0.025142731089777437), (1502, 0.025133133972887047), (4562, 0.025081036836233056), (1705, 0.025039610624530792), (2370, 0.025039426032898514), (681, 0.025036061918727433), (1967, 0.024896368730609866), (3169, 0.02487106964035493), (4000, 0.024826364254702256), (3586, 0.0247242251216042), (3105, 0.02470875341880091), (2723, 0.024681480585133083), (1843, 0.024621203800116283), (1678, 0.024619150599506905), (53, 0.024602537077301832), (4674, 0.02446928986628149), (3323, 0.024456830051634404), (1496, 0.024422196781052112), (2820, 0.024267281884629052), (3777, 0.02424341880238305), (4362, 0.024208419903028983), (2704, 0.024181975455658953), (4329, 0.024139489908599168), (3233, 0.02400876219851019), (1712, 0.023983246631771368), (319, 0.02398156426123084), (1118, 0.023904627053209695), (1715, 0.023853822841541177), (918, 0.023849228576202856), (1428, 0.023848097599218777), (3121, 0.02379527344745131), (202, 0.023769812780675012), (4721, 0.023752746666847395), (1115, 0.023747188170047426), (1162, 0.023719084111738002), (3281, 0.02361106253018934), (1130, 0.02358727933330007), (4191, 0.02340136527261155), (4004, 0.02335125943726632), (3847, 0.02332754730948016), (132, 0.023321101674556432), (1840, 0.02331057433835093), (311, 0.023303145211916926), (4408, 0.023301826706488168), (902, 0.02328834658566872), (447, 0.023217674128901286), (3320, 0.02314251892088706), (338, 0.023102993639133262), (4371, 0.02307321575226946), (347, 0.023070608110085267), (2552, 0.02303888304340223), (2347, 0.023014406762976544), (121, 0.0229757088688686), (3699, 0.02287003682544772), (829, 0.02282423613990372), (1620, 0.02280357273126953), (2239, 0.022729818582753553), (4190, 0.022714248176299832), (1088, 0.022679777632202996), (1389, 0.022568218563253202), (3308, 0.022565335592221084), (3802, 0.022541682149309378), (619, 0.022440842595122648), (4023, 0.02242778741583601), (1242, 0.022420114181190318), (3143, 0.022370499871574804), (3212, 0.02223086362160623), (1809, 0.022199421218935225), (287, 0.022198502375973823), (1176, 0.02218525971405696), (1096, 0.022129690942846694), (817, 0.022034877454094663), (2759, 0.021879657988162944), (198, 0.021784944330135062), (40, 0.021724722201710372), (1958, 0.0216879399244799), (4640, 0.021675556450006163), (756, 0.021654667482332107), (4450, 0.021566783162030985), (615, 0.021542145435868895), (313, 0.021539574610368453), (3954, 0.021497054487440177), (38, 0.02149582104122143), (1076, 0.021482719704265987), (3418, 0.021417978872578985), (2121, 0.02137045764474652), (1139, 0.02134400897444184), (109, 0.021330593531963822), (1846, 0.021292876111911798), (4113, 0.02129119988583161), (239, 0.021272823613962093), (247, 0.021254800272914997), (1055, 0.021234690775069388), (1376, 0.021189298710916935), (563, 0.021184072487700774), (2394, 0.021174729384292136), (1675, 0.02116775146162892), (430, 0.021145373240063315), (638, 0.021095457490632935), (2204, 0.021074054073642788), (1859, 0.02105956739205738), (3390, 0.02105628549355274), (164, 0.02104543175658332), (874, 0.02104249472288267), (1149, 0.02103003738257569), (140, 0.02100982340415196), (1092, 0.02096098856668478), (2114, 0.020939657496455655), (1857, 0.020926263514076986), (318, 0.02092608257003059), (144, 0.020894765616866554), (3456, 0.020833809942268564), (4152, 0.020819554739177504), (2519, 0.020816788382600187), (2375, 0.02079078932391825), (2473, 0.020779965573583196), (4300, 0.02077527295000223), (1513, 0.020740359868539532), (4022, 0.02073436150136624), (488, 0.020729927866198518), (982, 0.020709251086412667), (2870, 0.020546834848429472), (1495, 0.02053519738593613), (1255, 0.0205040712318073), (3627, 0.020502195864828432), (2483, 0.020465814159543502), (2135, 0.020455664996937104), (2588, 0.02041924992965366), (953, 0.020392161066634322), (3250, 0.020328884184297992), (890, 0.020320586235548284), (2487, 0.020259475589146675), (3245, 0.020230777022539816), (2649, 0.020212532551296323), (642, 0.020148527767927697), (1107, 0.020144970874234377), (1234, 0.02011163661799594), (1852, 0.02010132574924834), (4628, 0.02009516033937557), (4623, 0.02008521342085718), (3195, 0.020061753006389987), (1090, 0.020005064575354444), (339, 0.019996529634613222), (501, 0.019949088806882263), (548, 0.019928143390254876), (1431, 0.0199214853476046), (2046, 0.019865865693334237), (3467, 0.019805372645040255), (2628, 0.019743125379029766), (4297, 0.01965033287262996), (3956, 0.019540276160238852), (3348, 0.019535740481882613), (4666, 0.019511155910270715), (511, 0.01947286842752129), (695, 0.019388651931067345), (3338, 0.019387572178564103), (2455, 0.019384642241615072), (2654, 0.019381364105987887), (1632, 0.019370149211556734), (4400, 0.019357168393084222), (968, 0.019310252625806983), (3065, 0.01929368708388719), (1700, 0.01926136420540704), (1451, 0.019257269304902448), (240, 0.019156437114436944), (530, 0.019140281474415103), (2677, 0.019098679228727707), (346, 0.019089946553485386), (2060, 0.01906566651363928), (1649, 0.01905380033845569), (3068, 0.019049244445642093), (3140, 0.019014827596532592), (973, 0.018989090314050244), (4441, 0.018973042158924404), (1095, 0.01896948015574464), (1506, 0.01894710631711785), (880, 0.018916685135070065), (2397, 0.018908305217161053), (2202, 0.018778537878747868), (2118, 0.018733497392510963), (203, 0.018692602147673473), (2663, 0.018676189898324397), (4740, 0.018620154987754448), (3548, 0.018595746779517842), (96, 0.018535878820639614), (2686, 0.01844947110269237), (355, 0.018433077722022965), (3578, 0.018420767002843248), (776, 0.018366480538805657), (409, 0.01832239997705714), (907, 0.018287248454298338), (3844, 0.018268645745977793), (1259, 0.01821854184381159), (2074, 0.01818356869337691), (901, 0.018128150569452713), (1711, 0.018109569355003956), (1372, 0.018104157731104957), (3201, 0.018074167052966498), (1808, 0.017987894918894853), (1899, 0.017972031794470707), (3630, 0.01792281709316413), (2801, 0.01790670552450077), (3447, 0.017900030281687143), (853, 0.017852242265609542), (3389, 0.017737451024979534), (2541, 0.01765612675270411), (1559, 0.017613585502956264), (1925, 0.01755632390270304), (2927, 0.01754849426821273), (892, 0.01747524900937129), (2734, 0.01745589364639449), (4753, 0.01742198319721045), (3206, 0.017347189182875068), (2730, 0.0173322119985939), (4147, 0.017297620059060576), (1392, 0.017288646179035416), (2987, 0.017233834790626287), (2237, 0.01717788955222162), (3377, 0.01716019019370367), (3256, 0.01712740518276757), (1539, 0.01712229745096378), (1816, 0.017100211966974165), (1381, 0.017012654797729454), (1178, 0.01691954474036006), (3940, 0.016786695320451246), (3584, 0.01673676506841164), (2979, 0.016645559393988096), (1743, 0.01661482484922317), (1591, 0.016576417501516363), (1614, 0.016563363998903194), (1639, 0.016536338895381565), (1507, 0.01652659249618541), (4185, 0.016507274096168836), (2518, 0.016480711387058086), (4130, 0.01642413901839152), (3893, 0.01640468189920114), (2364, 0.016373958033757435), (2066, 0.016327580482959125), (2898, 0.01619837325083735), (3816, 0.016184972497285323), (2852, 0.016162035515701046), (2158, 0.016148558134244664), (250, 0.016139495558263897), (3202, 0.016119009621884006), (1509, 0.016109173054583464), (1371, 0.016049332592376196), (3013, 0.0160231430918442), (1205, 0.015921378959144045), (293, 0.015889650956771157), (415, 0.015881528264279472), (508, 0.01585961374525537), (3386, 0.015764410952590062), (2451, 0.015726775987839243), (3410, 0.01568383645115787), (4123, 0.015676745496609593), (493, 0.015673192960970164), (113, 0.015669879046688127), (1409, 0.01561001439171323), (2048, 0.015572162384655037), (2507, 0.015565102639762395), (2614, 0.015544870795403865), (1324, 0.015541236056701522), (4613, 0.015539227358672624), (4008, 0.015531042341420982), (3332, 0.01551732758937072), (761, 0.015454188451545012), (331, 0.015453782393974044), (1469, 0.015436126291658636), (4552, 0.015407614640009094), (2988, 0.015400456998519826), (2284, 0.015400219623583143), (3529, 0.015377223983369596), (1467, 0.01537643887563548), (1718, 0.015371753853795894), (2776, 0.015306476542607002), (3507, 0.015293925169818711), (2910, 0.015281335772713449), (2817, 0.015277412620303077), (3209, 0.0152278289773168), (2690, 0.015192176915071232), (2405, 0.015185588599181506), (2878, 0.015171093097211858), (3175, 0.015164968303929159), (3113, 0.015150122489783585), (4134, 0.015138220224372102), (244, 0.015112326722582893), (819, 0.015106048964593992), (3564, 0.0151009829863438), (3678, 0.015096230734445309), (4755, 0.015090380095630365), (3156, 0.01508781835726799), (3224, 0.015049757481623502), (1435, 0.015028828444504694), (193, 0.015019092777200394), (1336, 0.014975256249518083), (1420, 0.014948929476529097), (1794, 0.01493251308686793), (770, 0.014923122035963778), (2620, 0.014907128445856776), (2353, 0.014875295891958807), (2793, 0.014831489222836128), (4271, 0.014813553404463777), (2073, 0.014792236507072417), (4604, 0.014788659371241752), (4756, 0.014787334005419407), (1211, 0.014761743626540737), (1155, 0.014759874309699685), (931, 0.014742330152736837), (1549, 0.014723440571928807), (1881, 0.01470351346775156), (1455, 0.0146928107133084), (3882, 0.01467524868172601), (3926, 0.014666063630979994), (946, 0.01464175660040496), (1411, 0.014634175641036773), (927, 0.014631760474992562), (1494, 0.014618180961263102), (1612, 0.014605642825871176), (1526, 0.014598075092652079), (1386, 0.014579045592435592), (4542, 0.014560221558726865), (2813, 0.014533026160806772), (400, 0.014520438550686524), (3784, 0.014515277119948643), (498, 0.014507250359782469), (3982, 0.014496902294195238), (1087, 0.014492801817689353), (2644, 0.014492518093663961), (79, 0.014471877621523183), (0, 0.014424431780289222), (3270, 0.014417905870406946), (282, 0.014417719367016368), (1100, 0.014413999309621416), (1027, 0.01439904628184715), (3161, 0.014394950397245497), (3605, 0.014394532527194368), (2195, 0.014381725718661965), (917, 0.01435477533229228), (4239, 0.014346598327975704), (2687, 0.014316264623729254), (2122, 0.014300073165149117), (494, 0.014298106470527202), (1811, 0.014293400199089923), (1992, 0.014289978596512546), (854, 0.014278423033985877), (1641, 0.014271122073255364), (3499, 0.01426321270877654), (2912, 0.014249596747451427), (4600, 0.01421530373612634), (1293, 0.014207131318508594), (1804, 0.014203657503327468), (1782, 0.014195898629318244), (945, 0.014152988685820097), (2167, 0.014147416612452491), (3023, 0.014134342153277076), (713, 0.014123810215414761), (3366, 0.014096685132540018), (2329, 0.014092808897276576), (4154, 0.014089800807267181), (4171, 0.014080180025913679), (4532, 0.014048263064096506), (2497, 0.014047311013618568), (4537, 0.014040525195472513), (532, 0.014031419745616962), (1948, 0.013986137652890567), (3571, 0.013918722609773324), (3859, 0.013912883244411384), (2862, 0.013896554469149487), (2631, 0.013877947571429204), (2409, 0.013875844905533969), (1206, 0.013818179204235472), (4523, 0.013809971690626512), (2255, 0.013763591213727706), (1878, 0.013756028404164584), (2829, 0.013713128204647016), (35, 0.013701202277693973), (1368, 0.013649691155091454), (1004, 0.013646085127519235), (898, 0.013590520239203), (2445, 0.013577131423449105), (345, 0.013570757238743505), (2962, 0.013525305914585287), (3589, 0.013518144044396933), (4302, 0.013506871314134132), (4040, 0.01350070302376053), (605, 0.013452266990005644), (2837, 0.013406514229219096), (3311, 0.013385565291042347), (1919, 0.013383190469197812), (212, 0.013348206314587682), (410, 0.013335053466186313), (279, 0.013330291478191928), (3975, 0.01326197037074678), (1288, 0.013234359778281324), (2399, 0.013196101465065922), (745, 0.013185557956835195), (2966, 0.013170468892894064), (1764, 0.013142424842716055), (1903, 0.013135705518688302), (3329, 0.013100201705110375), (800, 0.013095229175834344), (3411, 0.013093277170595607), (3579, 0.013091039532439806), (2262, 0.013074849192049444), (1008, 0.013067615925661767), (2564, 0.01301723524991118), (3231, 0.012999698990936627), (4109, 0.012988307961789305), (664, 0.01296859124403233), (3942, 0.012961814979265672), (1414, 0.012953757891731674), (1652, 0.012916155831455431), (1249, 0.012877343423727115), (1213, 0.012834474940140058), (4606, 0.012815503011754815), (3901, 0.012791615330647415), (1569, 0.012746262582156907), (2047, 0.012722602694909439), (1241, 0.012707321974696694), (1616, 0.01268137185724775), (3957, 0.012631144375319581), (545, 0.012582033548601766), (4095, 0.012575201111345077), (547, 0.012532174737835496), (4412, 0.012446412669102349), (2785, 0.012411740054649446), (86, 0.012410646059303171), (3674, 0.012408934054900992), (1498, 0.012277881599162072), (1940, 0.012267319196993897), (1214, 0.012260255090633856), (432, 0.012224677316014038), (2273, 0.012210607123278629), (2229, 0.012167592693315604), (4242, 0.012094692736017418), (855, 0.012014855378800373), (3440, 0.012010855635883073), (2180, 0.0120004414712336), (2378, 0.011958332464648386), (3607, 0.01195038959827194), (1158, 0.011939930186290382), (1962, 0.011912499528653484), (2733, 0.01189921615670742), (1344, 0.011886290499386604), (1661, 0.01188449427583071), (4133, 0.01185014804513661), (2314, 0.01183740736037956), (4549, 0.011836302045930272), (1968, 0.01180332657468243), (4593, 0.011803022200142654), (739, 0.011802913178076706), (1724, 0.01177029372110882), (156, 0.011754589000478252), (3001, 0.011743850933746513), (3302, 0.011678138778392633), (1119, 0.011678129159914579), (4180, 0.01167576449692996), (4120, 0.011674245742621084), (2646, 0.01163109717388896), (4451, 0.011617946524263846), (3048, 0.011608261529775857), (1265, 0.011579255712986904), (275, 0.011532815800581627), (1167, 0.011532304123030105), (2599, 0.011531614041399078), (4454, 0.011530392824524685), (4751, 0.011526994513431229), (1904, 0.011518154668046452), (351, 0.011472323435467243), (4621, 0.011471170133222313), (1511, 0.011444503119918941), (1277, 0.01142616055692109), (341, 0.01140392134991355), (1391, 0.011384375678746445), (1907, 0.011380844333643494), (3810, 0.011377410371965012), (3235, 0.011366451136649794), (1452, 0.011356346236861076), (4630, 0.011351623493157164), (1835, 0.011331066458010236), (4167, 0.01132817277101949), (1104, 0.011323813115874565), (4716, 0.011305895631102708), (4090, 0.011297062423671178), (450, 0.01129096652258148), (1153, 0.011274014100225615), (4337, 0.011270670096952165), (3576, 0.011262910477344604), (1097, 0.011245701362126494), (3437, 0.011234516595840923), (4517, 0.01123430135046546), (3754, 0.011226579140104059), (1531, 0.011221682392451755), (3768, 0.011196438232376994), (1449, 0.011193743751754128), (991, 0.011184340805861085), (2630, 0.01118301880203707), (3724, 0.011155872706907282), (3086, 0.011135152431099414), (3651, 0.01113306132726989), (4392, 0.011132432371608846), (2949, 0.011127342057899007), (4747, 0.011119223273145254), (1975, 0.011116172650156365), (3488, 0.011100841096212375), (952, 0.01109560798106455), (4650, 0.011092063250809423), (4695, 0.011079163386017433), (4410, 0.011067500282508533), (2550, 0.011064807441951966), (2671, 0.011058816644400457), (1057, 0.011051242932367306), (517, 0.01104727322077395), (2636, 0.01104664755296061), (1930, 0.011017638398017506), (1643, 0.011015019844270207), (3398, 0.011006207639637373), (4377, 0.010995738207903383), (3117, 0.010964890844971447), (143, 0.010963890439855541), (3666, 0.010959544339233317), (1407, 0.010955807267569563), (3833, 0.010953135936387335), (420, 0.010950048571121605), (748, 0.010948164076572144), (3960, 0.010924025861316675), (580, 0.010907946948887533), (3516, 0.010901274940748976), (3817, 0.010892303014548315), (1426, 0.010890449945218596), (3815, 0.010884150146590435), (3782, 0.010871093280975144), (1271, 0.010870761763066767), (1250, 0.010859094705696935), (1580, 0.010848177322059378), (4149, 0.010845223381434689), (1622, 0.010843699975251213), (1588, 0.010835759177633016), (2278, 0.010817274915935414), (1223, 0.010808677844092549), (2295, 0.010802372146567497), (3179, 0.010781818280230532), (2159, 0.010771768786292026), (839, 0.010765682165351545), (1573, 0.01075666270618075), (3131, 0.010749697573167315), (3769, 0.010740754232085198), (1985, 0.010735119446147847), (1146, 0.010730546910872387), (1233, 0.010719810890898449), (2991, 0.010710293364213593), (3005, 0.010707966599020919), (3664, 0.01068887326517556), (3924, 0.010686769397389972), (509, 0.010686140792230054), (3330, 0.010670034590330906), (811, 0.010665568045760227), (3445, 0.010656319106507611), (1536, 0.010623779970997217), (1933, 0.010620347837991817), (1239, 0.010613271379870209), (4079, 0.010611793796959245), (1873, 0.010607290623255914), (516, 0.01060352267611279), (1993, 0.010600072322816035), (2263, 0.010585334896904717), (634, 0.010576256900717586), (1551, 0.010573329567453969), (81, 0.010566501545029862), (1970, 0.010537091507337622), (4665, 0.0105287002419597), (3002, 0.010518689105249897), (1679, 0.010510465090719418), (1378, 0.010494596459619922), (1515, 0.010469503794630049), (439, 0.010461075197665912), (3122, 0.010457535421292895), (1393, 0.010454148112231961), (1927, 0.010449406827112637), (2104, 0.010440517367365317), (3126, 0.010433022916667176), (4614, 0.010431824197620504), (273, 0.010428517044696502), (2235, 0.010426414203504139), (834, 0.010425059154279017), (1966, 0.01042353178012115), (3793, 0.010421600087825545), (2053, 0.01041727835522484), (1635, 0.010412359356264339), (3720, 0.010403056467976995), (2824, 0.010400266247226687), (2178, 0.010390483486257523), (4551, 0.01039011427310345), (2865, 0.010383582042390309), (4697, 0.010381261271206452), (4076, 0.010377640024183035), (3583, 0.010368282732621862), (4169, 0.01036416718302224), (2712, 0.010359620510567458), (1272, 0.01035819687316781), (3580, 0.010357036094518797), (2480, 0.010340685046053708), (3130, 0.01033815149279925), (3609, 0.010337084310173073), (1876, 0.010335809382871528), (70, 0.010326631901566208), (3994, 0.010324741389550016), (2057, 0.010319312081423301), (2893, 0.010318801534014505), (1953, 0.01031874560250837), (2996, 0.010315207033910201), (298, 0.010314792080636043), (3118, 0.010310335504232581), (2496, 0.01030337043987876), (2037, 0.010302325382198047), (1315, 0.010300472653441754), (1633, 0.010298746559857254), (4044, 0.010289541916268468), (717, 0.010285770327193562), (2432, 0.010276298023685747), (3823, 0.010262622185175404), (3734, 0.01022444022503007), (1109, 0.010220203500969176), (1667, 0.010206549831856227), (4378, 0.010203836978631019), (1510, 0.010198908668031421), (1623, 0.01019528737497604), (2304, 0.010188770327496939), (1813, 0.010174027876551953), (1207, 0.010159052915092509), (1295, 0.010155250846371), (824, 0.010153247376897559), (1195, 0.010137562414014162), (2618, 0.010131628176808924), (4585, 0.01012111058564767), (833, 0.010114750291200313), (231, 0.010114724708809768), (1599, 0.010112029852034958), (4582, 0.010102537367744885), (928, 0.010094889778665102), (1082, 0.01008163775604797), (1777, 0.010076426915420367), (2668, 0.010075695377017484), (1819, 0.010072551497157115), (3970, 0.010057514240462587), (1081, 0.010055792636695107), (1177, 0.01004806733845503), (1756, 0.010040274425244381), (835, 0.010034107935504381), (248, 0.01002749443701586), (1532, 0.010024774901381437), (4026, 0.010023940670898264), (3192, 0.010022224508414663), (1493, 0.010021820997520135), (3280, 0.010020853670720642), (1220, 0.010018944297837565), (4677, 0.010017820006456232), (2827, 0.01000501463330274), (2637, 0.010000709337015566), (2736, 0.009998419946850247), (87, 0.009995633258432227), (3278, 0.009985992642713151), (2139, 0.009982353465505033), (3000, 0.009979711368776716), (2062, 0.009975766269722599), (4193, 0.009973637286166693), (1803, 0.009966791266637883), (737, 0.009965976943051704), (2871, 0.009955565834906286), (1630, 0.00995026195288103), (1631, 0.00994595593108431), (1430, 0.009943984962634945), (2632, 0.009943653196682195), (3824, 0.009939302366770982), (1419, 0.009936588844502405), (3114, 0.009936181831600378), (2421, 0.009927461838045699), (2680, 0.009924242295993908), (4241, 0.009921111203299169), (2110, 0.009920491138063566), (2094, 0.009915852090711504), (1562, 0.009915177109832944), (559, 0.009903494140978797), (1041, 0.009898449695967681), (1347, 0.00989632491645698), (963, 0.009895455210773549), (359, 0.009893935874217356), (2899, 0.00989313103497254), (3021, 0.009889202856309592), (411, 0.009870147917395013), (1574, 0.00986977748632586), (1662, 0.009865631024185384), (4567, 0.009833899719191219), (3853, 0.009830335102398615), (1334, 0.009817614777962053), (893, 0.009817032417007467), (4106, 0.009815755714695427), (1555, 0.009810539342892912), (4268, 0.00980945516400493), (1893, 0.00980719536993225), (3550, 0.00980373136525551), (698, 0.009801120000431781), (3271, 0.009800785568196677), (2151, 0.009800233429228446), (4688, 0.009780967161546984), (3520, 0.009778064496923474), (821, 0.009774620932137029), (4736, 0.00976553072746295), (291, 0.009759063196479727), (1757, 0.009747231761283096), (150, 0.00974074397755842), (3452, 0.009731139631387255), (456, 0.009726412593468042), (354, 0.009724497037315693), (1270, 0.009723126194751726), (4165, 0.009720840422989789), (1197, 0.009718699691171864), (1996, 0.00971840511177407), (1568, 0.009716537884953358), (4556, 0.009715763449745191), (1951, 0.009712518775827968), (3966, 0.009703259010345784), (1914, 0.009702340624912093), (124, 0.00969474699358811), (1817, 0.009691280618848707), (3746, 0.00968382026472577), (822, 0.00968225765982402), (3709, 0.009681929064642797), (1561, 0.009679818659505795), (160, 0.009678627497963695), (1699, 0.009662340350450245), (2984, 0.009653870215101725), (2031, 0.009653522409976127), (810, 0.009650052052573467), (1374, 0.009649654553382183), (1990, 0.009647091062020241), (2826, 0.009646032027249575), (1480, 0.009645040155218648), (2174, 0.009641935770145903), (4233, 0.009641874214797928), (1133, 0.009640739435961575), (2317, 0.009632506688894456), (152, 0.009628502324353728), (1627, 0.00960984458572374), (558, 0.009609351218763865), (344, 0.009602960162610846), (1565, 0.009601367471485024), (3487, 0.009596431398362727), (1026, 0.009595399123841105), (2682, 0.00958578334761578), (4290, 0.009582836298813156), (2103, 0.009582001586756306), (1585, 0.009573909091298571), (223, 0.00956876273367233), (2430, 0.009564297758313575), (4743, 0.009562554416233124), (1359, 0.009558345723969613), (1245, 0.009558226178143206), (778, 0.009550241764479649), (148, 0.009545425611795519), (4366, 0.009521970253036867), (1253, 0.009521534062479409), (373, 0.009517994215879427), (2929, 0.009506940597317336), (1590, 0.009503188458991792), (2106, 0.009498665720349044), (3484, 0.009498525207638529), (752, 0.009492678362203162), (2540, 0.009490694708715426), (3010, 0.00949059061154542), (2148, 0.009488701806202827), (3160, 0.009483406443681636), (4548, 0.009481287012210444), (413, 0.009481069025391187), (2152, 0.009470503091027803), (790, 0.009443664633168918), (2729, 0.009440119403766076), (932, 0.009428965760841424), (3014, 0.009423985483403906), (246, 0.009412493179222221), (4565, 0.009396764519395182), (3182, 0.00938708021768929), (4292, 0.009385696409172166), (979, 0.009377827418908332), (4534, 0.009376088208037977), (99, 0.009373964938666178), (2732, 0.009369503361827979), (2373, 0.009357282518112449), (1404, 0.009353571588642782), (4658, 0.009352885813288506), (222, 0.009346436360108987), (1745, 0.009339755287706931), (3412, 0.00933467982923754), (356, 0.009330908184982174), (3794, 0.009328854927381123), (2100, 0.009323042735109208), (1838, 0.009319544546210633), (2935, 0.009291940629045693), (376, 0.009286062727598042), (2517, 0.00928075036331804), (3265, 0.00927938129873824), (3944, 0.00927097067531149), (3894, 0.009266642964865533), (2751, 0.009263950571932992), (4488, 0.009258218743988607), (334, 0.009251864612731848), (3503, 0.009249164480852399), (4374, 0.009244749610667837), (1412, 0.009230866490402393), (3370, 0.00922520799892854), (1723, 0.00922421281450728), (1267, 0.009206519530409787), (1682, 0.009198419701446758), (4405, 0.009196075458850476), (211, 0.00919574428205174), (1029, 0.009190271064719892), (1759, 0.009186988428690802), (763, 0.0091816261661457), (92, 0.009175664653693742), (284, 0.009172844872540937), (2234, 0.009161966234336743), (3854, 0.009151342028979213), (3279, 0.009148779327032397), (3420, 0.009133593144777704), (4626, 0.009112932809427014), (3471, 0.009106479413361084), (4513, 0.009088206199336797), (768, 0.009078002549730322), (218, 0.009076994511884139), (3989, 0.00906931012199691), (1488, 0.009065121411546202), (465, 0.009063777878609638), (1529, 0.00905487620730483), (524, 0.009053214285133173), (3829, 0.009052586893183142), (3120, 0.009036677692435132), (1114, 0.009033065716979406), (3619, 0.0090291641587209), (665, 0.009028705605166954), (2191, 0.009024926607502579), (1634, 0.009023150567826207), (1503, 0.009022875257238923), (4012, 0.009013395520231119), (1888, 0.009008537154258827), (3284, 0.009008384815657619), (1584, 0.009005484550384931), (2617, 0.00899868630086171), (2514, 0.008997575019477573), (352, 0.008997347756737169), (122, 0.008968889642929483), (1329, 0.008961650760864776), (2525, 0.008959247616439568), (1202, 0.008955750426622115), (327, 0.008949319508270617), (804, 0.008944008489742682), (1535, 0.008942816405565497), (4143, 0.008942120148378798), (1865, 0.008924160459460885), (3716, 0.008917827740334614), (647, 0.008908738939855892), (957, 0.008904255015272186), (285, 0.008903527867671568), (2845, 0.008888247934784474), (981, 0.008876292403915086), (936, 0.008876145820344213), (1279, 0.00886887957934752), (191, 0.008862559520383798), (1, 0.00886081670488549), (1920, 0.008858300426326361), (3752, 0.00885591758973415), (1366, 0.008844939368981045), (2573, 0.008844606668565444), (1762, 0.008838726307803016), (4217, 0.008834153557753284), (4343, 0.00882238862766289), (3637, 0.008816871876993149), (337, 0.008800966484671982), (741, 0.008793754014269234), (1002, 0.008787537894576912), (1977, 0.008773271319433187), (43, 0.008756126450504977), (4074, 0.008751442271884492), (1237, 0.008748765150359583), (2580, 0.00873644695190458), (3352, 0.00872861341851533), (1458, 0.008720483437136661), (2227, 0.008710887409669044), (75, 0.00870544286522529), (251, 0.008694386330828969), (1395, 0.008684303497520397), (3077, 0.008663788437462001), (2942, 0.00866278074190453), (1978, 0.008647198910708883), (194, 0.00864168465612468), (506, 0.008631623780676542), (453, 0.00862833075532699), (3111, 0.008614632000939025), (3509, 0.008597309027778145), (496, 0.008596200689976725), (762, 0.008547054318279873), (403, 0.008535782472852731), (3096, 0.008534431171915354), (3147, 0.00852212732656443), (3215, 0.008517342685572783), (1910, 0.008517266087565145), (566, 0.008489168420614153), (4437, 0.00848180008011299), (2, 0.008470950404619485), (2584, 0.008445504030497559), (1365, 0.008442902864071889), (269, 0.00843746284925491), (3668, 0.00843056355825134), (2841, 0.008425369319496124), (76, 0.008406134807505176), (1042, 0.008395782880685187), (2145, 0.008395625378312), (1802, 0.008384716014046686), (4015, 0.008381900194406626), (3731, 0.008343669918173445), (2747, 0.00829844541082725), (2326, 0.00829419975683791), (1690, 0.00828449825698265), (2563, 0.008267451711091871), (3137, 0.008247414009282406), (3091, 0.008201552136901557), (1369, 0.008193634922489677), (88, 0.008171683513056424), (4719, 0.008113045676384675), (2022, 0.008073245498680943), (1586, 0.008060098194219267), (2844, 0.008046551020793474), (3152, 0.008028057280254465), (1646, 0.008017558876775351), (309, 0.008002318136705438), (77, 0.007987184406355647), (414, 0.007981842812122858), (440, 0.007976332127954148), (237, 0.007961049143786387), (609, 0.007954462503804487), (1309, 0.007895202941430392), (2908, 0.007873646719088741), (271, 0.007795004289169359), (775, 0.00772454202973569), (1701, 0.00771822386465315), (881, 0.0076952980210119966), (2220, 0.007658535701401081), (562, 0.007655277685275993), (3983, 0.007594722211037032), (266, 0.007578802482489266), (4445, 0.007533812871807318), (3512, 0.0074702217452232815), (2597, 0.007431578594503575), (561, 0.0073748973599118885), (155, 0.007374274366256399), (807, 0.007354602790973439), (2678, 0.00734705341946925), (3552, 0.007317369808079158), (542, 0.007180996384964293), (2737, 0.007176771102831023), (2443, 0.007171493079114959), (3178, 0.007065654731081145), (4555, 0.007029355032175623), (1861, 0.007011226752381697), (455, 0.006928499365403913), (2701, 0.006772325413759664), (4223, 0.00667297799325707), (735, 0.006664867204707798), (2529, 0.006611415507772345), (2660, 0.00654070198768922), (2395, 0.006470722507280185), (3040, 0.006431868510453032), (764, 0.006413511697956203), (2764, 0.006407589210615776), (2722, 0.006402273354087287), (2858, 0.006398860950646803), (2379, 0.006358185686108106), (3139, 0.006347257028034296), (2891, 0.006342209130266473), (2832, 0.006336687261280786), (996, 0.006335442298577315), (3936, 0.006335081491623622), (3949, 0.00633337613288867), (2500, 0.0063207586945729765), (3142, 0.00628047689795009), (4725, 0.0062292497964898065), (2404, 0.006213918570911318), (4222, 0.0062056430971409934), (2137, 0.006205228132786094), (3439, 0.006196892916982275), (3166, 0.006187460485293657), (4198, 0.0061814712832354195), (3796, 0.006173931244581672), (2537, 0.006136693076481923), (2538, 0.006131634316246335), (4700, 0.006102384902632878), (3042, 0.0060890241217445955), (2715, 0.0060748832133188865), (4007, 0.0060670710529017475), (3009, 0.006052018136118758), (3217, 0.006039538609007421), (4166, 0.006028638217670744), (4102, 0.005996234831067289), (2281, 0.0059882152435254965), (3479, 0.005981385653111388), (2600, 0.005978703010512495), (1939, 0.00595288694797163), (2423, 0.005933694177949177), (4084, 0.005927361985090977), (2983, 0.005898300039357666), (2543, 0.0058826206289949255), (3892, 0.0058749324867988185), (2928, 0.005859095946959542), (3800, 0.005859052039549101), (2363, 0.00582328848555525), (2948, 0.00580728492436813), (2199, 0.005796096153531719), (3078, 0.005776537901573713), (2228, 0.005747057806613401), (2797, 0.005744091757245033), (2838, 0.005710313121331078), (3282, 0.005704967748216585), (3537, 0.005697331784717244), (4570, 0.005683114540272555), (3763, 0.005679167718171802), (3544, 0.005657675612511134), (948, 0.005655996078563006), (3686, 0.005647444602961862), (4064, 0.005642547865833292), (3249, 0.005636435616720503), (3671, 0.005621254703582559), (3020, 0.0056127048688466965), (2727, 0.005611125099617384), (1208, 0.005603763282186946), (904, 0.0056000798572872984), (2656, 0.005586786522686025), (3592, 0.005577902934701274), (4514, 0.0055750483628525015), (3017, 0.005563965248773364), (4746, 0.005563403480370732), (2738, 0.005559387819738695), (2834, 0.005558235743538193), (4440, 0.005557731442440311), (4717, 0.005549864408723232), (2581, 0.0055496869988004025), (3168, 0.005541198587113657), (2756, 0.00553771935900462), (2333, 0.005528026842971681), (2781, 0.005511516569488084), (391, 0.005492682459254694), (1424, 0.005491625161200546), (3089, 0.0054910194666666), (2077, 0.0054904269776789435), (2488, 0.005488326853681365), (2786, 0.0054867937374185214), (4483, 0.005477707966682763), (3357, 0.005477145167124509), (3758, 0.005473003624027176), (3952, 0.005467094141274058), (2009, 0.005465569296557272), (2434, 0.005459152377980298), (2479, 0.005455828920240771), (2619, 0.005452708280410785), (3577, 0.005449313914717823), (2464, 0.005444783229067904), (842, 0.00543831886084513), (153, 0.005435215255650848), (2468, 0.005433281019448741), (4341, 0.005428732482201186), (1169, 0.005426552970307011), (2308, 0.00542577251469129), (582, 0.0054254326260452365), (3764, 0.005424930564002719), (3371, 0.005418493378866275), (3554, 0.005410654510656658), (2857, 0.005403106067160541), (925, 0.005401948061751079), (2351, 0.005401804497398867), (1637, 0.005400454045750347), (2368, 0.005399349109157865), (2570, 0.005395852116990523), (1049, 0.005395820646677648), (2696, 0.005393141831800419), (2535, 0.005392489198227742), (760, 0.005390227841132476), (2846, 0.005388537225812757), (3616, 0.005385542256388246), (2186, 0.005384129865073484), (2872, 0.005382938853820408), (2986, 0.005380307545198195), (2796, 0.005375525034517142), (3413, 0.005371146158468681), (3649, 0.005361622470437904), (1187, 0.005361591282052787), (751, 0.005360267150864132), (3866, 0.0053573363294095845), (1792, 0.005353675974985819), (3364, 0.005345634245966215), (3062, 0.005344713958675235), (2320, 0.005341851829728769), (1658, 0.005338259399281913), (4633, 0.005337687443935347), (4293, 0.005335513677846359), (4285, 0.0053287339911091275), (3621, 0.00531919548692414), (3080, 0.0053127359219361), (795, 0.0053126606560429165), (4105, 0.005307369645757223), (2486, 0.005301524072853106), (3337, 0.005297075881921077), (4295, 0.005293200289022454), (2769, 0.005292881952631676), (1941, 0.00528897032983003), (1615, 0.005282380842976093), (2810, 0.005278397030105726), (1806, 0.005276343201582246), (368, 0.005273906638722112), (985, 0.005273704293313296), (4463, 0.005267967281460054), (2702, 0.005267518166331618), (2261, 0.005267245903431115), (2403, 0.005257096976431098), (2884, 0.005256473515135327), (4051, 0.005249428958330781), (2635, 0.005248739759425773), (4522, 0.005243266118129388), (3258, 0.005237863115671813), (4086, 0.005235263023547549), (905, 0.005233990637253961), (461, 0.005233888832404133), (1489, 0.005233720197648868), (4599, 0.005229963054663972), (2478, 0.0052292783644592436), (2187, 0.005220067001737889), (998, 0.005213079745436857), (1766, 0.005209084612164309), (2720, 0.005206025372515877), (2302, 0.005203520803841897), (4203, 0.00520200212658828), (1560, 0.005201386026081507), (4453, 0.005190798660240976), (3967, 0.005190411934706708), (3044, 0.005186037511276045), (999, 0.005183833871779657), (2575, 0.005182966982370289), (2924, 0.005175767630446923), (3424, 0.005174018568495047), (4121, 0.005173341496572685), (1640, 0.005165297697859516), (4580, 0.005164486947136699), (3652, 0.0051638154844558274), (3003, 0.00516329065422847), (2982, 0.005161618571190867), (3039, 0.0051614332050411394), (2493, 0.005159142470609074), (4118, 0.005158393969138178), (2049, 0.005157091442358464), (2260, 0.005155968243903516), (2410, 0.005150396926716741), (4460, 0.0051496103779298565), (2108, 0.005146457490459216), (2754, 0.005146435313532902), (2082, 0.00514507359932623), (1836, 0.005145054453414274), (1491, 0.005137204934884479), (2209, 0.0051346324317952195), (3221, 0.005131017698311984), (4308, 0.0051286962463119), (4346, 0.005127146916812509), (365, 0.00511517099280407), (933, 0.005109083524337117), (2012, 0.0051087470823039825), (4140, 0.0051073843623697796), (3545, 0.005106899034008026), (4207, 0.005106259333970936), (3109, 0.0051021506336658955), (4448, 0.005100468625903271), (1999, 0.005100403663204552), (2994, 0.005099588444162066), (2799, 0.005095016666837401), (1142, 0.005092170967736675), (2843, 0.005089091351013515), (2381, 0.005088382827150664), (1656, 0.0050860623818679345), (3858, 0.005081704849512296), (2592, 0.005079095704350426), (2604, 0.005074273385961124), (754, 0.00507268588936522), (687, 0.005067832677042728), (139, 0.00506736729959769), (3373, 0.005065061471709901), (3026, 0.005064862567295071), (3964, 0.005057161526440762), (3628, 0.005054750890958063), (678, 0.005054216500079357), (3984, 0.005050852222949173), (1243, 0.00504998051384605), (2116, 0.005049652300298021), (3681, 0.005049340339426332), (3581, 0.005048193811499617), (2561, 0.005046694510617369), (1733, 0.005046368692803482), (3146, 0.005045538954991239), (1260, 0.005044148324234213), (3408, 0.005041492325570625), (2755, 0.005037900846421698), (2223, 0.005035769915616223), (2873, 0.005035420380931089), (4351, 0.005033263391072577), (1596, 0.005031725637071213), (253, 0.005031461083579406), (3601, 0.005030260165853965), (1848, 0.005029820723217159), (4315, 0.005028722523888976), (1486, 0.0050274959598977965), (2420, 0.0050260655252103645), (4323, 0.00502601885427846), (350, 0.0050240885569488684), (2782, 0.005019480248430139), (1923, 0.005015824054396487), (4226, 0.005014946201752486), (2021, 0.005012296718776052), (1822, 0.005008035026025664), (3183, 0.004991907447999142), (2348, 0.004990415252678439), (3444, 0.004989563554239561), (1007, 0.004988152740132895), (1099, 0.004987271718418453), (873, 0.0049825378106120605), (3198, 0.004978488219198779), (784, 0.0049674718877502685), (1926, 0.004965132667473457), (2880, 0.004963662298459083), (3676, 0.004957136480009962), (2391, 0.004952421968071478), (4433, 0.0049496055522518555), (4132, 0.004949103055626309), (1594, 0.004948428826874812), (2970, 0.004944648253951108), (667, 0.004940749233673125), (2218, 0.004937203732041685), (2546, 0.00493483284685493), (1479, 0.004933838020405017), (2709, 0.004932513566103803), (3950, 0.004932417777815302), (1282, 0.004931850000102403), (4324, 0.004929040721178708), (1520, 0.004928831923958659), (3812, 0.004921707072867202), (3845, 0.004921665448529768), (2626, 0.004921232959769291), (2951, 0.004916065799688872), (2811, 0.004912311109179351), (1955, 0.004912231777562788), (1537, 0.004910676573852065), (3822, 0.004908071054120341), (3919, 0.004899509945910033), (2662, 0.0048991316869563895), (2882, 0.004898681633301697), (4061, 0.004894749208750299), (4489, 0.004894377778396238), (4108, 0.004894142450684364), (1432, 0.004891849437769923), (4052, 0.004889838853190961), (3889, 0.004888500678585392), (1224, 0.004886561492224309), (1851, 0.0048859721023150945), (3097, 0.004882794647716403), (3349, 0.004879838162734005), (3181, 0.004879431217106332), (1765, 0.004878785390805266), (4357, 0.004877394383870553), (2978, 0.004876106571579718), (2086, 0.004874567964305104), (4173, 0.00487368931294172), (1731, 0.004869056459518275), (4094, 0.00486889589633669), (903, 0.004867306950870314), (2999, 0.0048672807704132435), (1364, 0.004862792228726335), (2926, 0.004859945685791521), (3189, 0.004856915775510753), (1727, 0.0048548728720208024), (2241, 0.004853043684669738), (2633, 0.004852333508317766), (990, 0.004851533556242175), (4093, 0.004850594889153178), (2194, 0.004849656261896986), (872, 0.004849451443054169), (4263, 0.004846732654743243), (630, 0.004843710963155033), (2309, 0.004843455958841711), (1791, 0.0048423945863978355), (1821, 0.004839127561933167), (392, 0.004837987140077528), (3290, 0.004832522425020457), (2566, 0.004831963545349302), (4422, 0.0048309369807685324), (3449, 0.004830011634573278), (4434, 0.004829494771216817), (3496, 0.004828289780968673), (2605, 0.004825053459797238), (2303, 0.00482397934409901), (3934, 0.004822514324401732), (1382, 0.004821093179564198), (884, 0.004821065063394589), (3400, 0.004817583318682285), (1683, 0.00481626386765335), (245, 0.004814847414687502), (2472, 0.004814132566036272), (879, 0.004811780618041843), (401, 0.004810022120348496), (1516, 0.004808711752869889), (2495, 0.00480863438461848), (474, 0.004807557710113953), (1572, 0.0048069851075589805), (134, 0.0048048359306156665), (1587, 0.004804815703469612), (2531, 0.004803073445246367), (3236, 0.004802141336762933), (1013, 0.004800084380656914), (4557, 0.004799253980695985), (405, 0.004797413485487967), (3287, 0.004796881151387821), (781, 0.004796554279534417), (2208, 0.004795608669829072), (3084, 0.004791367631603168), (1445, 0.004790779481774449), (4446, 0.0047907316390714905), (2816, 0.004788947531897569), (3790, 0.004785629712147593), (4395, 0.004783697718470641), (2090, 0.0047836453189312135), (2222, 0.004782721533192612), (4675, 0.004779307776805692), (3283, 0.004778484798731866), (3973, 0.00477676740188165), (1124, 0.004776359370946521), (4234, 0.004775776317466872), (1085, 0.004775393496617463), (1286, 0.00477415794628637), (3905, 0.004773499200913206), (3388, 0.004770679892898266), (849, 0.004770010127594563), (2504, 0.0047659510999782575), (3061, 0.004764756739775771), (2554, 0.004761328944968674), (941, 0.004761300947519418), (1660, 0.004761033098859265), (3549, 0.004759996965629467), (3514, 0.004758248876455342), (3603, 0.004757753596384723), (4319, 0.004756385448625473), (2081, 0.004756028730654255), (3599, 0.004755931690456813), (2242, 0.004754893404608016), (2387, 0.004754481488066028), (2431, 0.004752306456632778), (219, 0.004750495411200105), (2940, 0.004744548471287664), (1108, 0.004743327588059442), (3214, 0.004741357702867906), (4347, 0.004740852252055815), (4457, 0.0047395188081490215), (3728, 0.0047380013782645615), (312, 0.004737506581230123), (2249, 0.004735939432037133), (3648, 0.00473316910067189), (1911, 0.004733063009334715), (908, 0.004732497500940378), (3382, 0.004730021165689516), (2444, 0.004725704852368038), (1505, 0.004725089580414282), (1722, 0.004723240562654738), (579, 0.004723096609302462), (2586, 0.004723045615177513), (1688, 0.00472281129876628), (2856, 0.004722363637870327), (1361, 0.004721481668920575), (1613, 0.004720058269523786), (2494, 0.004719182316765281), (3464, 0.004718909381790995), (4603, 0.004717025864276939), (2569, 0.004714268745432709), (1697, 0.004714112052751058), (1956, 0.004713817916677639), (2511, 0.0047127660741944355), (3539, 0.004711342343712945), (174, 0.0047102427435863434), (793, 0.004710237479669093), (1889, 0.004708183273405861), (4404, 0.004706208140268587), (1165, 0.0047032623307902), (1965, 0.004702565599940379), (1094, 0.00470252972718485), (3513, 0.004702207093090552), (2499, 0.004701450117973817), (2449, 0.004701419006415339), (479, 0.004701269700104704), (2041, 0.004700037688998971), (2582, 0.004699873545498718), (1447, 0.004699564942335464), (4486, 0.00469823596871496), (2744, 0.004697978024650617), (3034, 0.004696988255886378), (4287, 0.004693893401433619), (3303, 0.004693751065558369), (2456, 0.0046930202734970505), (4027, 0.004691971545891771), (2794, 0.004688494874729328), (2973, 0.004687864826841506), (1618, 0.004686124978630084), (3155, 0.00468577612129943), (1232, 0.0046855057581709336), (169, 0.004684641239043308), (3351, 0.00468400531743475), (2726, 0.004682866490053715), (2217, 0.004681496933621161), (1847, 0.00468109344609601), (3443, 0.004679550563001741), (1345, 0.004679501528913731), (1751, 0.004678832957882623), (115, 0.004674755493571619), (671, 0.004674654576397998), (3289, 0.004672890525067268), (3102, 0.004671067930882558), (504, 0.004670527137422024), (971, 0.0046678857820034855), (2746, 0.004667730276108291), (2125, 0.004667445321182857), (1769, 0.004667127593523745), (3805, 0.004665280360652853), (1638, 0.004663824177466035), (2492, 0.0046635213902753185), (3016, 0.004660433166578074), (1837, 0.0046604002078653485), (2685, 0.00465539669583903), (110, 0.004654818834046179), (1198, 0.0046528825280340745), (1166, 0.004652636262942356), (3570, 0.004652439889682502), (1525, 0.004652350144567472), (264, 0.004652143355050497), (238, 0.004648843848865829), (2807, 0.004648745663225594), (3018, 0.004648632591658733), (923, 0.0046479260459954186), (1047, 0.004646379054280718), (1557, 0.004645813247431531), (3150, 0.004645306588981303), (2336, 0.004644849306477882), (1961, 0.004643580905023467), (2396, 0.00464236256183853), (2003, 0.004642207957726177), (3297, 0.004636393339374422), (3632, 0.004635996045633477), (3673, 0.0046341913808224024), (1726, 0.0046324741964629025), (1410, 0.004632465041537334), (1508, 0.00462847109916932), (697, 0.004628245556100364), (2340, 0.004627835820435064), (2385, 0.004625883854354015), (528, 0.004624788267808555), (3650, 0.004621929521810898), (1533, 0.00462118063432737), (2193, 0.004620571776182282), (3888, 0.004619421938758393), (529, 0.004619250013421498), (586, 0.00461885087679396), (398, 0.004617972682660388), (2192, 0.004616065451917905), (2297, 0.004613371463577953), (4029, 0.004612370484050279), (3188, 0.004610201099267683), (2706, 0.00460912609764948), (983, 0.004608416404070017), (2972, 0.0046071710575469925), (3517, 0.0046071692688663705), (3644, 0.004602730881996519), (720, 0.004602571556662595), (1501, 0.004600753114178685), (1302, 0.004600368723887205), (2812, 0.004600182818037681), (736, 0.004597859834616306), (4218, 0.004597017751488907), (3375, 0.004595953163759743), (1330, 0.004592913198657394), (4135, 0.004592487370414904), (4195, 0.0045924731360256444), (521, 0.004592404120585116), (1589, 0.004590053959192013), (2290, 0.004589511560286711), (3033, 0.004588806551379066), (1256, 0.004582068532521366), (2422, 0.004579823899239021), (4049, 0.004577924384168842), (42, 0.004573836231055891), (3288, 0.004573029229653138), (1783, 0.00457273093255811), (969, 0.004572245540396016), (4254, 0.004570821397894385), (1986, 0.004565850223351035), (4073, 0.004563903573015753), (1476, 0.004560879233925309), (427, 0.004559209317129509), (1485, 0.004558682731857684), (3879, 0.004556517648179231), (3500, 0.004555102751579163), (503, 0.004548766242621565), (2087, 0.0045479246499959426), (785, 0.004547913987654285), (2335, 0.0045461103914604594), (1373, 0.0045456195105242425), (1880, 0.004545461942090265), (1298, 0.004544989391104644), (938, 0.004544047780056892), (2836, 0.004542108928504267), (1022, 0.004540609505390862), (4036, 0.0045401711480677), (1238, 0.004539953092058172), (4112, 0.004538584702642054), (3890, 0.0045348234731127455), (3641, 0.004534600600216393), (3402, 0.004533581841357698), (2945, 0.004530456442230898), (2019, 0.004530316861229635), (1422, 0.00452747035210671), (4099, 0.004526779924783837), (1663, 0.004526195381050349), (3066, 0.004525949513402047), (1170, 0.004524510820812179), (3531, 0.00452423246514883), (3606, 0.004523374304915401), (4304, 0.004523321273877635), (3477, 0.0045231358345312455), (4206, 0.004522336717795759), (1204, 0.004520353586272634), (3286, 0.004520210826826226), (2450, 0.004519305049162132), (3685, 0.004518169404847315), (4037, 0.004517015404537505), (22, 0.0045166409873159934), (1112, 0.004515342836690003), (2153, 0.00451529340195597), (1867, 0.004514155924173272), (114, 0.004510015763875714), (2804, 0.0045099422456166905), (4738, 0.004508557477051863), (1297, 0.004507327401150778), (1126, 0.004505908947142721), (1693, 0.004504080415573631), (2866, 0.004503226817082418), (2787, 0.004502635035270741), (859, 0.00450260052342967), (2280, 0.004501817753842935), (1912, 0.004501760862847594), (1337, 0.004501223565539211), (3315, 0.004500100828182867), (473, 0.0044992127751275765), (1738, 0.00449851706624871), (2440, 0.004498408585128104), (188, 0.004497964711931375), (1984, 0.0044963883026347875), (2026, 0.004495960941535301), (1074, 0.0044956991169438285), (2825, 0.004491009424821546), (4213, 0.004488066279435368), (50, 0.004485884295906168), (3998, 0.00448476684560212), (1721, 0.004484244785160754), (2179, 0.004483178349006065), (3397, 0.004482659397163402), (1842, 0.004481896238540398), (3868, 0.004478826672111183), (1771, 0.004477828613140473), (2056, 0.004475370694901606), (1598, 0.0044722500189997945), (1190, 0.004471821151741604), (1408, 0.00446978475810168), (507, 0.0044694574333196836), (1750, 0.0044668228259988), (2590, 0.0044650122881405565), (2131, 0.004464881659407628), (2823, 0.004464019313071788), (3622, 0.004460675177597688), (4197, 0.004458609248084128), (2897, 0.004456532314198274), (2616, 0.004455808884673858), (3582, 0.004452541391496702), (2642, 0.0044520173880203875), (883, 0.004451139671949501), (1552, 0.004449966687163427), (2068, 0.004448213720756707), (1231, 0.004448190622397765), (4252, 0.0044471067692098435), (662, 0.004447081565604735), (1913, 0.004443269910785138), (3295, 0.004435671597733598), (505, 0.004434340848982184), (1113, 0.004434200233256545), (1363, 0.004433337858788135), (1117, 0.004433161300999758), (157, 0.004432240914086002), (780, 0.0044321952197180865), (3595, 0.004431771191069909), (4442, 0.004430582868149832), (3753, 0.00443042648145973), (1610, 0.0044302106632655375), (3886, 0.004430015367112504), (197, 0.00442815053645071), (759, 0.004427369659694948), (2207, 0.0044260448338308365), (2402, 0.004424091271339182), (2512, 0.0044237454767485805), (4447, 0.004423240980404932), (690, 0.004420752656427607), (2699, 0.004420617887538756), (3220, 0.004419357970820898), (3050, 0.004418799885708696), (3309, 0.004416052413997735), (702, 0.0044137405309648756), (1261, 0.004413400915253084), (2050, 0.004408177748010684), (2681, 0.004406817679020162), (2594, 0.004404002009627369), (1900, 0.004402237145599685), (773, 0.004401380229284421), (1196, 0.004398491825259309), (3646, 0.004397564314080142), (2107, 0.004397117037973697), (2446, 0.004396520461557622), (217, 0.00439546691280102), (3562, 0.004394283528957314), (3194, 0.004394040715863704), (2461, 0.004391545945859514), (263, 0.004390960503382152), (649, 0.004389004250367893), (2467, 0.004388106270351164), (1084, 0.004386296932523891), (4071, 0.004385069050727907), (215, 0.00438285863269549), (3149, 0.004382430332267167), (325, 0.004374688953470545), (2150, 0.00436929348719012), (2728, 0.004368367696101112), (1457, 0.004368003307310469), (4192, 0.004366899594384812), (3732, 0.0043653713696239875), (1778, 0.0043631890219075755), (3177, 0.004363036761091208), (4327, 0.004357004404152787), (939, 0.004355277516647641), (1744, 0.004354767565528654), (1898, 0.0043546627600955685), (2666, 0.004350353317123973), (1973, 0.004343763462058909), (1073, 0.004343209895062768), (1642, 0.004342530466440208), (1929, 0.004341620443056066), (3246, 0.004339877563249805), (4272, 0.004339166375771012), (3232, 0.004336280826676088), (1877, 0.0043336038006779355), (1327, 0.004332159750146601), (1582, 0.0043298322943939), (546, 0.004328320559964061), (2992, 0.004325367612232262), (2971, 0.004317736439775886), (589, 0.004317285159645105), (45, 0.004316977359126767), (2093, 0.0043154643770474685), (984, 0.004314175564886396), (1292, 0.004312293148105717), (4321, 0.0043117042703147875), (1824, 0.0043075948952648), (1797, 0.00430589737450712), (2424, 0.004302912393111633), (1839, 0.0043007645060480545), (185, 0.004298007601656808), (1291, 0.0042978641768105195), (1788, 0.004296053200708941), (4325, 0.004292995534310485), (2954, 0.004291498738319817), (73, 0.004286182031489421), (1217, 0.0042839869557056934), (1487, 0.004283582847012178), (3127, 0.004283438386604895), (4174, 0.00428264165387392), (1833, 0.004279780695950758), (3633, 0.00427714758107485), (3736, 0.004274048448698506), (367, 0.004273631133672954), (1340, 0.004272385409607571), (1787, 0.0042721000513756685), (2201, 0.004269735037111119), (1308, 0.004269609093139828), (4473, 0.004267507749915564), (214, 0.004267291707585823), (2099, 0.004267200528948802), (3842, 0.004261959471460167), (2367, 0.004261393241910982), (2170, 0.004261128831853479), (3267, 0.004260745371385882), (1310, 0.004257431962010847), (3395, 0.004256127403556797), (3071, 0.004254545273664294), (3319, 0.004252803967650252), (1468, 0.0042523944591554745), (1200, 0.004252237214533856), (632, 0.004249920955852457), (1482, 0.004249592987650613), (1974, 0.004249066536457184), (1323, 0.004249048179494133), (383, 0.004245412085383136), (2741, 0.004242449714211182), (1173, 0.004240002466192695), (1714, 0.00423863490830153), (916, 0.0042337260652108065), (14, 0.004231007060758361), (788, 0.004230835937494365), (2265, 0.004222553785197996), (1521, 0.004220424442265926), (3941, 0.004218756408924004), (1982, 0.004218609205768263), (3070, 0.004217013089229723), (515, 0.004215938258707707), (4237, 0.004212016983133769), (417, 0.004210314497563616), (1528, 0.004209999153447436), (1427, 0.004207437365047511), (1025, 0.004205708129829479), (2236, 0.004203824886370827), (1038, 0.004202177652729341), (1827, 0.004201086102449385), (3923, 0.004200762665991229), (2043, 0.004194046363904872), (1543, 0.004189690683448708), (1477, 0.004187045148076404), (2426, 0.004186827892261828), (3238, 0.004186548420738886), (4018, 0.004182714788399474), (103, 0.004178150003627364), (2770, 0.004177346809337072), (4104, 0.004176875872341186), (2855, 0.004175592220142899), (3839, 0.004175542307995818), (820, 0.0041748740885746575), (416, 0.004173964104908864), (2615, 0.004173893367840999), (2433, 0.004173789420235196), (4066, 0.004171210269516314), (2874, 0.004169491717104431), (3304, 0.004169150365136753), (703, 0.00416863552384676), (2389, 0.004167685154504692), (1397, 0.004166282941756619), (951, 0.004161002617465162), (2264, 0.00416064256904089), (583, 0.004159889887279596), (1987, 0.004158238534842213), (1567, 0.0041578460987144635), (4627, 0.00415655609730595), (2058, 0.004152454470417905), (3598, 0.0041519345036668525), (885, 0.004151251687875918), (851, 0.004142464717996734), (1684, 0.00413958554610162), (1719, 0.004139521507801723), (3485, 0.004138949971605538), (161, 0.004131879144484886), (2591, 0.004128553546096815), (2146, 0.004127220707763505), (1830, 0.004124447230594712), (978, 0.004124128155184931), (3767, 0.004122947464728402), (278, 0.004122348695314875), (1348, 0.004113649900465433), (4519, 0.004106457365743096), (2240, 0.004106433037064666), (2721, 0.004105820820095943), (1980, 0.004105508042200836), (2161, 0.004096960041687765), (357, 0.004096245214697362), (1312, 0.004093181518907832), (2168, 0.00409267478072099), (2439, 0.004091721429132031), (3063, 0.004091169289777507), (2033, 0.0040828215325887695), (1251, 0.004081691032937832), (2539, 0.004080965448822454), (3933, 0.004077234763351604), (3748, 0.004071912311483438), (970, 0.004068551125029195), (3108, 0.004067342900010106), (1571, 0.004067085017470203), (3914, 0.004055459018363452), (2833, 0.004053995598259776), (497, 0.004045947632122737), (836, 0.004042112828994713), (3393, 0.004041956993720705), (2933, 0.004037971352416944), (2270, 0.004036163053489119), (1694, 0.00403119113831942), (1850, 0.0040263626203251345), (3856, 0.004025368920709204), (1465, 0.004019733026300659), (4636, 0.004011891538856999), (91, 0.0040100519968627), (2509, 0.0040087300990677786), (1954, 0.004007657927867471), (1040, 0.0040073217554861445), (2688, 0.004006219235862573), (2001, 0.004003396175959515), (1194, 0.004003260915495718), (2805, 0.003997251037278343), (2913, 0.003988269010369386), (1394, 0.003981485981956132), (712, 0.003975726176254916), (1370, 0.0039737053188961344), (3575, 0.003964114155622533), (4156, 0.003956354424690917), (2331, 0.003952975322765379), (2006, 0.003950363730546292), (1943, 0.003942685762198092), (2876, 0.003938868332175984), (195, 0.003936958895713975), (175, 0.003936595489069726), (1212, 0.003935507802297662), (3, 0.0039349138739018606), (3684, 0.003929899544392195), (1078, 0.003929132420451498), (964, 0.003927461765537801), (2603, 0.003925772781196315), (2157, 0.003923927343571703), (2211, 0.003920208290240669), (3559, 0.003918745868606803), (707, 0.003915108995801016), (2076, 0.003906928411306183), (4744, 0.0038957303659991156), (3658, 0.0038920805662681396), (862, 0.0038891535562650035), (1453, 0.0038777422328402362), (1523, 0.0038772934436818816), (726, 0.0038735551033055177), (1963, 0.0038631699427653255), (1317, 0.0038620424111468752), (2018, 0.003860837378294451), (1981, 0.0038531660152960816), (1268, 0.003852974178478896), (25, 0.0038515424837343225), (1781, 0.0038507786750963456), (1300, 0.0038452303969246874), (2758, 0.003842531178630135), (2665, 0.0038334326078613683), (1367, 0.0038324782772003593), (1222, 0.003825120989365463), (1341, 0.003809536365341018), (2441, 0.003799251042381698), (786, 0.0037983853495230555), (1320, 0.0037868673783416937), (3538, 0.003784330383763794), (3875, 0.003756565192860647), (1676, 0.003740676139102461), (4652, 0.003737732425545206), (2925, 0.003730445143145127), (1677, 0.003722029659901715), (1883, 0.003701272907802323), (757, 0.003686964400146641), (421, 0.0036842917428801603), (1871, 0.0036642501246200677), (1695, 0.0036402258819242654), (82, 0.0036293534256031405), (926, 0.0036269118342973144), (3626, 0.003575590592760344), (3574, 0.0035702472596685665), (369, 0.0035670514192938504), (1362, 0.0034261515981517756), (336, 0.0034213007165978487), (3421, 0.0033145559807262544), (2814, 0.0032923770041998176), (129, 0.0032407099421776983), (940, 0.003227242623659513), (740, 0.0031676026615699957), (4, 0.0), (5, 0.0), (6, 0.0), (7, 0.0), (8, 0.0), (9, 0.0), (10, 0.0), (11, 0.0), (12, 0.0), (13, 0.0), (15, 0.0), (16, 0.0), (17, 0.0), (18, 0.0), (19, 0.0), (20, 0.0), (21, 0.0), (23, 0.0), (24, 0.0), (26, 0.0), (27, 0.0), (29, 0.0), (30, 0.0), (31, 0.0), (32, 0.0), (33, 0.0), (34, 0.0), (36, 0.0), (37, 0.0), (39, 0.0), (41, 0.0), (44, 0.0), (46, 0.0), (47, 0.0), (48, 0.0), (49, 0.0), (51, 0.0), (52, 0.0), (54, 0.0), (55, 0.0), (56, 0.0), (57, 0.0), (58, 0.0), (59, 0.0), (60, 0.0), (61, 0.0), (62, 0.0), (63, 0.0), (64, 0.0), (65, 0.0), (66, 0.0), (67, 0.0), (68, 0.0), (69, 0.0), (71, 0.0), (72, 0.0), (74, 0.0), (78, 0.0), (80, 0.0), (83, 0.0), (84, 0.0), (85, 0.0), (89, 0.0), (90, 0.0), (93, 0.0), (94, 0.0), (95, 0.0), (97, 0.0), (98, 0.0), (100, 0.0), (101, 0.0), (104, 0.0), (105, 0.0), (106, 0.0), (107, 0.0), (108, 0.0), (111, 0.0), (112, 0.0), (116, 0.0), (117, 0.0), (118, 0.0), (119, 0.0), (120, 0.0), (123, 0.0), (125, 0.0), (126, 0.0), (127, 0.0), (130, 0.0), (131, 0.0), (133, 0.0), (135, 0.0), (136, 0.0), (137, 0.0), (138, 0.0), (141, 0.0), (142, 0.0), (145, 0.0), (147, 0.0), (149, 0.0), (151, 0.0), (158, 0.0), (159, 0.0), (162, 0.0), (163, 0.0), (165, 0.0), (166, 0.0), (168, 0.0), (170, 0.0), (171, 0.0), (172, 0.0), (173, 0.0), (176, 0.0), (177, 0.0), (178, 0.0), (179, 0.0), (180, 0.0), (181, 0.0), (183, 0.0), (184, 0.0), (186, 0.0), (187, 0.0), (189, 0.0), (190, 0.0), (192, 0.0), (196, 0.0), (199, 0.0), (200, 0.0), (201, 0.0), (205, 0.0), (206, 0.0), (207, 0.0), (208, 0.0), (209, 0.0), (210, 0.0), (213, 0.0), (216, 0.0), (220, 0.0), (221, 0.0), (224, 0.0), (226, 0.0), (227, 0.0), (228, 0.0), (229, 0.0), (230, 0.0), (232, 0.0), (233, 0.0), (234, 0.0), (235, 0.0), (236, 0.0), (241, 0.0), (242, 0.0), (243, 0.0), (249, 0.0), (252, 0.0), (254, 0.0), (256, 0.0), (257, 0.0), (258, 0.0), (259, 0.0), (260, 0.0), (261, 0.0), (262, 0.0), (267, 0.0), (268, 0.0), (270, 0.0), (272, 0.0), (274, 0.0), (276, 0.0), (277, 0.0), (280, 0.0), (281, 0.0), (283, 0.0), (286, 0.0), (288, 0.0), (289, 0.0), (290, 0.0), (292, 0.0), (294, 0.0), (295, 0.0), (296, 0.0), (297, 0.0), (299, 0.0), (300, 0.0), (301, 0.0), (302, 0.0), (304, 0.0), (305, 0.0), (306, 0.0), (307, 0.0), (308, 0.0), (310, 0.0), (314, 0.0), (323, 0.0), (324, 0.0), (326, 0.0), (328, 0.0), (329, 0.0), (330, 0.0), (332, 0.0), (333, 0.0), (335, 0.0), (340, 0.0), (343, 0.0), (348, 0.0), (349, 0.0), (353, 0.0), (358, 0.0), (360, 0.0), (364, 0.0), (366, 0.0), (370, 0.0), (371, 0.0), (372, 0.0), (374, 0.0), (375, 0.0), (378, 0.0), (379, 0.0), (380, 0.0), (381, 0.0), (382, 0.0), (386, 0.0), (387, 0.0), (388, 0.0), (389, 0.0), (390, 0.0), (393, 0.0), (394, 0.0), (395, 0.0), (396, 0.0), (397, 0.0), (399, 0.0), (402, 0.0), (406, 0.0), (407, 0.0), (408, 0.0), (412, 0.0), (419, 0.0), (422, 0.0), (423, 0.0), (424, 0.0), (425, 0.0), (428, 0.0), (429, 0.0), (431, 0.0), (433, 0.0), (434, 0.0), (435, 0.0), (436, 0.0), (437, 0.0), (438, 0.0), (441, 0.0), (442, 0.0), (443, 0.0), (444, 0.0), (445, 0.0), (446, 0.0), (449, 0.0), (451, 0.0), (452, 0.0), (454, 0.0), (457, 0.0), (458, 0.0), (459, 0.0), (460, 0.0), (462, 0.0), (463, 0.0), (464, 0.0), (466, 0.0), (467, 0.0), (468, 0.0), (469, 0.0), (470, 0.0), (472, 0.0), (475, 0.0), (476, 0.0), (477, 0.0), (478, 0.0), (480, 0.0), (481, 0.0), (482, 0.0), (483, 0.0), (484, 0.0), (485, 0.0), (486, 0.0), (487, 0.0), (489, 0.0), (490, 0.0), (491, 0.0), (492, 0.0), (495, 0.0), (499, 0.0), (500, 0.0), (502, 0.0), (512, 0.0), (513, 0.0), (514, 0.0), (518, 0.0), (519, 0.0), (522, 0.0), (523, 0.0), (525, 0.0), (527, 0.0), (533, 0.0), (534, 0.0), (535, 0.0), (536, 0.0), (537, 0.0), (539, 0.0), (541, 0.0), (543, 0.0), (544, 0.0), (549, 0.0), (550, 0.0), (551, 0.0), (552, 0.0), (553, 0.0), (554, 0.0), (556, 0.0), (557, 0.0), (560, 0.0), (564, 0.0), (565, 0.0), (567, 0.0), (568, 0.0), (569, 0.0), (570, 0.0), (571, 0.0), (572, 0.0), (573, 0.0), (574, 0.0), (575, 0.0), (576, 0.0), (577, 0.0), (578, 0.0), (581, 0.0), (584, 0.0), (585, 0.0), (587, 0.0), (588, 0.0), (590, 0.0), (591, 0.0), (592, 0.0), (593, 0.0), (594, 0.0), (595, 0.0), (596, 0.0), (597, 0.0), (598, 0.0), (599, 0.0), (600, 0.0), (601, 0.0), (602, 0.0), (603, 0.0), (607, 0.0), (608, 0.0), (610, 0.0), (611, 0.0), (612, 0.0), (613, 0.0), (614, 0.0), (616, 0.0), (618, 0.0), (620, 0.0), (621, 0.0), (622, 0.0), (623, 0.0), (624, 0.0), (625, 0.0), (626, 0.0), (627, 0.0), (628, 0.0), (631, 0.0), (635, 0.0), (636, 0.0), (637, 0.0), (640, 0.0), (641, 0.0), (644, 0.0), (645, 0.0), (646, 0.0), (648, 0.0), (650, 0.0), (651, 0.0), (652, 0.0), (653, 0.0), (654, 0.0), (655, 0.0), (656, 0.0), (657, 0.0), (658, 0.0), (659, 0.0), (660, 0.0), (661, 0.0), (663, 0.0), (666, 0.0), (668, 0.0), (669, 0.0), (670, 0.0), (672, 0.0), (673, 0.0), (674, 0.0), (675, 0.0), (676, 0.0), (677, 0.0), (679, 0.0), (682, 0.0), (684, 0.0), (685, 0.0), (686, 0.0), (688, 0.0), (689, 0.0), (692, 0.0), (693, 0.0), (694, 0.0), (696, 0.0), (699, 0.0), (700, 0.0), (701, 0.0), (704, 0.0), (708, 0.0), (709, 0.0), (710, 0.0), (711, 0.0), (714, 0.0), (715, 0.0), (716, 0.0), (718, 0.0), (719, 0.0), (721, 0.0), (722, 0.0), (724, 0.0), (725, 0.0), (727, 0.0), (728, 0.0), (729, 0.0), (730, 0.0), (732, 0.0), (733, 0.0), (734, 0.0), (738, 0.0), (742, 0.0), (743, 0.0), (746, 0.0), (747, 0.0), (749, 0.0), (750, 0.0), (753, 0.0), (755, 0.0), (765, 0.0), (766, 0.0), (767, 0.0), (769, 0.0), (771, 0.0), (772, 0.0), (774, 0.0), (777, 0.0), (779, 0.0), (782, 0.0), (783, 0.0), (787, 0.0), (789, 0.0), (791, 0.0), (794, 0.0), (796, 0.0), (797, 0.0), (798, 0.0), (799, 0.0), (801, 0.0), (802, 0.0), (803, 0.0), (805, 0.0), (806, 0.0), (808, 0.0), (809, 0.0), (812, 0.0), (813, 0.0), (814, 0.0), (815, 0.0), (816, 0.0), (818, 0.0), (823, 0.0), (825, 0.0), (826, 0.0), (827, 0.0), (828, 0.0), (830, 0.0), (831, 0.0), (832, 0.0), (837, 0.0), (838, 0.0), (841, 0.0), (843, 0.0), (844, 0.0), (845, 0.0), (847, 0.0), (848, 0.0), (850, 0.0), (852, 0.0), (856, 0.0), (857, 0.0), (858, 0.0), (860, 0.0), (861, 0.0), (863, 0.0), (864, 0.0), (865, 0.0), (866, 0.0), (868, 0.0), (870, 0.0), (871, 0.0), (875, 0.0), (876, 0.0), (877, 0.0), (878, 0.0), (882, 0.0), (886, 0.0), (887, 0.0), (888, 0.0), (889, 0.0), (891, 0.0), (894, 0.0), (896, 0.0), (897, 0.0), (899, 0.0), (900, 0.0), (906, 0.0), (909, 0.0), (910, 0.0), (911, 0.0), (913, 0.0), (914, 0.0), (915, 0.0), (919, 0.0), (920, 0.0), (921, 0.0), (922, 0.0), (929, 0.0), (930, 0.0), (934, 0.0), (935, 0.0), (937, 0.0), (942, 0.0), (943, 0.0), (944, 0.0), (947, 0.0), (949, 0.0), (950, 0.0), (954, 0.0), (955, 0.0), (956, 0.0), (958, 0.0), (959, 0.0), (960, 0.0), (962, 0.0), (965, 0.0), (966, 0.0), (967, 0.0), (974, 0.0), (975, 0.0), (976, 0.0), (980, 0.0), (986, 0.0), (987, 0.0), (988, 0.0), (989, 0.0), (992, 0.0), (993, 0.0), (994, 0.0), (995, 0.0), (997, 0.0), (1001, 0.0), (1005, 0.0), (1006, 0.0), (1010, 0.0), (1011, 0.0), (1012, 0.0), (1014, 0.0), (1015, 0.0), (1016, 0.0), (1017, 0.0), (1018, 0.0), (1019, 0.0), (1020, 0.0), (1021, 0.0), (1023, 0.0), (1028, 0.0), (1030, 0.0), (1032, 0.0), (1033, 0.0), (1034, 0.0), (1035, 0.0), (1036, 0.0), (1037, 0.0), (1039, 0.0), (1043, 0.0), (1044, 0.0), (1045, 0.0), (1046, 0.0), (1048, 0.0), (1050, 0.0), (1052, 0.0), (1053, 0.0), (1054, 0.0), (1056, 0.0), (1058, 0.0), (1059, 0.0), (1060, 0.0), (1062, 0.0), (1063, 0.0), (1065, 0.0), (1066, 0.0), (1067, 0.0), (1068, 0.0), (1069, 0.0), (1070, 0.0), (1071, 0.0), (1072, 0.0), (1075, 0.0), (1077, 0.0), (1079, 0.0), (1080, 0.0), (1083, 0.0), (1086, 0.0), (1089, 0.0), (1091, 0.0), (1093, 0.0), (1098, 0.0), (1101, 0.0), (1102, 0.0), (1103, 0.0), (1105, 0.0), (1106, 0.0), (1110, 0.0), (1111, 0.0), (1116, 0.0), (1120, 0.0), (1121, 0.0), (1122, 0.0), (1123, 0.0), (1125, 0.0), (1127, 0.0), (1128, 0.0), (1129, 0.0), (1131, 0.0), (1132, 0.0), (1134, 0.0), (1136, 0.0), (1137, 0.0), (1138, 0.0), (1140, 0.0), (1141, 0.0), (1143, 0.0), (1144, 0.0), (1145, 0.0), (1147, 0.0), (1148, 0.0), (1150, 0.0), (1151, 0.0), (1152, 0.0), (1154, 0.0), (1156, 0.0), (1159, 0.0), (1160, 0.0), (1161, 0.0), (1163, 0.0), (1164, 0.0), (1168, 0.0), (1171, 0.0), (1172, 0.0), (1174, 0.0), (1175, 0.0), (1179, 0.0), (1180, 0.0), (1181, 0.0), (1183, 0.0), (1184, 0.0), (1185, 0.0), (1186, 0.0), (1188, 0.0), (1189, 0.0), (1191, 0.0), (1193, 0.0), (1209, 0.0), (1210, 0.0), (1215, 0.0), (1218, 0.0), (1219, 0.0), (1221, 0.0), (1225, 0.0), (1226, 0.0), (1227, 0.0), (1228, 0.0), (1229, 0.0), (1230, 0.0), (1235, 0.0), (1236, 0.0), (1240, 0.0), (1244, 0.0), (1247, 0.0), (1248, 0.0), (1252, 0.0), (1254, 0.0), (1257, 0.0), (1258, 0.0), (1262, 0.0), (1263, 0.0), (1264, 0.0), (1266, 0.0), (1269, 0.0), (1273, 0.0), (1274, 0.0), (1275, 0.0), (1276, 0.0), (1278, 0.0), (1280, 0.0), (1281, 0.0), (1283, 0.0), (1285, 0.0), (1287, 0.0), (1289, 0.0), (1290, 0.0), (1294, 0.0), (1296, 0.0), (1299, 0.0), (1301, 0.0), (1303, 0.0), (1305, 0.0), (1306, 0.0), (1307, 0.0), (1311, 0.0), (1313, 0.0), (1314, 0.0), (1316, 0.0), (1318, 0.0), (1322, 0.0), (1325, 0.0), (1326, 0.0), (1328, 0.0), (1331, 0.0), (1332, 0.0), (1333, 0.0), (1335, 0.0), (1338, 0.0), (1339, 0.0), (1342, 0.0), (1343, 0.0), (1346, 0.0), (1349, 0.0), (1350, 0.0), (1352, 0.0), (1353, 0.0), (1354, 0.0), (1356, 0.0), (1358, 0.0), (1360, 0.0), (1375, 0.0), (1377, 0.0), (1379, 0.0), (1380, 0.0), (1383, 0.0), (1384, 0.0), (1385, 0.0), (1387, 0.0), (1388, 0.0), (1390, 0.0), (1396, 0.0), (1398, 0.0), (1399, 0.0), (1400, 0.0), (1402, 0.0), (1406, 0.0), (1413, 0.0), (1415, 0.0), (1416, 0.0), (1417, 0.0), (1418, 0.0), (1421, 0.0), (1423, 0.0), (1429, 0.0), (1433, 0.0), (1434, 0.0), (1436, 0.0), (1437, 0.0), (1438, 0.0), (1439, 0.0), (1440, 0.0), (1441, 0.0), (1442, 0.0), (1444, 0.0), (1446, 0.0), (1448, 0.0), (1450, 0.0), (1454, 0.0), (1456, 0.0), (1459, 0.0), (1460, 0.0), (1462, 0.0), (1463, 0.0), (1464, 0.0), (1466, 0.0), (1470, 0.0), (1471, 0.0), (1472, 0.0), (1473, 0.0), (1474, 0.0), (1475, 0.0), (1478, 0.0), (1481, 0.0), (1483, 0.0), (1484, 0.0), (1490, 0.0), (1492, 0.0), (1497, 0.0), (1499, 0.0), (1500, 0.0), (1504, 0.0), (1512, 0.0), (1514, 0.0), (1517, 0.0), (1519, 0.0), (1522, 0.0), (1524, 0.0), (1527, 0.0), (1530, 0.0), (1534, 0.0), (1540, 0.0), (1541, 0.0), (1544, 0.0), (1545, 0.0), (1546, 0.0), (1547, 0.0), (1548, 0.0), (1550, 0.0), (1553, 0.0), (1554, 0.0), (1556, 0.0), (1558, 0.0), (1566, 0.0), (1570, 0.0), (1575, 0.0), (1576, 0.0), (1577, 0.0), (1578, 0.0), (1579, 0.0), (1581, 0.0), (1583, 0.0), (1592, 0.0), (1593, 0.0), (1595, 0.0), (1597, 0.0), (1600, 0.0), (1603, 0.0), (1604, 0.0), (1605, 0.0), (1606, 0.0), (1607, 0.0), (1608, 0.0), (1609, 0.0), (1611, 0.0), (1617, 0.0), (1619, 0.0), (1621, 0.0), (1624, 0.0), (1625, 0.0), (1628, 0.0), (1629, 0.0), (1636, 0.0), (1644, 0.0), (1645, 0.0), (1647, 0.0), (1648, 0.0), (1650, 0.0), (1651, 0.0), (1653, 0.0), (1654, 0.0), (1655, 0.0), (1657, 0.0), (1659, 0.0), (1664, 0.0), (1665, 0.0), (1668, 0.0), (1669, 0.0), (1670, 0.0), (1671, 0.0), (1672, 0.0), (1674, 0.0), (1680, 0.0), (1681, 0.0), (1685, 0.0), (1686, 0.0), (1687, 0.0), (1689, 0.0), (1691, 0.0), (1692, 0.0), (1696, 0.0), (1698, 0.0), (1702, 0.0), (1704, 0.0), (1706, 0.0), (1707, 0.0), (1708, 0.0), (1709, 0.0), (1710, 0.0), (1713, 0.0), (1716, 0.0), (1717, 0.0), (1720, 0.0), (1725, 0.0), (1728, 0.0), (1729, 0.0), (1730, 0.0), (1732, 0.0), (1734, 0.0), (1735, 0.0), (1736, 0.0), (1737, 0.0), (1739, 0.0), (1740, 0.0), (1741, 0.0), (1742, 0.0), (1747, 0.0), (1748, 0.0), (1749, 0.0), (1752, 0.0), (1753, 0.0), (1754, 0.0), (1755, 0.0), (1758, 0.0), (1760, 0.0), (1761, 0.0), (1763, 0.0), (1767, 0.0), (1768, 0.0), (1770, 0.0), (1772, 0.0), (1773, 0.0), (1774, 0.0), (1775, 0.0), (1776, 0.0), (1780, 0.0), (1785, 0.0), (1786, 0.0), (1789, 0.0), (1790, 0.0), (1793, 0.0), (1795, 0.0), (1796, 0.0), (1798, 0.0), (1799, 0.0), (1800, 0.0), (1801, 0.0), (1805, 0.0), (1807, 0.0), (1810, 0.0), (1812, 0.0), (1814, 0.0), (1815, 0.0), (1818, 0.0), (1820, 0.0), (1823, 0.0), (1825, 0.0), (1826, 0.0), (1828, 0.0), (1829, 0.0), (1831, 0.0), (1832, 0.0), (1834, 0.0), (1841, 0.0), (1844, 0.0), (1845, 0.0), (1849, 0.0), (1853, 0.0), (1854, 0.0), (1855, 0.0), (1856, 0.0), (1858, 0.0), (1860, 0.0), (1862, 0.0), (1866, 0.0), (1868, 0.0), (1869, 0.0), (1870, 0.0), (1874, 0.0), (1875, 0.0), (1879, 0.0), (1882, 0.0), (1884, 0.0), (1885, 0.0), (1886, 0.0), (1887, 0.0), (1890, 0.0), (1891, 0.0), (1892, 0.0), (1894, 0.0), (1895, 0.0), (1896, 0.0), (1897, 0.0), (1901, 0.0), (1905, 0.0), (1906, 0.0), (1908, 0.0), (1909, 0.0), (1915, 0.0), (1916, 0.0), (1917, 0.0), (1918, 0.0), (1921, 0.0), (1922, 0.0), (1924, 0.0), (1928, 0.0), (1931, 0.0), (1932, 0.0), (1934, 0.0), (1936, 0.0), (1938, 0.0), (1942, 0.0), (1944, 0.0), (1945, 0.0), (1946, 0.0), (1947, 0.0), (1949, 0.0), (1950, 0.0), (1952, 0.0), (1957, 0.0), (1960, 0.0), (1964, 0.0), (1969, 0.0), (1971, 0.0), (1972, 0.0), (1976, 0.0), (1979, 0.0), (1983, 0.0), (1988, 0.0), (1989, 0.0), (1991, 0.0), (1994, 0.0), (1995, 0.0), (1997, 0.0), (2000, 0.0), (2002, 0.0), (2004, 0.0), (2005, 0.0), (2008, 0.0), (2010, 0.0), (2011, 0.0), (2013, 0.0), (2014, 0.0), (2015, 0.0), (2016, 0.0), (2017, 0.0), (2020, 0.0), (2023, 0.0), (2024, 0.0), (2025, 0.0), (2027, 0.0), (2028, 0.0), (2029, 0.0), (2030, 0.0), (2034, 0.0), (2035, 0.0), (2038, 0.0), (2039, 0.0), (2040, 0.0), (2042, 0.0), (2044, 0.0), (2045, 0.0), (2051, 0.0), (2052, 0.0), (2054, 0.0), (2055, 0.0), (2061, 0.0), (2063, 0.0), (2064, 0.0), (2065, 0.0), (2067, 0.0), (2069, 0.0), (2070, 0.0), (2071, 0.0), (2072, 0.0), (2075, 0.0), (2078, 0.0), (2079, 0.0), (2080, 0.0), (2083, 0.0), (2084, 0.0), (2085, 0.0), (2088, 0.0), (2089, 0.0), (2091, 0.0), (2095, 0.0), (2096, 0.0), (2097, 0.0), (2098, 0.0), (2102, 0.0), (2105, 0.0), (2109, 0.0), (2112, 0.0), (2113, 0.0), (2115, 0.0), (2117, 0.0), (2119, 0.0), (2120, 0.0), (2123, 0.0), (2124, 0.0), (2126, 0.0), (2127, 0.0), (2128, 0.0), (2129, 0.0), (2130, 0.0), (2132, 0.0), (2133, 0.0), (2134, 0.0), (2136, 0.0), (2138, 0.0), (2141, 0.0), (2142, 0.0), (2143, 0.0), (2144, 0.0), (2147, 0.0), (2149, 0.0), (2154, 0.0), (2155, 0.0), (2160, 0.0), (2162, 0.0), (2163, 0.0), (2164, 0.0), (2165, 0.0), (2169, 0.0), (2171, 0.0), (2172, 0.0), (2173, 0.0), (2176, 0.0), (2177, 0.0), (2181, 0.0), (2182, 0.0), (2183, 0.0), (2185, 0.0), (2188, 0.0), (2189, 0.0), (2190, 0.0), (2197, 0.0), (2198, 0.0), (2200, 0.0), (2203, 0.0), (2205, 0.0), (2206, 0.0), (2210, 0.0), (2212, 0.0), (2213, 0.0), (2214, 0.0), (2215, 0.0), (2219, 0.0), (2221, 0.0), (2224, 0.0), (2226, 0.0), (2230, 0.0), (2231, 0.0), (2232, 0.0), (2233, 0.0), (2238, 0.0), (2243, 0.0), (2244, 0.0), (2247, 0.0), (2248, 0.0), (2250, 0.0), (2251, 0.0), (2252, 0.0), (2253, 0.0), (2254, 0.0), (2256, 0.0), (2257, 0.0), (2258, 0.0), (2259, 0.0), (2266, 0.0), (2267, 0.0), (2268, 0.0), (2269, 0.0), (2271, 0.0), (2272, 0.0), (2274, 0.0), (2275, 0.0), (2276, 0.0), (2277, 0.0), (2279, 0.0), (2282, 0.0), (2283, 0.0), (2285, 0.0), (2286, 0.0), (2287, 0.0), (2288, 0.0), (2289, 0.0), (2291, 0.0), (2293, 0.0), (2294, 0.0), (2296, 0.0), (2298, 0.0), (2299, 0.0), (2300, 0.0), (2301, 0.0), (2305, 0.0), (2306, 0.0), (2307, 0.0), (2310, 0.0), (2312, 0.0), (2313, 0.0), (2315, 0.0), (2316, 0.0), (2318, 0.0), (2319, 0.0), (2321, 0.0), (2322, 0.0), (2323, 0.0), (2324, 0.0), (2325, 0.0), (2328, 0.0), (2330, 0.0), (2332, 0.0), (2334, 0.0), (2337, 0.0), (2338, 0.0), (2339, 0.0), (2341, 0.0), (2342, 0.0), (2343, 0.0), (2344, 0.0), (2345, 0.0), (2346, 0.0), (2349, 0.0), (2350, 0.0), (2352, 0.0), (2354, 0.0), (2355, 0.0), (2356, 0.0), (2358, 0.0), (2359, 0.0), (2360, 0.0), (2361, 0.0), (2362, 0.0), (2365, 0.0), (2366, 0.0), (2369, 0.0), (2371, 0.0), (2372, 0.0), (2374, 0.0), (2376, 0.0), (2377, 0.0), (2382, 0.0), (2383, 0.0), (2384, 0.0), (2386, 0.0), (2388, 0.0), (2390, 0.0), (2392, 0.0), (2393, 0.0), (2398, 0.0), (2400, 0.0), (2401, 0.0), (2406, 0.0), (2407, 0.0), (2408, 0.0), (2411, 0.0), (2412, 0.0), (2413, 0.0), (2414, 0.0), (2415, 0.0), (2416, 0.0), (2417, 0.0), (2418, 0.0), (2419, 0.0), (2425, 0.0), (2427, 0.0), (2428, 0.0), (2429, 0.0), (2436, 0.0), (2437, 0.0), (2438, 0.0), (2442, 0.0), (2447, 0.0), (2448, 0.0), (2452, 0.0), (2453, 0.0), (2454, 0.0), (2457, 0.0), (2458, 0.0), (2459, 0.0), (2460, 0.0), (2462, 0.0), (2463, 0.0), (2465, 0.0), (2466, 0.0), (2469, 0.0), (2470, 0.0), (2471, 0.0), (2474, 0.0), (2475, 0.0), (2476, 0.0), (2477, 0.0), (2481, 0.0), (2482, 0.0), (2484, 0.0), (2485, 0.0), (2489, 0.0), (2490, 0.0), (2491, 0.0), (2498, 0.0), (2501, 0.0), (2502, 0.0), (2503, 0.0), (2505, 0.0), (2506, 0.0), (2508, 0.0), (2510, 0.0), (2513, 0.0), (2515, 0.0), (2516, 0.0), (2520, 0.0), (2521, 0.0), (2522, 0.0), (2523, 0.0), (2524, 0.0), (2526, 0.0), (2527, 0.0), (2528, 0.0), (2530, 0.0), (2532, 0.0), (2533, 0.0), (2534, 0.0), (2536, 0.0), (2542, 0.0), (2544, 0.0), (2545, 0.0), (2547, 0.0), (2548, 0.0), (2549, 0.0), (2551, 0.0), (2555, 0.0), (2556, 0.0), (2557, 0.0), (2558, 0.0), (2560, 0.0), (2562, 0.0), (2565, 0.0), (2567, 0.0), (2571, 0.0), (2572, 0.0), (2574, 0.0), (2576, 0.0), (2577, 0.0), (2578, 0.0), (2579, 0.0), (2583, 0.0), (2585, 0.0), (2589, 0.0), (2593, 0.0), (2595, 0.0), (2596, 0.0), (2598, 0.0), (2602, 0.0), (2606, 0.0), (2607, 0.0), (2609, 0.0), (2611, 0.0), (2612, 0.0), (2613, 0.0), (2621, 0.0), (2622, 0.0), (2623, 0.0), (2624, 0.0), (2625, 0.0), (2627, 0.0), (2629, 0.0), (2634, 0.0), (2638, 0.0), (2639, 0.0), (2640, 0.0), (2641, 0.0), (2643, 0.0), (2645, 0.0), (2647, 0.0), (2648, 0.0), (2651, 0.0), (2652, 0.0), (2653, 0.0), (2655, 0.0), (2657, 0.0), (2658, 0.0), (2659, 0.0), (2664, 0.0), (2667, 0.0), (2669, 0.0), (2670, 0.0), (2672, 0.0), (2673, 0.0), (2674, 0.0), (2675, 0.0), (2676, 0.0), (2679, 0.0), (2684, 0.0), (2689, 0.0), (2692, 0.0), (2694, 0.0), (2695, 0.0), (2697, 0.0), (2698, 0.0), (2700, 0.0), (2703, 0.0), (2705, 0.0), (2707, 0.0), (2708, 0.0), (2710, 0.0), (2711, 0.0), (2713, 0.0), (2716, 0.0), (2717, 0.0), (2718, 0.0), (2719, 0.0), (2724, 0.0), (2725, 0.0), (2731, 0.0), (2735, 0.0), (2739, 0.0), (2740, 0.0), (2742, 0.0), (2743, 0.0), (2745, 0.0), (2748, 0.0), (2749, 0.0), (2750, 0.0), (2752, 0.0), (2753, 0.0), (2757, 0.0), (2760, 0.0), (2761, 0.0), (2762, 0.0), (2765, 0.0), (2766, 0.0), (2767, 0.0), (2768, 0.0), (2771, 0.0), (2772, 0.0), (2773, 0.0), (2774, 0.0), (2775, 0.0), (2777, 0.0), (2778, 0.0), (2779, 0.0), (2780, 0.0), (2783, 0.0), (2784, 0.0), (2788, 0.0), (2789, 0.0), (2791, 0.0), (2792, 0.0), (2795, 0.0), (2798, 0.0), (2800, 0.0), (2802, 0.0), (2803, 0.0), (2806, 0.0), (2808, 0.0), (2815, 0.0), (2818, 0.0), (2819, 0.0), (2821, 0.0), (2822, 0.0), (2830, 0.0), (2831, 0.0), (2835, 0.0), (2839, 0.0), (2840, 0.0), (2842, 0.0), (2848, 0.0), (2849, 0.0), (2850, 0.0), (2851, 0.0), (2853, 0.0), (2854, 0.0), (2859, 0.0), (2860, 0.0), (2861, 0.0), (2863, 0.0), (2867, 0.0), (2868, 0.0), (2869, 0.0), (2875, 0.0), (2877, 0.0), (2879, 0.0), (2881, 0.0), (2883, 0.0), (2885, 0.0), (2886, 0.0), (2887, 0.0), (2888, 0.0), (2889, 0.0), (2890, 0.0), (2892, 0.0), (2894, 0.0), (2895, 0.0), (2896, 0.0), (2900, 0.0), (2901, 0.0), (2902, 0.0), (2904, 0.0), (2905, 0.0), (2906, 0.0), (2907, 0.0), (2909, 0.0), (2911, 0.0), (2914, 0.0), (2915, 0.0), (2916, 0.0), (2917, 0.0), (2918, 0.0), (2919, 0.0), (2920, 0.0), (2921, 0.0), (2922, 0.0), (2923, 0.0), (2930, 0.0), (2931, 0.0), (2932, 0.0), (2934, 0.0), (2936, 0.0), (2937, 0.0), (2938, 0.0), (2939, 0.0), (2943, 0.0), (2944, 0.0), (2946, 0.0), (2947, 0.0), (2950, 0.0), (2952, 0.0), (2953, 0.0), (2955, 0.0), (2957, 0.0), (2958, 0.0), (2959, 0.0), (2960, 0.0), (2961, 0.0), (2963, 0.0), (2965, 0.0), (2967, 0.0), (2968, 0.0), (2969, 0.0), (2974, 0.0), (2975, 0.0), (2976, 0.0), (2977, 0.0), (2980, 0.0), (2981, 0.0), (2985, 0.0), (2989, 0.0), (2990, 0.0), (2993, 0.0), (2995, 0.0), (2997, 0.0), (2998, 0.0), (3004, 0.0), (3006, 0.0), (3008, 0.0), (3011, 0.0), (3012, 0.0), (3015, 0.0), (3019, 0.0), (3022, 0.0), (3024, 0.0), (3025, 0.0), (3027, 0.0), (3028, 0.0), (3029, 0.0), (3030, 0.0), (3031, 0.0), (3032, 0.0), (3035, 0.0), (3036, 0.0), (3037, 0.0), (3038, 0.0), (3041, 0.0), (3043, 0.0), (3046, 0.0), (3047, 0.0), (3049, 0.0), (3051, 0.0), (3052, 0.0), (3053, 0.0), (3055, 0.0), (3056, 0.0), (3057, 0.0), (3058, 0.0), (3059, 0.0), (3060, 0.0), (3064, 0.0), (3067, 0.0), (3069, 0.0), (3072, 0.0), (3073, 0.0), (3074, 0.0), (3075, 0.0), (3076, 0.0), (3079, 0.0), (3081, 0.0), (3082, 0.0), (3085, 0.0), (3087, 0.0), (3088, 0.0), (3090, 0.0), (3092, 0.0), (3093, 0.0), (3094, 0.0), (3095, 0.0), (3099, 0.0), (3100, 0.0), (3101, 0.0), (3103, 0.0), (3104, 0.0), (3106, 0.0), (3107, 0.0), (3110, 0.0), (3112, 0.0), (3115, 0.0), (3116, 0.0), (3119, 0.0), (3123, 0.0), (3124, 0.0), (3125, 0.0), (3128, 0.0), (3129, 0.0), (3132, 0.0), (3133, 0.0), (3134, 0.0), (3135, 0.0), (3136, 0.0), (3138, 0.0), (3141, 0.0), (3144, 0.0), (3145, 0.0), (3148, 0.0), (3151, 0.0), (3154, 0.0), (3157, 0.0), (3158, 0.0), (3159, 0.0), (3162, 0.0), (3163, 0.0), (3164, 0.0), (3165, 0.0), (3167, 0.0), (3170, 0.0), (3171, 0.0), (3172, 0.0), (3173, 0.0), (3174, 0.0), (3176, 0.0), (3180, 0.0), (3184, 0.0), (3185, 0.0), (3186, 0.0), (3190, 0.0), (3191, 0.0), (3193, 0.0), (3196, 0.0), (3197, 0.0), (3200, 0.0), (3203, 0.0), (3204, 0.0), (3205, 0.0), (3207, 0.0), (3208, 0.0), (3210, 0.0), (3211, 0.0), (3213, 0.0), (3216, 0.0), (3219, 0.0), (3222, 0.0), (3223, 0.0), (3225, 0.0), (3226, 0.0), (3227, 0.0), (3228, 0.0), (3230, 0.0), (3234, 0.0), (3237, 0.0), (3240, 0.0), (3241, 0.0), (3242, 0.0), (3243, 0.0), (3247, 0.0), (3248, 0.0), (3251, 0.0), (3253, 0.0), (3254, 0.0), (3255, 0.0), (3257, 0.0), (3261, 0.0), (3262, 0.0), (3263, 0.0), (3264, 0.0), (3266, 0.0), (3268, 0.0), (3269, 0.0), (3272, 0.0), (3273, 0.0), (3274, 0.0), (3275, 0.0), (3276, 0.0), (3277, 0.0), (3285, 0.0), (3291, 0.0), (3292, 0.0), (3293, 0.0), (3294, 0.0), (3296, 0.0), (3298, 0.0), (3299, 0.0), (3300, 0.0), (3301, 0.0), (3305, 0.0), (3306, 0.0), (3307, 0.0), (3310, 0.0), (3312, 0.0), (3313, 0.0), (3314, 0.0), (3316, 0.0), (3317, 0.0), (3318, 0.0), (3321, 0.0), (3322, 0.0), (3324, 0.0), (3325, 0.0), (3326, 0.0), (3327, 0.0), (3328, 0.0), (3331, 0.0), (3333, 0.0), (3334, 0.0), (3335, 0.0), (3336, 0.0), (3339, 0.0), (3340, 0.0), (3341, 0.0), (3342, 0.0), (3343, 0.0), (3344, 0.0), (3345, 0.0), (3347, 0.0), (3350, 0.0), (3353, 0.0), (3354, 0.0), (3355, 0.0), (3356, 0.0), (3358, 0.0), (3359, 0.0), (3360, 0.0), (3361, 0.0), (3362, 0.0), (3363, 0.0), (3365, 0.0), (3367, 0.0), (3368, 0.0), (3369, 0.0), (3372, 0.0), (3374, 0.0), (3378, 0.0), (3379, 0.0), (3380, 0.0), (3381, 0.0), (3383, 0.0), (3384, 0.0), (3385, 0.0), (3387, 0.0), (3391, 0.0), (3392, 0.0), (3394, 0.0), (3396, 0.0), (3399, 0.0), (3401, 0.0), (3403, 0.0), (3404, 0.0), (3405, 0.0), (3406, 0.0), (3407, 0.0), (3409, 0.0), (3414, 0.0), (3416, 0.0), (3417, 0.0), (3419, 0.0), (3422, 0.0), (3423, 0.0), (3425, 0.0), (3426, 0.0), (3427, 0.0), (3428, 0.0), (3429, 0.0), (3431, 0.0), (3432, 0.0), (3433, 0.0), (3434, 0.0), (3435, 0.0), (3436, 0.0), (3438, 0.0), (3441, 0.0), (3442, 0.0), (3448, 0.0), (3450, 0.0), (3451, 0.0), (3453, 0.0), (3454, 0.0), (3455, 0.0), (3457, 0.0), (3458, 0.0), (3459, 0.0), (3460, 0.0), (3462, 0.0), (3463, 0.0), (3465, 0.0), (3466, 0.0), (3468, 0.0), (3469, 0.0), (3470, 0.0), (3472, 0.0), (3473, 0.0), (3474, 0.0), (3475, 0.0), (3476, 0.0), (3478, 0.0), (3480, 0.0), (3481, 0.0), (3482, 0.0), (3486, 0.0), (3489, 0.0), (3490, 0.0), (3491, 0.0), (3492, 0.0), (3494, 0.0), (3495, 0.0), (3497, 0.0), (3498, 0.0), (3501, 0.0), (3504, 0.0), (3505, 0.0), (3506, 0.0), (3510, 0.0), (3511, 0.0), (3515, 0.0), (3521, 0.0), (3522, 0.0), (3523, 0.0), (3524, 0.0), (3525, 0.0), (3526, 0.0), (3527, 0.0), (3530, 0.0), (3532, 0.0), (3533, 0.0), (3534, 0.0), (3536, 0.0), (3540, 0.0), (3541, 0.0), (3542, 0.0), (3543, 0.0), (3546, 0.0), (3547, 0.0), (3551, 0.0), (3553, 0.0), (3555, 0.0), (3556, 0.0), (3557, 0.0), (3558, 0.0), (3560, 0.0), (3561, 0.0), (3563, 0.0), (3566, 0.0), (3567, 0.0), (3568, 0.0), (3569, 0.0), (3572, 0.0), (3573, 0.0), (3587, 0.0), (3588, 0.0), (3590, 0.0), (3591, 0.0), (3593, 0.0), (3594, 0.0), (3596, 0.0), (3597, 0.0), (3600, 0.0), (3604, 0.0), (3608, 0.0), (3610, 0.0), (3611, 0.0), (3612, 0.0), (3613, 0.0), (3614, 0.0), (3615, 0.0), (3617, 0.0), (3618, 0.0), (3620, 0.0), (3623, 0.0), (3624, 0.0), (3625, 0.0), (3629, 0.0), (3631, 0.0), (3634, 0.0), (3635, 0.0), (3636, 0.0), (3638, 0.0), (3639, 0.0), (3640, 0.0), (3642, 0.0), (3643, 0.0), (3645, 0.0), (3647, 0.0), (3653, 0.0), (3654, 0.0), (3655, 0.0), (3656, 0.0), (3657, 0.0), (3659, 0.0), (3660, 0.0), (3661, 0.0), (3662, 0.0), (3663, 0.0), (3667, 0.0), (3669, 0.0), (3670, 0.0), (3672, 0.0), (3675, 0.0), (3677, 0.0), (3679, 0.0), (3680, 0.0), (3682, 0.0), (3683, 0.0), (3687, 0.0), (3689, 0.0), (3690, 0.0), (3691, 0.0), (3692, 0.0), (3693, 0.0), (3694, 0.0), (3695, 0.0), (3696, 0.0), (3697, 0.0), (3698, 0.0), (3700, 0.0), (3701, 0.0), (3702, 0.0), (3703, 0.0), (3704, 0.0), (3706, 0.0), (3707, 0.0), (3710, 0.0), (3711, 0.0), (3712, 0.0), (3713, 0.0), (3714, 0.0), (3717, 0.0), (3718, 0.0), (3719, 0.0), (3721, 0.0), (3722, 0.0), (3723, 0.0), (3725, 0.0), (3726, 0.0), (3729, 0.0), (3730, 0.0), (3735, 0.0), (3737, 0.0), (3738, 0.0), (3739, 0.0), (3740, 0.0), (3741, 0.0), (3742, 0.0), (3743, 0.0), (3744, 0.0), (3745, 0.0), (3747, 0.0), (3749, 0.0), (3750, 0.0), (3751, 0.0), (3755, 0.0), (3756, 0.0), (3757, 0.0), (3759, 0.0), (3760, 0.0), (3761, 0.0), (3762, 0.0), (3765, 0.0), (3766, 0.0), (3770, 0.0), (3771, 0.0), (3772, 0.0), (3773, 0.0), (3774, 0.0), (3775, 0.0), (3776, 0.0), (3778, 0.0), (3779, 0.0), (3780, 0.0), (3781, 0.0), (3783, 0.0), (3785, 0.0), (3786, 0.0), (3787, 0.0), (3788, 0.0), (3789, 0.0), (3791, 0.0), (3795, 0.0), (3797, 0.0), (3798, 0.0), (3799, 0.0), (3801, 0.0), (3803, 0.0), (3804, 0.0), (3806, 0.0), (3807, 0.0), (3809, 0.0), (3811, 0.0), (3813, 0.0), (3814, 0.0), (3818, 0.0), (3819, 0.0), (3820, 0.0), (3821, 0.0), (3825, 0.0), (3826, 0.0), (3827, 0.0), (3828, 0.0), (3830, 0.0), (3832, 0.0), (3834, 0.0), (3835, 0.0), (3837, 0.0), (3838, 0.0), (3840, 0.0), (3841, 0.0), (3843, 0.0), (3846, 0.0), (3848, 0.0), (3849, 0.0), (3850, 0.0), (3851, 0.0), (3855, 0.0), (3857, 0.0), (3860, 0.0), (3861, 0.0), (3862, 0.0), (3863, 0.0), (3864, 0.0), (3867, 0.0), (3869, 0.0), (3870, 0.0), (3871, 0.0), (3872, 0.0), (3873, 0.0), (3874, 0.0), (3876, 0.0), (3877, 0.0), (3878, 0.0), (3880, 0.0), (3881, 0.0), (3883, 0.0), (3884, 0.0), (3885, 0.0), (3887, 0.0), (3891, 0.0), (3895, 0.0), (3896, 0.0), (3897, 0.0), (3898, 0.0), (3899, 0.0), (3900, 0.0), (3902, 0.0), (3903, 0.0), (3904, 0.0), (3906, 0.0), (3907, 0.0), (3908, 0.0), (3909, 0.0), (3910, 0.0), (3912, 0.0), (3913, 0.0), (3915, 0.0), (3916, 0.0), (3917, 0.0), (3918, 0.0), (3920, 0.0), (3921, 0.0), (3922, 0.0), (3925, 0.0), (3927, 0.0), (3928, 0.0), (3929, 0.0), (3930, 0.0), (3931, 0.0), (3932, 0.0), (3935, 0.0), (3937, 0.0), (3939, 0.0), (3945, 0.0), (3946, 0.0), (3947, 0.0), (3948, 0.0), (3951, 0.0), (3953, 0.0), (3955, 0.0), (3958, 0.0), (3959, 0.0), (3961, 0.0), (3962, 0.0), (3963, 0.0), (3965, 0.0), (3968, 0.0), (3969, 0.0), (3972, 0.0), (3974, 0.0), (3976, 0.0), (3977, 0.0), (3978, 0.0), (3979, 0.0), (3980, 0.0), (3981, 0.0), (3985, 0.0), (3986, 0.0), (3987, 0.0), (3988, 0.0), (3990, 0.0), (3991, 0.0), (3992, 0.0), (3995, 0.0), (3996, 0.0), (3997, 0.0), (3999, 0.0), (4001, 0.0), (4002, 0.0), (4003, 0.0), (4005, 0.0), (4006, 0.0), (4009, 0.0), (4011, 0.0), (4013, 0.0), (4014, 0.0), (4016, 0.0), (4017, 0.0), (4019, 0.0), (4020, 0.0), (4021, 0.0), (4024, 0.0), (4025, 0.0), (4028, 0.0), (4030, 0.0), (4031, 0.0), (4032, 0.0), (4033, 0.0), (4034, 0.0), (4035, 0.0), (4038, 0.0), (4041, 0.0), (4042, 0.0), (4043, 0.0), (4045, 0.0), (4046, 0.0), (4047, 0.0), (4048, 0.0), (4050, 0.0), (4053, 0.0), (4055, 0.0), (4056, 0.0), (4057, 0.0), (4058, 0.0), (4059, 0.0), (4060, 0.0), (4062, 0.0), (4063, 0.0), (4065, 0.0), (4067, 0.0), (4068, 0.0), (4069, 0.0), (4070, 0.0), (4072, 0.0), (4075, 0.0), (4077, 0.0), (4078, 0.0), (4080, 0.0), (4082, 0.0), (4083, 0.0), (4085, 0.0), (4087, 0.0), (4088, 0.0), (4089, 0.0), (4091, 0.0), (4092, 0.0), (4097, 0.0), (4098, 0.0), (4100, 0.0), (4101, 0.0), (4103, 0.0), (4107, 0.0), (4110, 0.0), (4111, 0.0), (4114, 0.0), (4115, 0.0), (4116, 0.0), (4119, 0.0), (4125, 0.0), (4126, 0.0), (4127, 0.0), (4128, 0.0), (4129, 0.0), (4131, 0.0), (4136, 0.0), (4137, 0.0), (4138, 0.0), (4139, 0.0), (4141, 0.0), (4142, 0.0), (4144, 0.0), (4145, 0.0), (4148, 0.0), (4150, 0.0), (4151, 0.0), (4153, 0.0), (4157, 0.0), (4158, 0.0), (4159, 0.0), (4160, 0.0), (4161, 0.0), (4162, 0.0), (4163, 0.0), (4164, 0.0), (4168, 0.0), (4170, 0.0), (4172, 0.0), (4175, 0.0), (4176, 0.0), (4177, 0.0), (4178, 0.0), (4179, 0.0), (4181, 0.0), (4182, 0.0), (4183, 0.0), (4184, 0.0), (4187, 0.0), (4188, 0.0), (4189, 0.0), (4194, 0.0), (4196, 0.0), (4199, 0.0), (4201, 0.0), (4202, 0.0), (4204, 0.0), (4205, 0.0), (4208, 0.0), (4209, 0.0), (4210, 0.0), (4211, 0.0), (4212, 0.0), (4214, 0.0), (4215, 0.0), (4216, 0.0), (4219, 0.0), (4220, 0.0), (4221, 0.0), (4224, 0.0), (4225, 0.0), (4227, 0.0), (4228, 0.0), (4229, 0.0), (4230, 0.0), (4231, 0.0), (4232, 0.0), (4235, 0.0), (4236, 0.0), (4238, 0.0), (4240, 0.0), (4243, 0.0), (4244, 0.0), (4245, 0.0), (4247, 0.0), (4248, 0.0), (4249, 0.0), (4250, 0.0), (4253, 0.0), (4255, 0.0), (4256, 0.0), (4257, 0.0), (4258, 0.0), (4260, 0.0), (4261, 0.0), (4262, 0.0), (4264, 0.0), (4265, 0.0), (4266, 0.0), (4267, 0.0), (4269, 0.0), (4270, 0.0), (4273, 0.0), (4274, 0.0), (4275, 0.0), (4276, 0.0), (4277, 0.0), (4278, 0.0), (4279, 0.0), (4280, 0.0), (4281, 0.0), (4282, 0.0), (4283, 0.0), (4284, 0.0), (4286, 0.0), (4288, 0.0), (4289, 0.0), (4291, 0.0), (4294, 0.0), (4296, 0.0), (4298, 0.0), (4299, 0.0), (4301, 0.0), (4303, 0.0), (4305, 0.0), (4306, 0.0), (4307, 0.0), (4309, 0.0), (4310, 0.0), (4311, 0.0), (4312, 0.0), (4313, 0.0), (4314, 0.0), (4316, 0.0), (4318, 0.0), (4320, 0.0), (4322, 0.0), (4326, 0.0), (4328, 0.0), (4330, 0.0), (4331, 0.0), (4332, 0.0), (4333, 0.0), (4334, 0.0), (4335, 0.0), (4336, 0.0), (4338, 0.0), (4339, 0.0), (4340, 0.0), (4342, 0.0), (4344, 0.0), (4345, 0.0), (4348, 0.0), (4349, 0.0), (4350, 0.0), (4352, 0.0), (4353, 0.0), (4354, 0.0), (4355, 0.0), (4356, 0.0), (4358, 0.0), (4359, 0.0), (4361, 0.0), (4364, 0.0), (4365, 0.0), (4367, 0.0), (4368, 0.0), (4369, 0.0), (4370, 0.0), (4372, 0.0), (4373, 0.0), (4375, 0.0), (4376, 0.0), (4379, 0.0), (4381, 0.0), (4382, 0.0), (4383, 0.0), (4384, 0.0), (4385, 0.0), (4386, 0.0), (4387, 0.0), (4388, 0.0), (4389, 0.0), (4390, 0.0), (4391, 0.0), (4393, 0.0), (4394, 0.0), (4396, 0.0), (4397, 0.0), (4398, 0.0), (4399, 0.0), (4401, 0.0), (4402, 0.0), (4403, 0.0), (4406, 0.0), (4407, 0.0), (4409, 0.0), (4411, 0.0), (4413, 0.0), (4414, 0.0), (4415, 0.0), (4416, 0.0), (4417, 0.0), (4418, 0.0), (4419, 0.0), (4421, 0.0), (4423, 0.0), (4424, 0.0), (4425, 0.0), (4427, 0.0), (4428, 0.0), (4429, 0.0), (4430, 0.0), (4431, 0.0), (4432, 0.0), (4435, 0.0), (4436, 0.0), (4438, 0.0), (4439, 0.0), (4443, 0.0), (4444, 0.0), (4449, 0.0), (4455, 0.0), (4456, 0.0), (4458, 0.0), (4459, 0.0), (4461, 0.0), (4462, 0.0), (4464, 0.0), (4465, 0.0), (4466, 0.0), (4467, 0.0), (4468, 0.0), (4469, 0.0), (4470, 0.0), (4471, 0.0), (4472, 0.0), (4474, 0.0), (4475, 0.0), (4476, 0.0), (4477, 0.0), (4478, 0.0), (4479, 0.0), (4480, 0.0), (4481, 0.0), (4482, 0.0), (4484, 0.0), (4485, 0.0), (4487, 0.0), (4490, 0.0), (4491, 0.0), (4492, 0.0), (4493, 0.0), (4494, 0.0), (4495, 0.0), (4496, 0.0), (4497, 0.0), (4498, 0.0), (4499, 0.0), (4500, 0.0), (4501, 0.0), (4502, 0.0), (4503, 0.0), (4504, 0.0), (4505, 0.0), (4506, 0.0), (4507, 0.0), (4508, 0.0), (4509, 0.0), (4510, 0.0), (4511, 0.0), (4512, 0.0), (4515, 0.0), (4516, 0.0), (4518, 0.0), (4520, 0.0), (4521, 0.0), (4524, 0.0), (4526, 0.0), (4527, 0.0), (4528, 0.0), (4529, 0.0), (4530, 0.0), (4531, 0.0), (4533, 0.0), (4535, 0.0), (4536, 0.0), (4538, 0.0), (4539, 0.0), (4540, 0.0), (4541, 0.0), (4543, 0.0), (4544, 0.0), (4545, 0.0), (4546, 0.0), (4547, 0.0), (4550, 0.0), (4553, 0.0), (4554, 0.0), (4558, 0.0), (4559, 0.0), (4560, 0.0), (4561, 0.0), (4563, 0.0), (4564, 0.0), (4566, 0.0), (4568, 0.0), (4569, 0.0), (4571, 0.0), (4572, 0.0), (4573, 0.0), (4574, 0.0), (4575, 0.0), (4576, 0.0), (4577, 0.0), (4578, 0.0), (4579, 0.0), (4581, 0.0), (4583, 0.0), (4584, 0.0), (4586, 0.0), (4587, 0.0), (4588, 0.0), (4589, 0.0), (4590, 0.0), (4591, 0.0), (4592, 0.0), (4594, 0.0), (4595, 0.0), (4596, 0.0), (4597, 0.0), (4598, 0.0), (4601, 0.0), (4602, 0.0), (4605, 0.0), (4608, 0.0), (4609, 0.0), (4610, 0.0), (4611, 0.0), (4612, 0.0), (4615, 0.0), (4616, 0.0), (4617, 0.0), (4618, 0.0), (4619, 0.0), (4620, 0.0), (4622, 0.0), (4624, 0.0), (4625, 0.0), (4629, 0.0), (4631, 0.0), (4632, 0.0), (4634, 0.0), (4635, 0.0), (4637, 0.0), (4638, 0.0), (4641, 0.0), (4642, 0.0), (4643, 0.0), (4644, 0.0), (4645, 0.0), (4646, 0.0), (4648, 0.0), (4649, 0.0), (4651, 0.0), (4653, 0.0), (4654, 0.0), (4655, 0.0), (4656, 0.0), (4657, 0.0), (4659, 0.0), (4660, 0.0), (4661, 0.0), (4662, 0.0), (4663, 0.0), (4664, 0.0), (4667, 0.0), (4668, 0.0), (4669, 0.0), (4670, 0.0), (4671, 0.0), (4672, 0.0), (4673, 0.0), (4676, 0.0), (4678, 0.0), (4679, 0.0), (4681, 0.0), (4682, 0.0), (4684, 0.0), (4685, 0.0), (4686, 0.0), (4687, 0.0), (4689, 0.0), (4690, 0.0), (4691, 0.0), (4692, 0.0), (4693, 0.0), (4694, 0.0), (4696, 0.0), (4699, 0.0), (4701, 0.0), (4702, 0.0), (4703, 0.0), (4704, 0.0), (4705, 0.0), (4706, 0.0), (4707, 0.0), (4708, 0.0), (4709, 0.0), (4710, 0.0), (4711, 0.0), (4712, 0.0), (4713, 0.0), (4714, 0.0), (4715, 0.0), (4718, 0.0), (4722, 0.0), (4723, 0.0), (4724, 0.0), (4726, 0.0), (4727, 0.0), (4728, 0.0), (4729, 0.0), (4730, 0.0), (4731, 0.0), (4732, 0.0), (4733, 0.0), (4734, 0.0), (4735, 0.0), (4737, 0.0), (4739, 0.0), (4741, 0.0), (4742, 0.0), (4745, 0.0), (4748, 0.0), (4750, 0.0), (4752, 0.0), (4754, 0.0), (4757, 0.0), (4758, 0.0), (4759, 0.0)]\n"
          ]
        }
      ],
      "source": [
        "#sorting the movies based on their similarity score\n",
        "sorted_similar_movies = sorted(recommendation_score, key= lambda x:x[1],reverse= True)\n",
        "print(sorted_similar_movies)"
      ]
    },
    {
      "cell_type": "markdown",
      "source": [
        "## Prediction"
      ],
      "metadata": {
        "id": "DAYJv9JGM2_5"
      }
    },
    {
      "cell_type": "code",
      "execution_count": 30,
      "metadata": {
        "colab": {
          "base_uri": "https://localhost:8080/"
        },
        "id": "uUUgrMN7WpiZ",
        "outputId": "c3c0d242-4975-4aea-fb98-34d786fd474c"
      },
      "outputs": [
        {
          "output_type": "stream",
          "name": "stdout",
          "text": [
            "Top 30 movies Suggested for you :\n",
            "\n",
            "1 . Housebound\n",
            "2 . Insidious: Chapter 2\n",
            "3 . Darkness\n",
            "4 . Insidious\n",
            "5 . No Good Deed\n",
            "6 . Demonic\n",
            "7 . The Secret\n",
            "8 . Ride Along 2\n",
            "9 . Guess Who\n",
            "10 . 8 Women\n",
            "11 . The Score\n",
            "12 . While We're Young\n",
            "13 . Malevolence\n",
            "14 . Saint John of Las Vegas\n",
            "15 . The Remains of the Day\n",
            "16 . Dead Man on Campus\n",
            "17 . The Boy\n",
            "18 . Little Fockers\n",
            "19 . The Haunting\n",
            "20 . Ride Along\n",
            "21 . Four Christmases\n",
            "22 . Wind Walkers\n",
            "23 . The Grudge\n",
            "24 . Monster House\n",
            "25 . The American President\n",
            "26 . The Descendants\n",
            "27 . Lethal Weapon 4\n",
            "28 . The Lincoln Lawyer\n",
            "29 . The Hammer\n",
            "30 . Mars Attacks!\n"
          ]
        }
      ],
      "source": [
        "#print the name of similar movies based on the index\n",
        "print('Top 30 movies Suggested for you :\\n')\n",
        "i=1\n",
        "\n",
        "for movie in sorted_similar_movies:\n",
        "  index = movie[0]\n",
        "  title_from_index = df[df.index==index]['Movie_Title'].values[0]\n",
        "  if (i<31):\n",
        "    print(i,'.',title_from_index)\n",
        "    i+=1"
      ]
    }
  ],
  "metadata": {
    "colab": {
      "provenance": []
    },
    "kernelspec": {
      "display_name": "Python 3",
      "name": "python3"
    },
    "language_info": {
      "name": "python"
    }
  },
  "nbformat": 4,
  "nbformat_minor": 0
}